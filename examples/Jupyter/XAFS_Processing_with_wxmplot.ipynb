{
 "cells": [
  {
   "cell_type": "markdown",
   "metadata": {},
   "source": [
    "## XAFS Data Processing with wxPython Plotting\n",
    "\n",
    "Here we'll use Larch for XAFS data processing:\n",
    "\n",
    "  1. read data from an Athena Project File\n",
    "  2. do XAFS background subtraction with autobk()\n",
    "  3. do XAFS Fourier transform with xfft()\n",
    "\n",
    "For more details, see https://xraypy.github.io/xraylarch/xafs/\n",
    "\n",
    "Larch's normal plotting uses wxPython.  This can be used with Jupyter, displaying plots in an interactive but separate window from the browser.   This only works when running Jupyter on a local machine. If running on Jupyter hub or binder-like site, you should either use the larch plotly plotting tools or use standard matplotlib.\n",
    "\n",
    "To use Larch's wxPython functionality, you'll need to do\n",
    "\n",
    "%gui wx\n",
    "\n",
    "before doing any plotting\n",
    "\n",
    "We'll start with reading and exploring the Athena Project File:"
   ]
  },
  {
   "cell_type": "code",
   "execution_count": 11,
   "metadata": {},
   "outputs": [],
   "source": [
    "%gui wx\n",
    "from larch.wxlib import _plot as plot\n",
    "from larch.wxlib.xafsplots import plot_mu, plot_bkg, plot_chik, plot_chir\n",
    "\n",
    "from larch.io import read_athena\n",
    "project = read_athena('../xafsdata/fe_athena.prj')"
   ]
  },
  {
   "cell_type": "code",
   "execution_count": 12,
   "metadata": {},
   "outputs": [
    {
     "name": "stdout",
     "output_type": "stream",
     "text": [
      "fe2o3_rt1_xmu <Group 0x19a9c1010>\n",
      "fe3c_rt_xdi <Group 0x1998497d0>\n",
      "feo_rt1_xmu <Group 0x199849c50>\n"
     ]
    }
   ],
   "source": [
    "for name, group in project._athena_groups.items():\n",
    "    print(name, group)"
   ]
  },
  {
   "cell_type": "markdown",
   "metadata": {},
   "source": [
    "> **NOTE** For additional features of working with Athena project files -> [IO_Athena_project.ipynb](./IO_Athena_project.ipynb) "
   ]
  },
  {
   "cell_type": "markdown",
   "metadata": {},
   "source": [
    "Let's get that data group for Fe2O3 and look at what that Group object contains"
   ]
  },
  {
   "cell_type": "code",
   "execution_count": 13,
   "metadata": {},
   "outputs": [
    {
     "name": "stdout",
     "output_type": "stream",
     "text": [
      "athena_id <class 'str'>\n",
      "athena_params <class 'larch.symboltable.Group'>\n",
      "atsym <class 'str'>\n",
      "callargs <class 'larch.symboltable.Group'>\n",
      "d2mude <class 'numpy.ndarray'>\n",
      "dmude <class 'numpy.ndarray'>\n",
      "e0 <class 'numpy.float64'>\n",
      "edge <class 'str'>\n",
      "edge_step <class 'float'>\n",
      "edge_step_poly <class 'float'>\n",
      "energy <class 'numpy.ndarray'>\n",
      "epsk <class 'float'>\n",
      "epsr <class 'float'>\n",
      "filename <class 'str'>\n",
      "flat <class 'numpy.ndarray'>\n",
      "i0 <class 'numpy.ndarray'>\n",
      "journal <class 'larch.larchlib.Journal'>\n",
      "label <class 'str'>\n",
      "mu <class 'numpy.ndarray'>\n",
      "norm <class 'numpy.ndarray'>\n",
      "norm_poly <class 'numpy.ndarray'>\n",
      "post_edge <class 'numpy.ndarray'>\n",
      "pre_edge <class 'numpy.ndarray'>\n",
      "pre_edge_details <class 'larch.symboltable.Group'>\n",
      "sel <class 'int'>\n",
      "signal <class 'numpy.ndarray'>\n"
     ]
    }
   ],
   "source": [
    "fe2o3 = project.fe2o3_rt1_xmu\n",
    "fe2o3.filename = 'Fe2O3'\n",
    "for attr in dir(fe2o3):\n",
    "    print(attr, type(getattr(fe2o3, attr)))"
   ]
  },
  {
   "cell_type": "markdown",
   "metadata": {},
   "source": [
    "There are several components to this Group of data.  We note that there are arrays for `energy` and `mu`.   These are what represent $\\mu(E)$.\n",
    "\n",
    "We'll want to plot this data and the other data arrays as we go.  "
   ]
  },
  {
   "cell_type": "code",
   "execution_count": 14,
   "metadata": {},
   "outputs": [],
   "source": [
    "plot(fe2o3.energy, fe2o3.mu, xlabel='E (eV)', ylabel=r'$\\mu(E)$', new=True)\n",
    "# or plot_mu(fe2o3, new=True)"
   ]
  },
  {
   "cell_type": "markdown",
   "metadata": {},
   "source": [
    "Now let's remove the XAFS background and extract the EXAFS $\\chi(k)$.   We'll use\n",
    "the `autobk()` function (https://xraypy.github.io/xraylarch/xafs/autobk.html)\n",
    "\n",
    "Note that we pass in the *Group* as the first argument.  The `autobk()` function will add several attributes to this Group -- it will be the container for this dataset."
   ]
  },
  {
   "cell_type": "code",
   "execution_count": 15,
   "metadata": {},
   "outputs": [],
   "source": [
    "from larch.xafs import autobk\n",
    "autobk(fe2o3, rbkg=0.85, kweight=2)\n",
    "\n",
    "plot_chik(fe2o3, kweight=2)"
   ]
  },
  {
   "cell_type": "markdown",
   "metadata": {},
   "source": [
    "we can also plot the background $\\mu_0(E)$:"
   ]
  },
  {
   "cell_type": "code",
   "execution_count": 16,
   "metadata": {},
   "outputs": [],
   "source": [
    "plot_bkg(fe2o3, win=2)"
   ]
  },
  {
   "cell_type": "markdown",
   "metadata": {},
   "source": [
    "and now we will do the Fourier transform from $\\chi(k)$ to $\\chi(R)$, using the `xftf()` (XAFS Fourier Transform Forward) function.  We'll do the Fourier transform on $k^2$ weighted $\\chi(k)$ with a Kaiser-Bessel Window. "
   ]
  },
  {
   "cell_type": "code",
   "execution_count": 17,
   "metadata": {},
   "outputs": [],
   "source": [
    "from larch.xafs import xftf\n",
    "xftf(fe2o3, kweight=2, kmin=2, kmax=13.0, dk=5, kwindow='Kaiser-Bessel')"
   ]
  },
  {
   "cell_type": "code",
   "execution_count": 9,
   "metadata": {},
   "outputs": [],
   "source": [
    "plot_chik(fe2o3, kweight=2, show_window=True, new=True)"
   ]
  },
  {
   "cell_type": "markdown",
   "metadata": {},
   "source": [
    "and we can show that data as $\\chi(R)$"
   ]
  },
  {
   "cell_type": "code",
   "execution_count": 10,
   "metadata": {},
   "outputs": [],
   "source": [
    "plot_chir(fe2o3, show_mag=True, show_real=True, win=2)\n"
   ]
  },
  {
   "cell_type": "code",
   "execution_count": null,
   "metadata": {},
   "outputs": [],
   "source": []
  },
  {
   "cell_type": "code",
   "execution_count": null,
   "metadata": {},
   "outputs": [],
   "source": []
  }
 ],
 "metadata": {
  "kernelspec": {
   "display_name": "Python 3 (ipykernel)",
   "language": "python",
   "name": "python3"
  },
  "language_info": {
   "codemirror_mode": {
    "name": "ipython",
    "version": 3
   },
   "file_extension": ".py",
   "mimetype": "text/x-python",
   "name": "python",
   "nbconvert_exporter": "python",
   "pygments_lexer": "ipython3",
   "version": "3.11.5"
  }
 },
 "nbformat": 4,
 "nbformat_minor": 4
}
