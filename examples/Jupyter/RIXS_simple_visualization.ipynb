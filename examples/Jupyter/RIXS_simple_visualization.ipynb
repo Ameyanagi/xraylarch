{
 "cells": [
  {
   "cell_type": "markdown",
   "id": "cd7164de",
   "metadata": {},
   "source": [
    "# Example of visualization of RIXS data\n",
    "\n",
    "- Author: Mauro Rovezzi <mauro.rovezzi@esrf.fr>\n",
    "- Date: 2022-07-17\n",
    "- Citation: [M Rovezzi and P Glatzel 2014 Semicond. Sci. Technol. 29 023002](https://doi.org/10.1088/0268-1242/29/2/023002)\n",
    "- License: [Creative Commons Attribution-ShareAlike 4.0 International](http://creativecommons.org/licenses/by-sa/4.0/)\n",
    "\n",
    "The scope of this notebook is to show a simple workflow based on Larch for reading **Resonant Inelastic X-ray Scattering (RIXS)** data collected at a beamline, convert them to a *standard* format, visualize the RIXS plane and take line cuts. \n",
    "\n",
    "Currently, Larch does not provide a GUI (Graphical User Interface) for RIXS, but contributions for implementing are welcome.\n",
    "\n",
    "Feel free to modify and build on top Feedbacks, comments\n",
    "\n"
   ]
  },
  {
   "cell_type": "markdown",
   "id": "4a5bcb53",
   "metadata": {},
   "source": [
    "The following dataset is used for this example\n",
    "\n",
    "![Mn 1s2p RIXS plane with cuts of GaMnN sample](../rixsdata/RIXSplane_example_1s2pGaMnN.png)"
   ]
  },
  {
   "cell_type": "markdown",
   "id": "51d7ab0e",
   "metadata": {},
   "source": [
    "## Step 1: from raw data to XYZ\n",
    "\n",
    "The first step is to convert raw data collected at the beamline to a three-columns array, XYZ. The following collection modes exists:\n",
    "\n",
    "1. `rixs` (standard mode): for each emission energy $E_{out}$ (= Y axis), scan the incoming beam energy $E_{in}$ (= X axis) measuring the signal (= Z axis).\n",
    "2. `rixs_et` (energy transfer mode): for each incoming beam energy $E_{in}$, scan the emission energy by adjusting the scanning range to a given energy transfer ($E_{et} = E_{in} - E_{out}$) (Y axis).\n",
    "3. `rixs_disp` (dispersive mode): scan the incoming beam energy and collect a dispersive emission image.\n",
    "\n",
    "Here only the cases `rixs` and `rixs_et` are considered."
   ]
  },
  {
   "cell_type": "markdown",
   "id": "ab6761f2",
   "metadata": {},
   "source": [
    "### How this is done in Larch\n",
    "\n",
    "This step in Larch is done by implementing a specific *reader* function, depending how the data are collected on the beamline. Currently, the following beamlines are supported:\n",
    "\n",
    "- APS 13-ID-E, GSECARS-CAT: `from larch.io.rixs_aps_gsecars import get_rixs_13ide`\n",
    "- ESRF BM16, FAME-UHD: `from larch.io.rixs_esrf_fame import get_rixs_bm16`\n",
    "- ESRF ID26: `from larch.io.rixs_esrf_id26 import get_rixs_id26`\n",
    "\n",
    "Implementing such function is relatively easy and you are welcome to contribute it to Larch or simply provide an example of your data.\n"
   ]
  },
  {
   "cell_type": "code",
   "execution_count": null,
   "id": "89344acf",
   "metadata": {},
   "outputs": [],
   "source": []
  }
 ],
 "metadata": {
  "kernelspec": {
   "display_name": "Python 3 (ipykernel)",
   "language": "python",
   "name": "python3"
  },
  "language_info": {
   "codemirror_mode": {
    "name": "ipython",
    "version": 3
   },
   "file_extension": ".py",
   "mimetype": "text/x-python",
   "name": "python",
   "nbconvert_exporter": "python",
   "pygments_lexer": "ipython3",
   "version": "3.9.0"
  }
 },
 "nbformat": 4,
 "nbformat_minor": 5
}
