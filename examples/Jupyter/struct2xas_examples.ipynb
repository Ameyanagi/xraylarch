{
 "cells": [
  {
   "attachments": {},
   "cell_type": "markdown",
   "metadata": {},
   "source": [
    "# Struct2XAS examples: from CIF/XYZ to XANES/EXAFS simulations with FDMNES and FEFF\n",
    "\n",
    "- Authors: Beatriz G. Foschiani and Mauro Rovezzi\n",
    "- Contact: mauro.rovezzi@esrf.fr\n",
    "- Last modified: June 2023\n",
    "\n",
    "Here we provide various examples on the usage of `larch.xrd.struct2xas` module."
   ]
  },
  {
   "attachments": {},
   "cell_type": "markdown",
   "metadata": {},
   "source": [
    "## Example 1: Zn K-edge XANES simulation of wurtzite ZnO with FDMNES from a CIF file\n",
    "\n",
    "This example demonstrates how to use the `Struct2XAS` class to convert a CIF file to a FDMNES XANES input. We will simulate Zn K-edge XAS of ZnO. The experimental data are taken from the SSHADE/FAME database [DOI:10.26302/SSHADE/EXPERIMENT_ST_20180418_001](https://www.sshade.eu/data/EXPERIMENT_ST_20180418_001)"
   ]
  },
  {
   "attachments": {},
   "cell_type": "markdown",
   "metadata": {},
   "source": [
    "Import the main class and instantiate it with a CIF file and the name of the absorbing element"
   ]
  },
  {
   "cell_type": "code",
   "execution_count": 1,
   "metadata": {},
   "outputs": [
    {
     "name": "stdout",
     "output_type": "stream",
     "text": [
      "[struct2xas] INFO : Structure creation from a CIF file.\n",
      "[struct2xas] INFO : Frames: 1, Absorbing sites: 1. (Indexes for frames and abs_sites start at 0)\n"
     ]
    }
   ],
   "source": [
    "from larch.xrd.struct2xas import Struct2XAS\n",
    "mat_obj = Struct2XAS(file = \"../structuredata/struct2xas/ZnO_wurtzite_lCode82028.cif\", abs_atom=\"Zn\")"
   ]
  },
  {
   "attachments": {},
   "cell_type": "markdown",
   "metadata": {},
   "source": [
    "to get the information about absorbing site"
   ]
  },
  {
   "cell_type": "code",
   "execution_count": 4,
   "metadata": {},
   "outputs": [
    {
     "data": {
      "text/html": [
       "<style type=\"text/css\">\n",
       "</style>\n",
       "<table id=\"T_47a00\">\n",
       "  <thead>\n",
       "    <tr>\n",
       "      <th id=\"T_47a00_level0_col0\" class=\"col_heading level0 col0\" >idx_abs</th>\n",
       "      <th id=\"T_47a00_level0_col1\" class=\"col_heading level0 col1\" >specie</th>\n",
       "      <th id=\"T_47a00_level0_col2\" class=\"col_heading level0 col2\" >frac_coords</th>\n",
       "      <th id=\"T_47a00_level0_col3\" class=\"col_heading level0 col3\" >wyckoff_site</th>\n",
       "      <th id=\"T_47a00_level0_col4\" class=\"col_heading level0 col4\" >cart_coords</th>\n",
       "      <th id=\"T_47a00_level0_col5\" class=\"col_heading level0 col5\" >occupancy_abs_atom</th>\n",
       "      <th id=\"T_47a00_level0_col6\" class=\"col_heading level0 col6\" >idx_struct</th>\n",
       "    </tr>\n",
       "  </thead>\n",
       "  <tbody>\n",
       "    <tr>\n",
       "      <td id=\"T_47a00_row0_col0\" class=\"data row0 col0\" >0</td>\n",
       "      <td id=\"T_47a00_row0_col1\" class=\"data row0 col1\" >Zn2+</td>\n",
       "      <td id=\"T_47a00_row0_col2\" class=\"data row0 col2\" >[0.3333, 0.6667, 0.5]</td>\n",
       "      <td id=\"T_47a00_row0_col3\" class=\"data row0 col3\" >2b</td>\n",
       "      <td id=\"T_47a00_row0_col4\" class=\"data row0 col4\" >[0.     1.8757 2.6027]</td>\n",
       "      <td id=\"T_47a00_row0_col5\" class=\"data row0 col5\" >1</td>\n",
       "      <td id=\"T_47a00_row0_col6\" class=\"data row0 col6\" >0</td>\n",
       "    </tr>\n",
       "  </tbody>\n",
       "</table>\n"
      ],
      "text/plain": [
       "<pandas.io.formats.style.Styler at 0x7f9dc03e3dc0>"
      ]
     },
     "execution_count": 4,
     "metadata": {},
     "output_type": "execute_result"
    }
   ],
   "source": [
    "# information about absorbing site as pandas.DataFrame\n",
    "mat_obj.get_abs_sites_info()"
   ]
  },
  {
   "attachments": {},
   "cell_type": "markdown",
   "metadata": {},
   "source": [
    "the same, more programmatically"
   ]
  },
  {
   "cell_type": "code",
   "execution_count": 6,
   "metadata": {},
   "outputs": [
    {
     "data": {
      "text/plain": [
       "[[0,\n",
       "  'Zn2+',\n",
       "  [0.3333, 0.6667, 0.5],\n",
       "  '2b',\n",
       "  array([0.    , 1.8757, 2.6027]),\n",
       "  1,\n",
       "  0]]"
      ]
     },
     "execution_count": 6,
     "metadata": {},
     "output_type": "execute_result"
    }
   ],
   "source": [
    "mat_obj.get_abs_sites()"
   ]
  },
  {
   "attachments": {},
   "cell_type": "markdown",
   "metadata": {},
   "source": [
    "Getters and setters are available for changing the absorber site being considered. We can use the methods `set_abs_site` and `get_abs_site`. This structure has only one absorber site (an example with multiple sites is given later)."
   ]
  },
  {
   "cell_type": "code",
   "execution_count": 7,
   "metadata": {},
   "outputs": [
    {
     "name": "stderr",
     "output_type": "stream",
     "text": [
      "INFO [2023-06-13 12:13:26]: abs_site idx: 0 \n"
     ]
    }
   ],
   "source": [
    "mat_obj.set_abs_site(0)"
   ]
  },
  {
   "attachments": {},
   "cell_type": "markdown",
   "metadata": {},
   "source": [
    "to get information on the coordination environment around absorber atom"
   ]
  },
  {
   "cell_type": "code",
   "execution_count": 9,
   "metadata": {},
   "outputs": [
    {
     "name": "stdout",
     "output_type": "stream",
     "text": [
      "Coord. Env. from absorber atom: Zn at site 0\n",
      "(For more details use get_coord_envs() method) \n"
     ]
    },
    {
     "data": {
      "text/plain": [
       "(['T:4', 'T:5'],\n",
       "   Element  Distance\n",
       " 0   (O2-)   1.97533\n",
       " 1   (O2-)   1.97534\n",
       " 2   (O2-)   1.97534\n",
       " 3   (O2-)   1.98326\n",
       " 4   (O2-)   3.22214)"
      ]
     },
     "execution_count": 9,
     "metadata": {},
     "output_type": "execute_result"
    }
   ],
   "source": [
    "mat_obj.get_coord_envs_info()"
   ]
  },
  {
   "attachments": {},
   "cell_type": "markdown",
   "metadata": {},
   "source": [
    "or programmatically"
   ]
  },
  {
   "cell_type": "code",
   "execution_count": 10,
   "metadata": {},
   "outputs": [
    {
     "data": {
      "text/plain": [
       "[['Coord. Env. for Site 0',\n",
       "  [{'ce_symbol': 'T:4',\n",
       "    'ce_fraction': 0.8411997800440165,\n",
       "    'csm': 0.012964151865686767,\n",
       "    'permutation': [0, 1, 2, 3]},\n",
       "   {'ce_symbol': 'T:5',\n",
       "    'ce_fraction': 0.15880021995598353,\n",
       "    'csm': 3.9062261181512445,\n",
       "    'permutation': [1, 3, 4, 0, 2]}],\n",
       "  [{'site': PeriodicSite: O2- (0.0000, 1.8757, 0.6194) [0.3333, 0.6667, 0.1190],\n",
       "    'index': 2,\n",
       "    'image_cell': array([0, 0, 0])},\n",
       "   {'site': PeriodicSite: O2- (0.0000, 3.7514, 3.2221) [0.6667, 1.3333, 0.6190],\n",
       "    'index': 3,\n",
       "    'image_cell': array([0, 1, 0])},\n",
       "   {'site': PeriodicSite: O2- (1.6244, 0.9378, 3.2221) [0.6667, 0.3333, 0.6190],\n",
       "    'index': 3,\n",
       "    'image_cell': array([0, 0, 0])},\n",
       "   {'site': PeriodicSite: O2- (-1.6244, 0.9378, 3.2221) [-0.3333, 0.3333, 0.6190],\n",
       "    'index': 3,\n",
       "    'image_cell': array([-1,  0,  0])},\n",
       "   {'site': PeriodicSite: O2- (0.0000, 1.8757, 5.8248) [0.3333, 0.6667, 1.1190],\n",
       "    'index': 2,\n",
       "    'image_cell': array([0, 0, 1])}]]]"
      ]
     },
     "execution_count": 10,
     "metadata": {},
     "output_type": "execute_result"
    }
   ],
   "source": [
    "mat_obj.get_coord_envs()\n"
   ]
  },
  {
   "attachments": {},
   "cell_type": "markdown",
   "metadata": {},
   "source": [
    "It is possible to visualize the local environment at a ginen radius from the absorber"
   ]
  },
  {
   "cell_type": "code",
   "execution_count": 13,
   "metadata": {},
   "outputs": [
    {
     "data": {
      "application/3dmoljs_load.v0": "<div id=\"3dmolviewer_16866566053980157\"  style=\"position: relative; width: 600px; height: 600px\">\n        <p id=\"3dmolwarning_16866566053980157\" style=\"background-color:#ffcccc;color:black\">You appear to be running in JupyterLab (or JavaScript failed to load for some other reason).  You need to install the 3dmol extension: <br>\n        <tt>jupyter labextension install jupyterlab_3dmol</tt></p>\n        </div>\n<script>\n\nvar loadScriptAsync = function(uri){\n  return new Promise((resolve, reject) => {\n    //this is to ignore the existence of requirejs amd\n    var savedexports, savedmodule;\n    if (typeof exports !== 'undefined') savedexports = exports;\n    else exports = {}\n    if (typeof module !== 'undefined') savedmodule = module;\n    else module = {}\n\n    var tag = document.createElement('script');\n    tag.src = uri;\n    tag.async = true;\n    tag.onload = () => {\n        exports = savedexports;\n        module = savedmodule;\n        resolve();\n    };\n  var firstScriptTag = document.getElementsByTagName('script')[0];\n  firstScriptTag.parentNode.insertBefore(tag, firstScriptTag);\n});\n};\n\nif(typeof $3Dmolpromise === 'undefined') {\n$3Dmolpromise = null;\n  $3Dmolpromise = loadScriptAsync('https://cdnjs.cloudflare.com/ajax/libs/3Dmol/2.0.1/3Dmol-min.js');\n}\n\nvar viewer_16866566053980157 = null;\nvar warn = document.getElementById(\"3dmolwarning_16866566053980157\");\nif(warn) {\n    warn.parentNode.removeChild(warn);\n}\n$3Dmolpromise.then(function() {\nviewer_16866566053980157 = $3Dmol.createViewer(document.getElementById(\"3dmolviewer_16866566053980157\"),{backgroundColor:\"white\"});\nviewer_16866566053980157.zoomTo();\n\tviewer_16866566053980157.addModel(\"5\\n\\nZn 0.000000 -0.000004 0.000000\\nO 0.000000 1.875691 0.619443\\nO -1.624400 -0.937852 0.619443\\nO 1.624400 -0.937852 0.619443\\nO 0.000000 -0.000004 -1.983257\\n\",\"xyz\");\n\tviewer_16866566053980157.setStyle({\"elem\": \"O\"},{\"stick\": {\"radius\": 0.1, \"opacity\": 1, \"hidden\": false, \"color\": \"green\"}, \"sphere\": {\"color\": \"green\", \"radius\": 0.4, \"opacity\": 1}});\n\tviewer_16866566053980157.setStyle({\"elem\": \"Zn\"},{\"stick\": {\"radius\": 0.1, \"opacity\": 1, \"hidden\": false, \"color\": \"red\"}, \"sphere\": {\"color\": \"red\", \"radius\": 0.4, \"opacity\": 1}});\n\tviewer_16866566053980157.addLabel(\"Abs\",{\"fontColor\": \"black\", \"fontSize\": 14, \"backgroundColor\": \"white\", \"backgroundOpacity\": 0.8, \"showBackground\": true},{\"index\": 0});\n\tviewer_16866566053980157.zoomTo();\nviewer_16866566053980157.render();\n});\n</script>",
      "text/html": [
       "<div id=\"3dmolviewer_16866566053980157\"  style=\"position: relative; width: 600px; height: 600px\">\n",
       "        <p id=\"3dmolwarning_16866566053980157\" style=\"background-color:#ffcccc;color:black\">You appear to be running in JupyterLab (or JavaScript failed to load for some other reason).  You need to install the 3dmol extension: <br>\n",
       "        <tt>jupyter labextension install jupyterlab_3dmol</tt></p>\n",
       "        </div>\n",
       "<script>\n",
       "\n",
       "var loadScriptAsync = function(uri){\n",
       "  return new Promise((resolve, reject) => {\n",
       "    //this is to ignore the existence of requirejs amd\n",
       "    var savedexports, savedmodule;\n",
       "    if (typeof exports !== 'undefined') savedexports = exports;\n",
       "    else exports = {}\n",
       "    if (typeof module !== 'undefined') savedmodule = module;\n",
       "    else module = {}\n",
       "\n",
       "    var tag = document.createElement('script');\n",
       "    tag.src = uri;\n",
       "    tag.async = true;\n",
       "    tag.onload = () => {\n",
       "        exports = savedexports;\n",
       "        module = savedmodule;\n",
       "        resolve();\n",
       "    };\n",
       "  var firstScriptTag = document.getElementsByTagName('script')[0];\n",
       "  firstScriptTag.parentNode.insertBefore(tag, firstScriptTag);\n",
       "});\n",
       "};\n",
       "\n",
       "if(typeof $3Dmolpromise === 'undefined') {\n",
       "$3Dmolpromise = null;\n",
       "  $3Dmolpromise = loadScriptAsync('https://cdnjs.cloudflare.com/ajax/libs/3Dmol/2.0.1/3Dmol-min.js');\n",
       "}\n",
       "\n",
       "var viewer_16866566053980157 = null;\n",
       "var warn = document.getElementById(\"3dmolwarning_16866566053980157\");\n",
       "if(warn) {\n",
       "    warn.parentNode.removeChild(warn);\n",
       "}\n",
       "$3Dmolpromise.then(function() {\n",
       "viewer_16866566053980157 = $3Dmol.createViewer(document.getElementById(\"3dmolviewer_16866566053980157\"),{backgroundColor:\"white\"});\n",
       "viewer_16866566053980157.zoomTo();\n",
       "\tviewer_16866566053980157.addModel(\"5\\n\\nZn 0.000000 -0.000004 0.000000\\nO 0.000000 1.875691 0.619443\\nO -1.624400 -0.937852 0.619443\\nO 1.624400 -0.937852 0.619443\\nO 0.000000 -0.000004 -1.983257\\n\",\"xyz\");\n",
       "\tviewer_16866566053980157.setStyle({\"elem\": \"O\"},{\"stick\": {\"radius\": 0.1, \"opacity\": 1, \"hidden\": false, \"color\": \"green\"}, \"sphere\": {\"color\": \"green\", \"radius\": 0.4, \"opacity\": 1}});\n",
       "\tviewer_16866566053980157.setStyle({\"elem\": \"Zn\"},{\"stick\": {\"radius\": 0.1, \"opacity\": 1, \"hidden\": false, \"color\": \"red\"}, \"sphere\": {\"color\": \"red\", \"radius\": 0.4, \"opacity\": 1}});\n",
       "\tviewer_16866566053980157.addLabel(\"Abs\",{\"fontColor\": \"black\", \"fontSize\": 14, \"backgroundColor\": \"white\", \"backgroundOpacity\": 0.8, \"showBackground\": true},{\"index\": 0});\n",
       "\tviewer_16866566053980157.zoomTo();\n",
       "viewer_16866566053980157.render();\n",
       "});\n",
       "</script>"
      ]
     },
     "metadata": {},
     "output_type": "display_data"
    },
    {
     "name": "stderr",
     "output_type": "stream",
     "text": [
      "INFO [2023-06-13 13:43:25]: {'Zn': 'red', 'O': 'green'}\n"
     ]
    }
   ],
   "source": [
    "mat_obj.visualize(radius=2.5)"
   ]
  },
  {
   "attachments": {},
   "cell_type": "markdown",
   "metadata": {},
   "source": [
    "To create the FDMNES input file using the default template in a temporary directory"
   ]
  },
  {
   "cell_type": "code",
   "execution_count": 18,
   "metadata": {},
   "outputs": [
    {
     "name": "stderr",
     "output_type": "stream",
     "text": [
      "INFO [2023-06-13 14:17:17]: written FDMNES input -> /tmp/struct2xas-c97sdofe/fdmnes/ZnO_wurtzite_lCode82028/Zn/site0/job_inp.txt\n"
     ]
    }
   ],
   "source": [
    "mytemplate = None #: uses default FDMNES XANES template (-> `larch/xrd/templates/fdmnes.tmpl`)\n",
    "mypath = None #: creates a default structure -> \"mydir/fdmnes/input_structure/abs_atom/siteN/\"\n",
    "mat_obj.make_input_fdmnes(radius=7, green=False, template=mytemplate, parent_path=mypath)"
   ]
  },
  {
   "attachments": {},
   "cell_type": "markdown",
   "metadata": {},
   "source": [
    "Run FDMNES (refer to FDMNES documentation if needed)\n",
    "\n",
    "```python\n",
    "#Example how to run FDMNES at the ESRF via SLURM \n",
    "input = mat_ojb.parent_path\n",
    "! cd {input}; subfdmnes -c 30\n",
    "```\n",
    "\n",
    "The output files created by FDMNES will be:\n",
    "- `job.txt`: non-convoluted spectra\n",
    "- `job_conv.txt`: convoluted spectra (by fdmnes with default parameters)\n",
    "- `job_out.txt`: FDMNES output during the execution of the program (NOTE: this is created by the SLURM submission script)\n",
    "- `job_sd0.txt`: file with the projected density of states information\n",
    "- `job_bav.txt`: file with large simulation infos (better to compress it or remove)"
   ]
  },
  {
   "attachments": {},
   "cell_type": "markdown",
   "metadata": {},
   "source": [
    "Please, refer to [XANES_Convolution.ipynb](./XANES_Convolution.ipynb) for a comparison of the simulated data with experimental one."
   ]
  },
  {
   "attachments": {},
   "cell_type": "markdown",
   "metadata": {},
   "source": [
    "### Example 1a: EXAFS simulation with FEFF\n",
    "\n",
    "We can also simulate the EXAFS spectrum with FEFF"
   ]
  },
  {
   "cell_type": "code",
   "execution_count": 2,
   "metadata": {},
   "outputs": [
    {
     "name": "stdout",
     "output_type": "stream",
     "text": [
      "[struct2xas] INFO : written FEFF input in -> /tmp/struct2xas-81rtar3k/feff/ZnO_wurtzite_lCode82028/Zn/site0\n"
     ]
    }
   ],
   "source": [
    "mytemplate = None #: uses default FEFF EXAFS template (-> `larch/xrd/templates/feff_exafs.tmpl`)\n",
    "mypath = None #: creates a default structure -> \"mydir/feff/input_structure/abs_atom/siteN/\"\n",
    "mat_obj.make_input_feff(radius=7, template=mytemplate, parent_path=mypath)"
   ]
  },
  {
   "attachments": {},
   "cell_type": "markdown",
   "metadata": {},
   "source": [
    "run FEFF"
   ]
  },
  {
   "cell_type": "code",
   "execution_count": 3,
   "metadata": {},
   "outputs": [
    {
     "name": "stdout",
     "output_type": "stream",
     "text": [
      " : ======== running Feff module feff8l_rdinp ========\n",
      " : Feff8L (EXAFS)      release  0.1\n",
      " : ZnO_wurtzite_lCode82028\n",
      " : 2023-06-13_1627\n",
      " : site 0\n",
      " : ======== running Feff module feff8l_pot ========\n",
      " : Calculating potentials ...\n",
      " : free atom potential and density for atom type    0\n",
      " : free atom potential and density for atom type    1\n",
      " : free atom potential and density for atom type    2\n",
      " : initial state energy\n",
      " : overlapped potential and density for unique potential    0\n",
      " : overlapped potential and density for unique potential    1\n",
      " : overlapped potential and density for unique potential    2\n",
      " : muffin tin radii and interstitial parameters\n",
      " : : ipot, Norman radius, Muffin tin radius, Overlap\n",
      " : 0  1.40713E+00  1.28459E+00  1.15000E+00\n",
      " : 1  1.39431E+00  1.27947E+00  1.15000E+00\n",
      " : 2  1.08364E+00  9.93037E-01  1.15000E+00\n",
      " : : mu_old=    -0.892\n",
      " : Done with module 1: potentials.\n",
      " : ======== running Feff module feff8l_xsph ========\n",
      " : Calculating cross-section and phases...\n",
      " : absorption cross section\n",
      " : phase shifts for unique potential    0\n",
      " : phase shifts for unique potential    1\n",
      " : phase shifts for unique potential    2\n",
      " : Done with module 2: cross-section and phases...\n",
      " : ======== running Feff module feff8l_pathfinder ========\n",
      " : Preparing plane wave scattering amplitudes...\n",
      " : Searching for paths...\n",
      " : WARNING:  rmax > distance to most distant atom.\n",
      " : Some paths may be missing.\n",
      " : rmax, ratx   7.00000E+00  0.00000E+00\n",
      " : Rmax  7.0000  keep and heap limits   0.0000000   0.0000000\n",
      " : Preparing neighbor table\n",
      " : nfound  heapsize  maxheap  maxscatt   reff\n",
      " : 1000     1405     1405      5      5.2241\n",
      " : 2000     1920     1929      5      5.5751\n",
      " : 3000     2441     2445      5      5.8866\n",
      " : 4000     2962     2962      5      6.1193\n",
      " : 5000     3695     3695      5      6.1376\n",
      " : 6000     4021     4041      5      6.2024\n",
      " : 7000     4292     4292      5      6.4133\n",
      " : 8000     4785     4879      5      6.4702\n",
      " : 9000     4735     4879      5      6.4782\n",
      " : 10000     4740     4879      5      6.4885\n",
      " : 11000     4646     4879      5      6.4945\n",
      " : 12000     4731     4879      5      6.5040\n",
      " : 13000     5187     5198      5      6.5510\n",
      " : 14000     5184     5232      5      6.6951\n",
      " : 15000     5151     5232      5      6.7370\n",
      " : 16000     4933     5232      5      6.7818\n",
      " : 17000     4711     5232      5      6.7915\n",
      " : 18000     4379     5232      5      6.8055\n",
      " : 19000     4210     5232      5      6.8079\n",
      " : 20000     4034     5232      5      6.8079\n",
      " : 21000     3745     5232      5      6.8158\n",
      " : 22000     3513     5232      5      6.8322\n",
      " : 23000     3144     5232      5      6.8322\n",
      " : 24000     2646     5232      5      6.8455\n",
      " : 25000     2044     5232      5      6.8485\n",
      " : 26000     1647     5232      5      6.8485\n",
      " : 27000     1126     5232      5      6.8549\n",
      " : 28000      501     5232      5      6.8792\n",
      " : Paths found    28997   (maxheap, maxscatt    5232   5)\n",
      " : Eliminating path degeneracies...\n",
      " : Plane wave chi amplitude filter   2.50%\n",
      " : Unique paths    121,  total paths    1119\n",
      " : Done with module 4: pathfinder.\n",
      " : ======== running Feff module feff8l_genfmt ========\n",
      " : Calculating EXAFS parameters...\n",
      " : Curved wave chi amplitude ratio   4.00%\n",
      " : Discard feff.dat for paths with cw ratio <   2.67%\n",
      " : path  cw ratio     deg    nleg  reff\n",
      " : 1   100.000     3.000     2   1.9753\n",
      " : 2    33.031     1.000     2   1.9833\n",
      " : 3    66.386     6.000     2   3.2082\n",
      " : 4    10.133     1.000     2   3.2221\n",
      " : 5    64.391     6.000     2   3.2488\n",
      " : 6     8.608     6.000     3   3.5834\n",
      " : 7     9.377     6.000     3   3.5834\n",
      " : 8     9.387     6.000     3   3.5834\n",
      " : 9     9.427     6.000     3   3.5997\n",
      " : 10    20.443    12.000     3   3.5997\n",
      " : 11    19.747     3.000     2   3.8022\n",
      " : 12    39.380     6.000     2   3.8063\n",
      " : 13     5.286     3.000     4   3.9507\n",
      " : 14     3.518     6.000     4   3.9507\n",
      " : 15     1.687     3.000     4   3.9586 neglected\n",
      " : 16     1.691     3.000     4   3.9586 neglected\n",
      " : 17     7.357    12.000     3   4.4949\n",
      " : 18     5.756    12.000     3   4.4949\n",
      " : 19     7.143    12.000     3   4.5132\n",
      " : 20     5.674    12.000     3   4.5132\n",
      " : 21     7.089    12.000     3   4.5192\n",
      " : 22     5.636    12.000     3   4.5192\n",
      " : 23    26.934     6.000     2   4.5658\n",
      " : 24    23.860     6.000     2   4.5757\n",
      " : 25     3.726    24.000     3   4.8326\n",
      " : 26     5.860    12.000     3   4.8796\n",
      " : 27    12.047    12.000     3   4.8796\n",
      " : 28     4.021    12.000     3   4.8796\n",
      " : 29     9.534     3.000     2   4.9547\n",
      " : 30    18.568     6.000     2   5.0011\n",
      " : 31     5.087     6.000     3   5.0731\n",
      " : 32    11.479     6.000     3   5.0731\n",
      " : 33     2.542     6.000     3   5.0731 neglected\n",
      " : 34    10.192    12.000     3   5.1126\n",
      " : 35    23.136    12.000     3   5.1126\n",
      " : 36     5.267    12.000     3   5.1126\n",
      " : 37     3.171    12.000     3   5.1737\n",
      " : 38     3.415    12.000     3   5.1737\n",
      " : 39     3.645    12.000     3   5.1737\n",
      " : 40     3.330     6.000     4   5.1835\n",
      " : 41     4.588     3.000     4   5.1914\n",
      " : 42     6.288     2.000     2   5.2054\n",
      " : 43     3.727     2.000     3   5.2054\n",
      " : 44     7.335     2.000     3   5.2054\n",
      " : 45     6.885     2.000     3   5.2054\n",
      " : 46     4.283     1.000     4   5.2054\n",
      " : 47     3.954     1.000     4   5.2054\n",
      " : 48     2.166    12.000     4   5.2241 neglected\n",
      " : 49     5.457    12.000     4   5.2241\n",
      " : 50     5.417     6.000     4   5.2241\n",
      " : 51     9.369     6.000     4   5.2241\n",
      " : 52     3.116    12.000     4   5.2241\n",
      " : 53     3.271    12.000     4   5.2241\n",
      " : 54    30.723    12.000     2   5.6037\n",
      " : 55    15.183     6.000     2   5.6271\n",
      " : 56    12.792    12.000     3   5.6927\n",
      " : 57    14.759    12.000     3   5.6927\n",
      " : 58    13.035    12.000     3   5.6927\n",
      " : 59     6.616     6.000     3   5.7023\n",
      " : 60     8.307     6.000     3   5.7023\n",
      " : 61     7.356     6.000     3   5.7023\n",
      " : 62     2.936     3.000     4   5.7775\n",
      " : 63     2.406     3.000     4   5.7775 neglected\n",
      " : 64     3.297    12.000     4   5.7816\n",
      " : 65     5.020     6.000     4   5.7816\n",
      " : 66     4.066     6.000     4   5.7816\n",
      " : 67     5.659     3.000     2   5.9249\n",
      " : 68    11.084     6.000     2   5.9664\n",
      " : 69     4.313    24.000     3   6.0303\n",
      " : 70     2.601    24.000     3   6.0303 neglected\n",
      " : 71     2.575    24.000     3   6.0303 neglected\n",
      " : 72     2.487    24.000     3   6.0623 neglected\n",
      " : 73     2.930    12.000     3   6.0774\n",
      " : 74     5.136     3.000     2   6.1194\n",
      " : 75     2.824    12.000     4   6.1193\n",
      " : 76     2.776    12.000     4   6.1193\n",
      " : 77    23.735    12.000     2   6.1360\n",
      " : 78     2.828    12.000     4   6.1376\n",
      " : 79     2.850     6.000     3   6.2370\n",
      " : 80     3.067     6.000     3   6.2538\n",
      " : 81     4.679     6.000     3   6.2748\n",
      " : 82     4.789    12.000     3   6.2762\n",
      " : 83     4.379    24.000     3   6.2762\n",
      " : 84     6.142    12.000     3   6.3475\n",
      " : 85     4.959    12.000     3   6.3475\n",
      " : 86     4.830    12.000     3   6.3475\n",
      " : 87     3.168    12.000     3   6.4697\n",
      " : 88     8.613     6.000     2   6.4843\n",
      " : 89     3.288    12.000     4   6.4876\n",
      " : 90    10.051     6.000     2   6.4976\n",
      " : 91     3.298     6.000     3   6.4976\n",
      " : 92    20.362    12.000     3   6.4976\n",
      " : 93     3.545     6.000     4   6.4976\n",
      " : 94    14.836     6.000     4   6.4976\n",
      " : 95     2.315    24.000     3   6.5107 neglected\n",
      " : 96     6.242    24.000     3   6.5107\n",
      " : 97     3.070     6.000     3   6.5127\n",
      " : 98     7.437     6.000     3   6.5127\n",
      " : 99     2.920    12.000     3   6.5330\n",
      " : 100     2.834    12.000     3   6.5330\n",
      " : 101     3.368     3.000     4   6.5412\n",
      " : 102     2.902    12.000     3   6.5822\n",
      " : 103     2.562    12.000     3   6.5822 neglected\n",
      " : 104     2.563    12.000     3   6.5822 neglected\n",
      " : 105     4.608    12.000     3   6.7370\n",
      " : 106     3.801    12.000     3   6.7370\n",
      " : 107     3.894    12.000     3   6.7370\n",
      " : 108     3.814    12.000     4   6.7370\n",
      " : 109     1.679    12.000     4   6.7370 neglected\n",
      " : 110     2.684     6.000     3   6.7473\n",
      " : 111     7.585     6.000     2   6.7571\n",
      " : 112     7.468     6.000     2   6.7912\n",
      " : 113     7.460     6.000     2   6.7935\n",
      " : 114     2.620    12.000     4   6.8485 neglected\n",
      " : 115     3.145    12.000     3   6.8858\n",
      " : 116     7.271    12.000     3   6.8858\n",
      " : 117     3.081    12.000     3   6.9211\n",
      " : 118     7.102    12.000     3   6.9211\n",
      " : 119     3.069    12.000     3   6.9243\n",
      " : 120     7.070    12.000     3   6.9243\n",
      " : 121     3.509     3.000     2   6.9283\n",
      " : 108 paths kept,  121 examined.\n",
      " : Done with module 5: F_eff.\n",
      " : Note: The following floating-point exceptions are signalling: IEEE_UNDERFLOW_FLAG IEEE_DENORMAL\n",
      " : ======== running Feff module feff8l_ff2x ========\n",
      " : Calculating chi...\n",
      " : Use all paths with cw amplitude ratio   4.00%\n",
      " : S02  0.950  Global sig2  0.00000\n",
      " : Done with module 6: DW + final sum over paths.\n"
     ]
    }
   ],
   "source": [
    "#via larch\n",
    "from larch.xafs import FeffRunner\n",
    "feff_inp = f\"{mat_obj.parent_path}/feff.inp\"\n",
    "sim = FeffRunner(feff_inp)\n",
    "sim.run()"
   ]
  },
  {
   "attachments": {},
   "cell_type": "markdown",
   "metadata": {},
   "source": [
    "Note: can also be run via direct call to `feff8l`\n",
    "\n",
    "```\n",
    "! cd {mat_obj.parent_path}; feff8l\n",
    "```"
   ]
  },
  {
   "attachments": {},
   "cell_type": "markdown",
   "metadata": {},
   "source": [
    "load the simulated EXAFS"
   ]
  },
  {
   "cell_type": "code",
   "execution_count": 37,
   "metadata": {},
   "outputs": [],
   "source": [
    "import glob\n",
    "xmu = glob.glob(f\"{mat_obj.parent_path}/xmu.dat\")[0]\n",
    "from larch.io import read_ascii\n",
    "gsim = read_ascii(xmu, labels=[\"energy\", \"erel\", \"k\", \"mu\", \"mu0\", \"chi\"])"
   ]
  },
  {
   "attachments": {},
   "cell_type": "markdown",
   "metadata": {},
   "source": [
    "Load experimental data and quickly extract EXAFS"
   ]
  },
  {
   "cell_type": "code",
   "execution_count": 38,
   "metadata": {},
   "outputs": [],
   "source": [
    "gexp = read_ascii(\"../fdmnes/ZnO_SSHADE.data.txt\", labels=[\"energy\", \"mu\"])\n",
    "from larch.xafs import pre_edge, autobk\n",
    "pre_edge(gexp, e0=9661)\n",
    "autobk(gexp)"
   ]
  },
  {
   "attachments": {},
   "cell_type": "markdown",
   "metadata": {},
   "source": [
    "plot the EXAFS. *Note that the experimental EXAFS data stops at 8 $\\AA^{-1}$*"
   ]
  },
  {
   "cell_type": "code",
   "execution_count": 39,
   "metadata": {},
   "outputs": [
    {
     "data": {
      "application/vnd.plotly.v1+json": {
       "config": {
        "plotlyServerURL": "https://plot.ly"
       },
       "data": [
        {
         "line": {
          "color": "#1f77b4",
          "width": 3
         },
         "name": "FEFF simulation",
         "type": "scatter",
         "uid": "768b211f-e186-4006-80f2-e17cf6da31bd",
         "x": [
          0.35,
          0.4,
          0.44999999999999996,
          0.5,
          0.55,
          0.6,
          0.6499999999999999,
          0.7,
          0.75,
          0.8,
          0.8500000000000001,
          0.8999999999999999,
          0.95,
          1,
          1.05,
          1.1,
          1.15,
          1.2,
          1.25,
          1.3,
          1.35,
          1.4000000000000001,
          1.45,
          1.5,
          1.55,
          1.6,
          1.6500000000000001,
          1.7,
          1.75,
          1.8,
          1.85,
          1.9000000000000001,
          1.95,
          2,
          2.05,
          2.1,
          2.15,
          2.1999999999999997,
          2.25,
          2.3,
          2.3499999999999996,
          2.4,
          2.4499999999999997,
          2.5,
          2.55,
          2.5999999999999996,
          2.65,
          2.6999999999999997,
          2.75,
          2.8,
          2.8499999999999996,
          2.9,
          2.9499999999999997,
          3,
          3.05,
          3.0999999999999996,
          3.15,
          3.1999999999999997,
          3.25,
          3.3,
          3.3499999999999996,
          3.4,
          3.4499999999999997,
          3.5,
          3.55,
          3.5999999999999996,
          3.65,
          3.6999999999999997,
          3.75,
          3.8,
          3.8499999999999996,
          3.9,
          3.9499999999999997,
          4,
          4.05,
          4.1,
          4.15,
          4.2,
          4.25,
          4.3,
          4.35,
          4.3999999999999995,
          4.45,
          4.5,
          4.55,
          4.6,
          4.6499999999999995,
          4.7,
          4.75,
          4.8,
          4.85,
          4.8999999999999995,
          4.95,
          5,
          5.05,
          5.1,
          5.1499999999999995,
          5.2,
          5.25,
          5.3,
          5.35,
          5.3999999999999995,
          5.45,
          5.5,
          5.55,
          5.6,
          5.6499999999999995,
          5.7,
          5.75,
          5.8,
          5.85,
          5.8999999999999995,
          5.95,
          6,
          6.05,
          6.1,
          6.1499999999999995,
          6.2,
          6.25,
          6.3,
          6.35,
          6.3999999999999995,
          6.45,
          6.5,
          6.55,
          6.6,
          6.6499999999999995,
          6.7,
          6.75,
          6.8,
          6.85,
          6.8999999999999995,
          6.95,
          7,
          7.05,
          7.1,
          7.1499999999999995,
          7.2,
          7.25,
          7.3,
          7.35,
          7.3999999999999995,
          7.45,
          7.5,
          7.55,
          7.6,
          7.6499999999999995,
          7.7,
          7.75,
          7.8,
          7.85,
          7.8999999999999995,
          7.95,
          8,
          8.05,
          8.1,
          8.15,
          8.200000000000001,
          8.25,
          8.3,
          8.350000000000001,
          8.4,
          8.450000000000001,
          8.5,
          8.55,
          8.600000000000001,
          8.65,
          8.700000000000001,
          8.75,
          8.8,
          8.850000000000001,
          8.9,
          8.950000000000001,
          9,
          9.05,
          9.100000000000001,
          9.15,
          9.200000000000001,
          9.25,
          9.3,
          9.350000000000001,
          9.4,
          9.450000000000001,
          9.5,
          9.55,
          9.600000000000001,
          9.65,
          9.700000000000001,
          9.75,
          9.8,
          9.850000000000001,
          9.9,
          9.950000000000001,
          10,
          10.05,
          10.100000000000001,
          10.15,
          10.200000000000001,
          10.25,
          10.3,
          10.350000000000001,
          10.4,
          10.450000000000001,
          10.5,
          10.55,
          10.600000000000001,
          10.65,
          10.700000000000001,
          10.75,
          10.8,
          10.850000000000001,
          10.9,
          10.950000000000001,
          11,
          11.05,
          11.100000000000001,
          11.15,
          11.200000000000001,
          11.25,
          11.3,
          11.350000000000001,
          11.4,
          11.450000000000001,
          11.5,
          11.55,
          11.600000000000001,
          11.65,
          11.700000000000001,
          11.75,
          11.8,
          11.850000000000001,
          11.9,
          11.950000000000001,
          12,
          12.05,
          12.100000000000001,
          12.15,
          12.200000000000001,
          12.25,
          12.3,
          12.350000000000001,
          12.4,
          12.450000000000001,
          12.5,
          12.55,
          12.600000000000001,
          12.65,
          12.700000000000001,
          12.75,
          12.8,
          12.850000000000001,
          12.9,
          12.950000000000001,
          13,
          13.05,
          13.100000000000001,
          13.15,
          13.200000000000001,
          13.25,
          13.3,
          13.350000000000001,
          13.4,
          13.450000000000001,
          13.5,
          13.55,
          13.600000000000001,
          13.65,
          13.700000000000001,
          13.75,
          13.8,
          13.850000000000001,
          13.9,
          13.950000000000001,
          14,
          14.05,
          14.100000000000001,
          14.15,
          14.200000000000001,
          14.25,
          14.3,
          14.350000000000001,
          14.4,
          14.450000000000001,
          14.5,
          14.55,
          14.600000000000001,
          14.65,
          14.700000000000001,
          14.75,
          14.8,
          14.850000000000001,
          14.9,
          14.950000000000001,
          15,
          15.05,
          15.100000000000001,
          15.15,
          15.200000000000001,
          15.25,
          15.3,
          15.350000000000001,
          15.4,
          15.450000000000001,
          15.5,
          15.55,
          15.600000000000001,
          15.65,
          15.700000000000001,
          15.75,
          15.8,
          15.850000000000001,
          15.9,
          15.950000000000001,
          16,
          16.05,
          16.1,
          16.15,
          16.2,
          16.25,
          16.3,
          16.35,
          16.400000000000002,
          16.45,
          16.5,
          16.55,
          16.6,
          16.650000000000002,
          16.7,
          16.75,
          16.8,
          16.85,
          16.900000000000002,
          16.95,
          17,
          17.05,
          17.1,
          17.150000000000002,
          17.2,
          17.25,
          17.3,
          17.35,
          17.400000000000002,
          17.45,
          17.5,
          17.55,
          17.6,
          17.650000000000002,
          17.7,
          17.75,
          17.8,
          17.85,
          17.900000000000002,
          17.95,
          18,
          18.05,
          18.1,
          18.150000000000002,
          18.2,
          18.25,
          18.3,
          18.35,
          18.400000000000002,
          18.45,
          18.5,
          18.55,
          18.6,
          18.650000000000002,
          18.7,
          18.75,
          18.8,
          18.85,
          18.900000000000002,
          18.95,
          19,
          19.05,
          19.1,
          19.150000000000002,
          19.2,
          19.25,
          19.3,
          19.35,
          19.400000000000002,
          19.45,
          19.5,
          19.55,
          19.6,
          19.650000000000002,
          19.7,
          19.75,
          19.8,
          19.85,
          19.900000000000002,
          19.95,
          20,
          20.05,
          20.1,
          20.150000000000002,
          20.2,
          20.25,
          20.3
         ],
         "y": [
          0.0012620625000000002,
          0.005055080000000001,
          0.0114158475,
          0.020358920000000006,
          0.0319414375,
          0.04612203,
          0.06288059749999998,
          0.08206800000000002,
          0.10342525500000001,
          0.1266955,
          0.15119403750000002,
          0.17663904,
          0.201769945,
          0.22644761999999996,
          0.24879712499999998,
          0.26902592000000003,
          0.2846512725,
          0.29646,
          0.30159383999999995,
          0.301482,
          0.29312829,
          0.27868236,
          0.25541971499999994,
          0.22636224,
          0.189784375,
          0.14994305300000002,
          0.10721512350000002,
          0.067475548,
          0.03430249775,
          0.014816294999999998,
          0.015786178825000004,
          0.04315699200000001,
          0.10426194899999999,
          0.19883171099999997,
          0.3290686875,
          0.48264984,
          0.6502578875,
          0.80610578,
          0.92790126,
          0.98564,
          0.950294515,
          0.80695503,
          0.5573302025,
          0.21841516400000005,
          -0.21805048124999998,
          -0.6676561899999999,
          -1.0764512225000002,
          -1.40017536,
          -1.5801221100000002,
          -1.6411124999999998,
          -1.6276862925,
          -1.5922504000000002,
          -1.5814670000000002,
          -1.5817987800000002,
          -1.5885409375,
          -1.5819865599999998,
          -1.5392462400000002,
          -1.453248,
          -1.30774208,
          -1.093509,
          -0.8217214534999999,
          -0.48403744100000007,
          -0.10218190499999999,
          0.29070233600000006,
          0.6742445125,
          0.998781795,
          1.2276180525,
          1.33671748,
          1.3354605000000002,
          1.213586675,
          0.9981709304999999,
          0.7313276160000001,
          0.46185776874999995,
          0.23658647300000002,
          0.097447078125,
          0.07220361,
          0.17251166625,
          0.387403263,
          0.6881482625,
          1.0334704,
          1.38115611,
          1.6756090329999997,
          1.8757541425000004,
          1.95375348,
          1.8986035625,
          1.710504353,
          1.4096505599999998,
          1.026606592,
          0.590280841,
          0.14074074,
          -0.29308943299999995,
          -0.6926768319999999,
          -1.05485150025,
          -1.3757541550000003,
          -1.66090459375,
          -1.913953536,
          -2.1389103339999997,
          -2.3149793730000003,
          -2.4188647477500003,
          -2.4227149999999997,
          -2.3033041919999997,
          -2.045103876,
          -1.6558553722500002,
          -1.165494304,
          -0.6196242937499999,
          -0.0809831891,
          0.39322449174999996,
          0.763712064,
          1.01775913275,
          1.165444775,
          1.2428069489999998,
          1.2931735039999999,
          1.3484287457500002,
          1.418061789,
          1.47885586875,
          1.480617504,
          1.3620178552499997,
          1.0766176040000002,
          0.6125552965000001,
          0.008371764,
          -0.6420554332499999,
          -1.2154423239999999,
          -1.5842445817500002,
          -1.6525548200000002,
          -1.38516796875,
          -0.8212615109999999,
          -0.0675466391,
          0.7280066560000001,
          1.4144933205,
          1.8770745500000001,
          2.06164960575,
          1.9810478159999998,
          1.7164211592500003,
          1.37439713,
          1.04740441875,
          0.7810398399999999,
          0.5596915799999999,
          0.31557479130000005,
          -0.041671242985,
          -0.5845455,
          -1.34574986025,
          -2.240553106,
          -3.13186148275,
          -3.8406234240000003,
          -4.19254794375,
          -4.067327276,
          -3.43541502675,
          -2.371009432,
          -1.03726957175,
          0.3518589375,
          1.5848291069999998,
          2.483223696,
          2.9636847405000006,
          3.0358673730000003,
          2.78719430625,
          2.350230948,
          1.863562996,
          1.437495771,
          1.132917453,
          0.9564928,
          0.8762270037500002,
          0.821889909,
          0.720577849,
          0.5123398868,
          0.16278780375,
          -0.33035648380000004,
          -0.9354667824999999,
          -1.588630176,
          -2.1985258164999997,
          -2.6556715750000004,
          -2.846991483,
          -2.674770796,
          -2.0895529930000003,
          -1.1093126399999997,
          0.168173359375,
          1.5695694080000002,
          2.8697207354999996,
          3.8325916920000007,
          4.26106049775,
          4.043439,
          3.1797253282500004,
          1.7987408529999998,
          0.12272881275000001,
          -1.5764707839999996,
          -3.0355435937500004,
          -4.053371148000001,
          -4.52638736,
          -4.457505756000001,
          -3.938454575999999,
          -3.113218875,
          -2.1336916077500003,
          -1.126001664,
          -0.17129697630000001,
          0.6947567964,
          1.46655770625,
          2.1466092480000007,
          2.7268561714999997,
          3.1803852960000003,
          3.4658102182499992,
          3.54096,
          3.389886306,
          2.998665558,
          2.3950155687500003,
          1.629328824,
          0.762082400625,
          -0.14826926220000003,
          -1.0512723631499998,
          -1.902253184,
          -2.6542541244999995,
          -3.24983925,
          -3.6196463420000007,
          -3.6916439800000003,
          -3.41094350025,
          -2.7638916409999994,
          -1.79730889375,
          -0.6233054976000001,
          0.5955487097,
          1.679213016,
          2.47264134525,
          2.8843496,
          2.9202766515000005,
          2.641104918,
          2.16513849875,
          1.6161438719999999,
          1.079632546875,
          0.5759163763,
          0.061552549902499996,
          -0.5399071236,
          -1.2880230663749999,
          -2.175261225,
          -3.0974192865,
          -3.859867056,
          -4.222964870749999,
          -3.9755320019999996,
          -3.0134211562499997,
          -1.395978468,
          0.6422251122,
          2.733554474,
          4.464862965,
          5.4860976,
          5.620062762500001,
          4.872539441,
          3.46737204225,
          1.7675791879999996,
          0.16772935812499998,
          -1.0204676919000002,
          -1.6522304857499999,
          -1.7768198080000002,
          -1.5997498019999996,
          -1.3940921875,
          -1.392578829075,
          -1.6985256119999999,
          -2.24679591125,
          -2.828639504,
          -3.1708628437499997,
          -3.041050624000001,
          -2.3402151435,
          -1.1492291240999999,
          0.288768611775,
          1.64415875,
          2.61852014925,
          3.017229859,
          2.82954815975,
          2.2207933439999996,
          1.4657221550000001,
          0.8438042158000001,
          0.53487780255,
          0.5539443956,
          0.7499982476749999,
          0.8701107075,
          0.6657059445000001,
          0.0016931941247999998,
          -1.0728840827250001,
          -2.3208056189999997,
          -3.3836137500000003,
          -3.897792612000001,
          -3.6204195004999997,
          -2.519786857,
          -0.7985318985,
          1.1600358,
          2.91691804125,
          4.074829641,
          4.4159873265,
          3.9501074359999997,
          2.8918130625000003,
          1.5741394812,
          0.3313951977,
          -0.6057524736000001,
          -1.1669303557,
          -1.43377044,
          -1.5751449299250002,
          -1.7551573084,
          -2.052295462875,
          -2.4219583289999997,
          -2.71615903125,
          -2.7510109760000003,
          -2.39273528175,
          -1.6261766279000003,
          -0.5766498601499999,
          0.5256675,
          1.4291401740000003,
          1.9471392771,
          2.026924673625,
          1.7719358656,
          1.39922158375,
          1.1501520561,
          1.1884586839750002,
          1.5259562164,
          2.00687217255,
          2.35988926,
          2.3009925900000003,
          1.6498785888,
          0.41594943252500005,
          -1.1802828563999999,
          -2.7617542312500003,
          -3.90898794,
          -4.29527669375,
          -3.795916869,
          -2.532859274275,
          -0.83889408,
          0.8537255973,
          2.1299726357,
          2.7296900382499993,
          2.6154744155999996,
          1.965081828125,
          1.0922781590000001,
          0.32709848422500004,
          -0.1009084128,
          -0.13536213556249999,
          0.10191161475,
          0.37200068037500006,
          0.4210419020000001,
          0.08454898138499999,
          -0.6441020327999999,
          -1.604775415625,
          -2.5227542592,
          -3.101824920250001,
          -3.1244305949999993,
          -2.5242914794499995,
          -1.40764675,
          -0.011866708612000001,
          1.3547706192000002,
          2.4099515282499997,
          2.9743457759999994,
          3.0099042,
          2.6118978442000005,
          1.9623506263750001,
          1.2645437471999998,
          0.681765872375,
          0.29896768125,
          0.11554590586499999,
          0.06585156864000001,
          0.05541922970499999,
          -0.0020593554227999996,
          -0.1590652893125,
          -0.42527532160000003,
          -0.7734338151750001,
          -1.1534311426,
          -1.5068863180749998,
          -1.77729228,
          -1.91687204085,
          -1.8814937149000004,
          -1.6420921010999998,
          -1.1899035147999997,
          -0.546918600625,
          0.22546770651000006,
          1.0257005089250002,
          1.7239204351999997,
          2.1867456599999997,
          2.3098623625,
          2.04904092085,
          1.4388926148,
          0.5915243346249999,
          -0.3267363484,
          -1.1351144531250001,
          -1.6833392912000003,
          -1.8882512762750001,
          -1.7509041080999996,
          -1.3491660476249998,
          -0.80878079,
          -0.26185338758250004,
          0.19039835191000004,
          0.50048086465,
          0.6810697728,
          0.7883791299999999,
          0.8914132687999999,
          1.038906366525,
          1.2360942024,
          1.4396036825749998,
          1.572037155,
          1.5505878984500001,
          1.3191900736000002,
          0.8723009234249998,
          0.26174691241,
          -0.41594704749999994,
          -1.0472133276,
          -1.5342645116250002,
          -1.8215707580999998,
          -1.906841917575,
          -1.833288
         ]
        },
        {
         "line": {
          "color": "#d62728",
          "width": 3
         },
         "name": "EXP data",
         "type": "scatter",
         "uid": "ed5b7542-c83e-4a67-bdad-e31f5cdba773",
         "x": [
          0,
          0.05,
          0.1,
          0.15000000000000002,
          0.2,
          0.25,
          0.30000000000000004,
          0.35000000000000003,
          0.4,
          0.45,
          0.5,
          0.55,
          0.6000000000000001,
          0.65,
          0.7000000000000001,
          0.75,
          0.8,
          0.8500000000000001,
          0.9,
          0.9500000000000001,
          1,
          1.05,
          1.1,
          1.1500000000000001,
          1.2000000000000002,
          1.25,
          1.3,
          1.35,
          1.4000000000000001,
          1.4500000000000002,
          1.5,
          1.55,
          1.6,
          1.6500000000000001,
          1.7000000000000002,
          1.75,
          1.8,
          1.85,
          1.9000000000000001,
          1.9500000000000002,
          2,
          2.0500000000000003,
          2.1,
          2.15,
          2.2,
          2.25,
          2.3000000000000003,
          2.35,
          2.4000000000000004,
          2.45,
          2.5,
          2.5500000000000003,
          2.6,
          2.6500000000000004,
          2.7,
          2.75,
          2.8000000000000003,
          2.85,
          2.9000000000000004,
          2.95,
          3,
          3.0500000000000003,
          3.1,
          3.1500000000000004,
          3.2,
          3.25,
          3.3000000000000003,
          3.35,
          3.4000000000000004,
          3.45,
          3.5,
          3.5500000000000003,
          3.6,
          3.6500000000000004,
          3.7,
          3.75,
          3.8000000000000003,
          3.85,
          3.9000000000000004,
          3.95,
          4,
          4.05,
          4.1000000000000005,
          4.15,
          4.2,
          4.25,
          4.3,
          4.3500000000000005,
          4.4,
          4.45,
          4.5,
          4.55,
          4.6000000000000005,
          4.65,
          4.7,
          4.75,
          4.800000000000001,
          4.8500000000000005,
          4.9,
          4.95,
          5,
          5.050000000000001,
          5.1000000000000005,
          5.15,
          5.2,
          5.25,
          5.300000000000001,
          5.3500000000000005,
          5.4,
          5.45,
          5.5,
          5.550000000000001,
          5.6000000000000005,
          5.65,
          5.7,
          5.75,
          5.800000000000001,
          5.8500000000000005,
          5.9,
          5.95,
          6,
          6.050000000000001,
          6.1000000000000005,
          6.15,
          6.2,
          6.25,
          6.300000000000001,
          6.3500000000000005,
          6.4,
          6.45,
          6.5,
          6.550000000000001,
          6.6000000000000005,
          6.65,
          6.7,
          6.75,
          6.800000000000001,
          6.8500000000000005,
          6.9,
          6.95,
          7,
          7.050000000000001,
          7.1000000000000005,
          7.15,
          7.2,
          7.25,
          7.300000000000001,
          7.3500000000000005,
          7.4,
          7.45,
          7.5,
          7.550000000000001,
          7.6000000000000005,
          7.65,
          7.7,
          7.75,
          7.800000000000001,
          7.8500000000000005,
          7.9,
          7.95,
          8,
          8.05,
          8.1,
          8.15,
          8.200000000000001,
          8.25,
          8.3,
          8.35,
          8.4,
          8.450000000000001,
          8.5,
          8.55,
          8.6,
          8.65,
          8.700000000000001,
          8.75,
          8.8,
          8.85,
          8.9,
          8.950000000000001,
          9,
          9.05,
          9.1,
          9.15,
          9.200000000000001,
          9.25,
          9.3,
          9.35,
          9.4,
          9.450000000000001,
          9.5,
          9.55,
          9.600000000000001,
          9.65,
          9.700000000000001,
          9.75,
          9.8,
          9.850000000000001,
          9.9,
          9.950000000000001,
          10,
          10.05,
          10.100000000000001,
          10.15,
          10.200000000000001,
          10.25,
          10.3,
          10.350000000000001,
          10.4,
          10.450000000000001,
          10.5,
          10.55,
          10.600000000000001,
          10.65,
          10.700000000000001,
          10.75,
          10.8,
          10.850000000000001,
          10.9,
          10.950000000000001,
          11,
          11.05,
          11.100000000000001,
          11.15,
          11.200000000000001,
          11.25,
          11.3,
          11.350000000000001,
          11.4,
          11.450000000000001,
          11.5,
          11.55,
          11.600000000000001,
          11.65,
          11.700000000000001,
          11.75,
          11.8,
          11.850000000000001,
          11.9,
          11.950000000000001,
          12,
          12.05,
          12.100000000000001,
          12.15,
          12.200000000000001,
          12.25,
          12.3,
          12.350000000000001,
          12.4,
          12.450000000000001,
          12.5,
          12.55,
          12.600000000000001,
          12.65,
          12.700000000000001,
          12.75,
          12.8,
          12.850000000000001,
          12.9,
          12.950000000000001,
          13,
          13.05,
          13.100000000000001,
          13.15,
          13.200000000000001,
          13.25,
          13.3,
          13.350000000000001,
          13.4,
          13.450000000000001,
          13.5,
          13.55,
          13.600000000000001,
          13.65,
          13.700000000000001,
          13.75,
          13.8,
          13.850000000000001,
          13.9
         ],
         "y": [
          0,
          -0.0036617100386869056,
          -0.01408996842830517,
          -0.030026441702761628,
          -0.04981353097032791,
          -0.07160033325897913,
          -0.09354860286173228,
          -0.11403871268198498,
          -0.13187561557885383,
          -0.146494805712513,
          -0.15816827988953314,
          -0.16822790982107308,
          -0.17944538644644425,
          -0.19617713646693025,
          -0.2206550543607152,
          -0.24977294443710826,
          -0.27924294824773377,
          -0.3043864843367098,
          -0.31685013020355174,
          -0.30727229097421493,
          -0.2687289170785422,
          -0.18543989268851407,
          -0.05103349888302682,
          0.13808227143761823,
          0.3932678700762031,
          0.6882663658378616,
          1.0827083232642742,
          1.383144792599204,
          1.5308578619889812,
          1.4698783961766433,
          1.2085118129991086,
          0.860739803081949,
          0.4806335652479509,
          0.19740355808592192,
          0.04713735393576056,
          -0.15207811070335983,
          -0.48132339223588233,
          -0.7961039144564106,
          -0.9417020864712009,
          -0.8704800409513553,
          -0.6115569585885374,
          -0.11345222400312584,
          0.6081066884105526,
          1.0603184726021073,
          1.0892397669353173,
          0.8464973814596216,
          0.6430823585194424,
          0.6266304113984642,
          0.584140201179611,
          0.3650218056417284,
          0.016932465060150472,
          -0.19529860038331492,
          -0.24565651561359123,
          -0.24344318797614276,
          -0.46138650581614776,
          -0.9133683974888605,
          -1.3306650619922242,
          -1.6024060213403102,
          -1.705726964642831,
          -1.8402182887883864,
          -1.9960855500482795,
          -2.0868787073830055,
          -2.050385310349222,
          -1.7801658028358387,
          -1.4721514001837852,
          -1.1958414512943434,
          -0.9886069444149708,
          -0.7892317497707837,
          -0.5740316786206162,
          -0.34307197829247027,
          0.16048813588104185,
          0.8449250759726314,
          1.4545839984055318,
          1.986991641743469,
          2.2085162704699153,
          2.180417096700132,
          1.947608278213854,
          1.453353304237313,
          0.9372776496142121,
          0.39972103085296823,
          0.043127314480929026,
          -0.03307187223777784,
          -0.028954486186988947,
          0.13784695771232267,
          0.3563265555599249,
          0.6737365026577653,
          1.0400183839312542,
          1.5128746931938022,
          1.939628768119438,
          2.1793621980169755,
          2.3569160436930137,
          2.3026341702518605,
          2.174923160576281,
          1.7359697791802835,
          1.2512672922219632,
          0.6003057395835513,
          -0.07372214653417238,
          -0.732131169710582,
          -1.3911828172973444,
          -1.9340834666772577,
          -2.4765996197261413,
          -2.7734529824633176,
          -3.0323545310701188,
          -2.9639569505909047,
          -2.7838203283324066,
          -2.3904933190603996,
          -1.8835649120897848,
          -1.289643686642084,
          -0.6946088372137563,
          -0.14562787153281687,
          0.290620124670913,
          0.522435318558269,
          0.6118885551081205,
          0.5874464670585607,
          0.5453909831708923,
          0.5687938021321645,
          0.6695691565412748,
          0.8992471721873894,
          1.1171811054608392,
          1.2072986050517487,
          1.1280717117152497,
          0.7950100582787808,
          0.28094203143184987,
          -0.4027075513373799,
          -1.073728173165609,
          -1.5210590811012048,
          -1.7348841829663926,
          -1.6335681292548798,
          -1.2836095891386308,
          -0.688125223649513,
          0.0416866735593124,
          0.7483172394427741,
          1.3771040632875793,
          1.8033849348928142,
          2.0566158583936107,
          2.1224430148452114,
          2.0313252201914995,
          1.8138893127906164,
          1.4855921698940804,
          1.075161302487141,
          0.575967622088333,
          -0.02385635101214997,
          -0.6879595451459538,
          -1.375301860182662,
          -2.0229088167337026,
          -2.497940717240999,
          -2.820899985204535,
          -2.897641071431359,
          -2.7177724443343334,
          -2.302805750215294,
          -1.724536530150988,
          -1.0755391728703496,
          -0.3732243530910466,
          0.3177865715524852,
          0.9477927256894174,
          1.3709065595507068,
          1.6216744013052051,
          1.667200542754903,
          1.5746220110601392,
          1.497402836422582,
          1.4134626874867935,
          1.3295978578384036,
          1.244276470262295,
          1.158254371920611,
          1.071686930629487,
          0.9848927538920039,
          0.8981749067351203,
          0.8118527710415412,
          0.7262583386025946,
          0.6417451753696962,
          0.5586608381197357,
          0.4773851376001438,
          0.39830879895745974,
          0.32182309639203216,
          0.2483519238355919,
          0.1783122129942733,
          0.11190982495166722,
          0.04915521889591653,
          -0.009973050915098721,
          -0.06548133414114087,
          -0.11738682970818111,
          -0.16572846207925343,
          -0.21052970906318821,
          -0.2518335096089059,
          -0.2896837192375418,
          -0.3241329848391399,
          -0.3552401973742903,
          -0.38306440716724177,
          -0.40767857218611053,
          -0.4291926819818248,
          -0.4476506845694135,
          -0.4631337373506667,
          -0.47577941469284424,
          -0.485685552165453,
          -0.49296830398527813,
          -0.4977506278292052,
          -0.5001621798007424,
          -0.5003407038124388,
          -0.49842800005602583,
          -0.49459682798701876,
          -0.488924759412699,
          -0.4816520429596306,
          -0.47303149483304385,
          -0.46308409040650433,
          -0.45211935522642993,
          -0.4403004855890888,
          -0.427858808398721,
          -0.41502007565866617,
          -0.40191993747899496,
          -0.38896305604889897,
          -0.37616627711232486,
          -0.36348657154214437,
          -0.351005656787639,
          -0.3387105568698274,
          -0.32661187154311866,
          -0.31471056062182334,
          -0.30301173450153934,
          -0.29151344023224207,
          -0.28024198583450366,
          -0.26910452177339766,
          -0.25818743198425176,
          -0.24757996413440503,
          -0.23708862141112474,
          -0.22685654621973145,
          -0.2168358104741277,
          -0.20705854773941376,
          -0.19750240272730626,
          -0.18818557794257776,
          -0.17912110623577018,
          -0.17019352987765501,
          -0.16161411123057104,
          -0.15326135639357863,
          -0.14507401465795086,
          -0.13714876257287534,
          -0.1294615980632607,
          -0.1220233372809808,
          -0.1148251287783883,
          -0.10789451586576967,
          -0.10111317805772853,
          -0.09459123118406888,
          -0.08839188749971244,
          -0.0824427489504818,
          -0.07663727697071826,
          -0.07110926007277205,
          -0.06580387551719144,
          -0.06075294119100563,
          -0.05592805743065743,
          -0.05134920010583417,
          -0.04701319941172597,
          -0.04281885399222014,
          -0.0388512241834065,
          -0.035211852499130995,
          -0.0317872906756601,
          -0.028486866711578174,
          -0.02542249223342747,
          -0.022566871169857762,
          -0.019914607618624295,
          -0.017490437618367244,
          -0.015151288611240592,
          -0.013021051444955556,
          -0.011172236995943689,
          -0.009509364172254984,
          -0.007906788473484291,
          -0.0065139638355979045,
          -0.0052653043548872526,
          -0.004184294080354461,
          -0.0032698860619678363,
          -0.0023613443913444027,
          -0.0017370517147384137,
          -0.0012177952356727854,
          -0.0007205439023537609,
          -0.00032917629252223737,
          -0.00016071955655583753,
          -0.00007251559590186319,
          0.00004041012092924621,
          0.00005973109756062651,
          7.128442526169434e-9,
          -3.575820451273965e-9,
          2.1154726630260175e-9
         ]
        }
       ],
       "layout": {
        "height": 500,
        "hovermode": "closest",
        "legend": {
         "bgcolor": "#F2F2F2",
         "borderwidth": 0.5
        },
        "plot_bgcolor": "#FDFDFF",
        "showlegend": true,
        "template": {
         "data": {
          "bar": [
           {
            "error_x": {
             "color": "#2a3f5f"
            },
            "error_y": {
             "color": "#2a3f5f"
            },
            "marker": {
             "line": {
              "color": "#E5ECF6",
              "width": 0.5
             },
             "pattern": {
              "fillmode": "overlay",
              "size": 10,
              "solidity": 0.2
             }
            },
            "type": "bar"
           }
          ],
          "barpolar": [
           {
            "marker": {
             "line": {
              "color": "#E5ECF6",
              "width": 0.5
             },
             "pattern": {
              "fillmode": "overlay",
              "size": 10,
              "solidity": 0.2
             }
            },
            "type": "barpolar"
           }
          ],
          "carpet": [
           {
            "aaxis": {
             "endlinecolor": "#2a3f5f",
             "gridcolor": "white",
             "linecolor": "white",
             "minorgridcolor": "white",
             "startlinecolor": "#2a3f5f"
            },
            "baxis": {
             "endlinecolor": "#2a3f5f",
             "gridcolor": "white",
             "linecolor": "white",
             "minorgridcolor": "white",
             "startlinecolor": "#2a3f5f"
            },
            "type": "carpet"
           }
          ],
          "choropleth": [
           {
            "colorbar": {
             "outlinewidth": 0,
             "ticks": ""
            },
            "type": "choropleth"
           }
          ],
          "contour": [
           {
            "colorbar": {
             "outlinewidth": 0,
             "ticks": ""
            },
            "colorscale": [
             [
              0,
              "#0d0887"
             ],
             [
              0.1111111111111111,
              "#46039f"
             ],
             [
              0.2222222222222222,
              "#7201a8"
             ],
             [
              0.3333333333333333,
              "#9c179e"
             ],
             [
              0.4444444444444444,
              "#bd3786"
             ],
             [
              0.5555555555555556,
              "#d8576b"
             ],
             [
              0.6666666666666666,
              "#ed7953"
             ],
             [
              0.7777777777777778,
              "#fb9f3a"
             ],
             [
              0.8888888888888888,
              "#fdca26"
             ],
             [
              1,
              "#f0f921"
             ]
            ],
            "type": "contour"
           }
          ],
          "contourcarpet": [
           {
            "colorbar": {
             "outlinewidth": 0,
             "ticks": ""
            },
            "type": "contourcarpet"
           }
          ],
          "heatmap": [
           {
            "colorbar": {
             "outlinewidth": 0,
             "ticks": ""
            },
            "colorscale": [
             [
              0,
              "#0d0887"
             ],
             [
              0.1111111111111111,
              "#46039f"
             ],
             [
              0.2222222222222222,
              "#7201a8"
             ],
             [
              0.3333333333333333,
              "#9c179e"
             ],
             [
              0.4444444444444444,
              "#bd3786"
             ],
             [
              0.5555555555555556,
              "#d8576b"
             ],
             [
              0.6666666666666666,
              "#ed7953"
             ],
             [
              0.7777777777777778,
              "#fb9f3a"
             ],
             [
              0.8888888888888888,
              "#fdca26"
             ],
             [
              1,
              "#f0f921"
             ]
            ],
            "type": "heatmap"
           }
          ],
          "heatmapgl": [
           {
            "colorbar": {
             "outlinewidth": 0,
             "ticks": ""
            },
            "colorscale": [
             [
              0,
              "#0d0887"
             ],
             [
              0.1111111111111111,
              "#46039f"
             ],
             [
              0.2222222222222222,
              "#7201a8"
             ],
             [
              0.3333333333333333,
              "#9c179e"
             ],
             [
              0.4444444444444444,
              "#bd3786"
             ],
             [
              0.5555555555555556,
              "#d8576b"
             ],
             [
              0.6666666666666666,
              "#ed7953"
             ],
             [
              0.7777777777777778,
              "#fb9f3a"
             ],
             [
              0.8888888888888888,
              "#fdca26"
             ],
             [
              1,
              "#f0f921"
             ]
            ],
            "type": "heatmapgl"
           }
          ],
          "histogram": [
           {
            "marker": {
             "pattern": {
              "fillmode": "overlay",
              "size": 10,
              "solidity": 0.2
             }
            },
            "type": "histogram"
           }
          ],
          "histogram2d": [
           {
            "colorbar": {
             "outlinewidth": 0,
             "ticks": ""
            },
            "colorscale": [
             [
              0,
              "#0d0887"
             ],
             [
              0.1111111111111111,
              "#46039f"
             ],
             [
              0.2222222222222222,
              "#7201a8"
             ],
             [
              0.3333333333333333,
              "#9c179e"
             ],
             [
              0.4444444444444444,
              "#bd3786"
             ],
             [
              0.5555555555555556,
              "#d8576b"
             ],
             [
              0.6666666666666666,
              "#ed7953"
             ],
             [
              0.7777777777777778,
              "#fb9f3a"
             ],
             [
              0.8888888888888888,
              "#fdca26"
             ],
             [
              1,
              "#f0f921"
             ]
            ],
            "type": "histogram2d"
           }
          ],
          "histogram2dcontour": [
           {
            "colorbar": {
             "outlinewidth": 0,
             "ticks": ""
            },
            "colorscale": [
             [
              0,
              "#0d0887"
             ],
             [
              0.1111111111111111,
              "#46039f"
             ],
             [
              0.2222222222222222,
              "#7201a8"
             ],
             [
              0.3333333333333333,
              "#9c179e"
             ],
             [
              0.4444444444444444,
              "#bd3786"
             ],
             [
              0.5555555555555556,
              "#d8576b"
             ],
             [
              0.6666666666666666,
              "#ed7953"
             ],
             [
              0.7777777777777778,
              "#fb9f3a"
             ],
             [
              0.8888888888888888,
              "#fdca26"
             ],
             [
              1,
              "#f0f921"
             ]
            ],
            "type": "histogram2dcontour"
           }
          ],
          "mesh3d": [
           {
            "colorbar": {
             "outlinewidth": 0,
             "ticks": ""
            },
            "type": "mesh3d"
           }
          ],
          "parcoords": [
           {
            "line": {
             "colorbar": {
              "outlinewidth": 0,
              "ticks": ""
             }
            },
            "type": "parcoords"
           }
          ],
          "pie": [
           {
            "automargin": true,
            "type": "pie"
           }
          ],
          "scatter": [
           {
            "fillpattern": {
             "fillmode": "overlay",
             "size": 10,
             "solidity": 0.2
            },
            "type": "scatter"
           }
          ],
          "scatter3d": [
           {
            "line": {
             "colorbar": {
              "outlinewidth": 0,
              "ticks": ""
             }
            },
            "marker": {
             "colorbar": {
              "outlinewidth": 0,
              "ticks": ""
             }
            },
            "type": "scatter3d"
           }
          ],
          "scattercarpet": [
           {
            "marker": {
             "colorbar": {
              "outlinewidth": 0,
              "ticks": ""
             }
            },
            "type": "scattercarpet"
           }
          ],
          "scattergeo": [
           {
            "marker": {
             "colorbar": {
              "outlinewidth": 0,
              "ticks": ""
             }
            },
            "type": "scattergeo"
           }
          ],
          "scattergl": [
           {
            "marker": {
             "colorbar": {
              "outlinewidth": 0,
              "ticks": ""
             }
            },
            "type": "scattergl"
           }
          ],
          "scattermapbox": [
           {
            "marker": {
             "colorbar": {
              "outlinewidth": 0,
              "ticks": ""
             }
            },
            "type": "scattermapbox"
           }
          ],
          "scatterpolar": [
           {
            "marker": {
             "colorbar": {
              "outlinewidth": 0,
              "ticks": ""
             }
            },
            "type": "scatterpolar"
           }
          ],
          "scatterpolargl": [
           {
            "marker": {
             "colorbar": {
              "outlinewidth": 0,
              "ticks": ""
             }
            },
            "type": "scatterpolargl"
           }
          ],
          "scatterternary": [
           {
            "marker": {
             "colorbar": {
              "outlinewidth": 0,
              "ticks": ""
             }
            },
            "type": "scatterternary"
           }
          ],
          "surface": [
           {
            "colorbar": {
             "outlinewidth": 0,
             "ticks": ""
            },
            "colorscale": [
             [
              0,
              "#0d0887"
             ],
             [
              0.1111111111111111,
              "#46039f"
             ],
             [
              0.2222222222222222,
              "#7201a8"
             ],
             [
              0.3333333333333333,
              "#9c179e"
             ],
             [
              0.4444444444444444,
              "#bd3786"
             ],
             [
              0.5555555555555556,
              "#d8576b"
             ],
             [
              0.6666666666666666,
              "#ed7953"
             ],
             [
              0.7777777777777778,
              "#fb9f3a"
             ],
             [
              0.8888888888888888,
              "#fdca26"
             ],
             [
              1,
              "#f0f921"
             ]
            ],
            "type": "surface"
           }
          ],
          "table": [
           {
            "cells": {
             "fill": {
              "color": "#EBF0F8"
             },
             "line": {
              "color": "white"
             }
            },
            "header": {
             "fill": {
              "color": "#C8D4E3"
             },
             "line": {
              "color": "white"
             }
            },
            "type": "table"
           }
          ]
         },
         "layout": {
          "annotationdefaults": {
           "arrowcolor": "#2a3f5f",
           "arrowhead": 0,
           "arrowwidth": 1
          },
          "autotypenumbers": "strict",
          "coloraxis": {
           "colorbar": {
            "outlinewidth": 0,
            "ticks": ""
           }
          },
          "colorscale": {
           "diverging": [
            [
             0,
             "#8e0152"
            ],
            [
             0.1,
             "#c51b7d"
            ],
            [
             0.2,
             "#de77ae"
            ],
            [
             0.3,
             "#f1b6da"
            ],
            [
             0.4,
             "#fde0ef"
            ],
            [
             0.5,
             "#f7f7f7"
            ],
            [
             0.6,
             "#e6f5d0"
            ],
            [
             0.7,
             "#b8e186"
            ],
            [
             0.8,
             "#7fbc41"
            ],
            [
             0.9,
             "#4d9221"
            ],
            [
             1,
             "#276419"
            ]
           ],
           "sequential": [
            [
             0,
             "#0d0887"
            ],
            [
             0.1111111111111111,
             "#46039f"
            ],
            [
             0.2222222222222222,
             "#7201a8"
            ],
            [
             0.3333333333333333,
             "#9c179e"
            ],
            [
             0.4444444444444444,
             "#bd3786"
            ],
            [
             0.5555555555555556,
             "#d8576b"
            ],
            [
             0.6666666666666666,
             "#ed7953"
            ],
            [
             0.7777777777777778,
             "#fb9f3a"
            ],
            [
             0.8888888888888888,
             "#fdca26"
            ],
            [
             1,
             "#f0f921"
            ]
           ],
           "sequentialminus": [
            [
             0,
             "#0d0887"
            ],
            [
             0.1111111111111111,
             "#46039f"
            ],
            [
             0.2222222222222222,
             "#7201a8"
            ],
            [
             0.3333333333333333,
             "#9c179e"
            ],
            [
             0.4444444444444444,
             "#bd3786"
            ],
            [
             0.5555555555555556,
             "#d8576b"
            ],
            [
             0.6666666666666666,
             "#ed7953"
            ],
            [
             0.7777777777777778,
             "#fb9f3a"
            ],
            [
             0.8888888888888888,
             "#fdca26"
            ],
            [
             1,
             "#f0f921"
            ]
           ]
          },
          "colorway": [
           "#636efa",
           "#EF553B",
           "#00cc96",
           "#ab63fa",
           "#FFA15A",
           "#19d3f3",
           "#FF6692",
           "#B6E880",
           "#FF97FF",
           "#FECB52"
          ],
          "font": {
           "color": "#2a3f5f"
          },
          "geo": {
           "bgcolor": "white",
           "lakecolor": "white",
           "landcolor": "#E5ECF6",
           "showlakes": true,
           "showland": true,
           "subunitcolor": "white"
          },
          "hoverlabel": {
           "align": "left"
          },
          "hovermode": "closest",
          "mapbox": {
           "style": "light"
          },
          "paper_bgcolor": "white",
          "plot_bgcolor": "#E5ECF6",
          "polar": {
           "angularaxis": {
            "gridcolor": "white",
            "linecolor": "white",
            "ticks": ""
           },
           "bgcolor": "#E5ECF6",
           "radialaxis": {
            "gridcolor": "white",
            "linecolor": "white",
            "ticks": ""
           }
          },
          "scene": {
           "xaxis": {
            "backgroundcolor": "#E5ECF6",
            "gridcolor": "white",
            "gridwidth": 2,
            "linecolor": "white",
            "showbackground": true,
            "ticks": "",
            "zerolinecolor": "white"
           },
           "yaxis": {
            "backgroundcolor": "#E5ECF6",
            "gridcolor": "white",
            "gridwidth": 2,
            "linecolor": "white",
            "showbackground": true,
            "ticks": "",
            "zerolinecolor": "white"
           },
           "zaxis": {
            "backgroundcolor": "#E5ECF6",
            "gridcolor": "white",
            "gridwidth": 2,
            "linecolor": "white",
            "showbackground": true,
            "ticks": "",
            "zerolinecolor": "white"
           }
          },
          "shapedefaults": {
           "line": {
            "color": "#2a3f5f"
           }
          },
          "ternary": {
           "aaxis": {
            "gridcolor": "white",
            "linecolor": "white",
            "ticks": ""
           },
           "baxis": {
            "gridcolor": "white",
            "linecolor": "white",
            "ticks": ""
           },
           "bgcolor": "#E5ECF6",
           "caxis": {
            "gridcolor": "white",
            "linecolor": "white",
            "ticks": ""
           }
          },
          "title": {
           "x": 0.05
          },
          "xaxis": {
           "automargin": true,
           "gridcolor": "white",
           "linecolor": "white",
           "ticks": "",
           "title": {
            "standoff": 15
           },
           "zerolinecolor": "white",
           "zerolinewidth": 2
          },
          "yaxis": {
           "automargin": true,
           "gridcolor": "white",
           "linecolor": "white",
           "ticks": "",
           "title": {
            "standoff": 15
           },
           "zerolinecolor": "white",
           "zerolinewidth": 2
          }
         }
        },
        "title": {
         "text": "Wurtzite ZnO EXAFS"
        },
        "width": 800,
        "xaxis": {
         "color": "#004",
         "gridcolor": "#D8D8D8",
         "range": [
          0,
          10
         ],
         "showgrid": true,
         "title": {
          "text": "k (Å^-1)"
         },
         "zerolinecolor": "#DDD"
        },
        "yaxis": {
         "color": "#004",
         "gridcolor": "#D8D8D8",
         "showgrid": true,
         "title": {
          "text": "chi(k) * k^2"
         },
         "zerolinecolor": "#DDD"
        }
       }
      },
      "text/html": [
       "<div>                            <div id=\"6590bf09-27bd-443d-a76a-79667fc1606f\" class=\"plotly-graph-div\" style=\"height:500px; width:800px;\"></div>            <script type=\"text/javascript\">                require([\"plotly\"], function(Plotly) {                    window.PLOTLYENV=window.PLOTLYENV || {};                                    if (document.getElementById(\"6590bf09-27bd-443d-a76a-79667fc1606f\")) {                    Plotly.newPlot(                        \"6590bf09-27bd-443d-a76a-79667fc1606f\",                        [{\"line\":{\"color\":\"#1f77b4\",\"width\":3},\"name\":\"FEFF simulation\",\"x\":[0.35,0.4,0.44999999999999996,0.5,0.55,0.6,0.6499999999999999,0.7,0.75,0.8,0.8500000000000001,0.8999999999999999,0.95,1.0,1.05,1.1,1.15,1.2,1.25,1.3,1.35,1.4000000000000001,1.45,1.5,1.55,1.6,1.6500000000000001,1.7,1.75,1.8,1.85,1.9000000000000001,1.95,2.0,2.05,2.1,2.15,2.1999999999999997,2.25,2.3,2.3499999999999996,2.4,2.4499999999999997,2.5,2.55,2.5999999999999996,2.65,2.6999999999999997,2.75,2.8,2.8499999999999996,2.9,2.9499999999999997,3.0,3.05,3.0999999999999996,3.15,3.1999999999999997,3.25,3.3,3.3499999999999996,3.4,3.4499999999999997,3.5,3.55,3.5999999999999996,3.65,3.6999999999999997,3.75,3.8,3.8499999999999996,3.9,3.9499999999999997,4.0,4.05,4.1,4.15,4.2,4.25,4.3,4.35,4.3999999999999995,4.45,4.5,4.55,4.6,4.6499999999999995,4.7,4.75,4.8,4.85,4.8999999999999995,4.95,5.0,5.05,5.1,5.1499999999999995,5.2,5.25,5.3,5.35,5.3999999999999995,5.45,5.5,5.55,5.6,5.6499999999999995,5.7,5.75,5.8,5.85,5.8999999999999995,5.95,6.0,6.05,6.1,6.1499999999999995,6.2,6.25,6.3,6.35,6.3999999999999995,6.45,6.5,6.55,6.6,6.6499999999999995,6.7,6.75,6.8,6.85,6.8999999999999995,6.95,7.0,7.05,7.1,7.1499999999999995,7.2,7.25,7.3,7.35,7.3999999999999995,7.45,7.5,7.55,7.6,7.6499999999999995,7.7,7.75,7.8,7.85,7.8999999999999995,7.95,8.0,8.05,8.1,8.15,8.200000000000001,8.25,8.3,8.350000000000001,8.4,8.450000000000001,8.5,8.55,8.600000000000001,8.65,8.700000000000001,8.75,8.8,8.850000000000001,8.9,8.950000000000001,9.0,9.05,9.100000000000001,9.15,9.200000000000001,9.25,9.3,9.350000000000001,9.4,9.450000000000001,9.5,9.55,9.600000000000001,9.65,9.700000000000001,9.75,9.8,9.850000000000001,9.9,9.950000000000001,10.0,10.05,10.100000000000001,10.15,10.200000000000001,10.25,10.3,10.350000000000001,10.4,10.450000000000001,10.5,10.55,10.600000000000001,10.65,10.700000000000001,10.75,10.8,10.850000000000001,10.9,10.950000000000001,11.0,11.05,11.100000000000001,11.15,11.200000000000001,11.25,11.3,11.350000000000001,11.4,11.450000000000001,11.5,11.55,11.600000000000001,11.65,11.700000000000001,11.75,11.8,11.850000000000001,11.9,11.950000000000001,12.0,12.05,12.100000000000001,12.15,12.200000000000001,12.25,12.3,12.350000000000001,12.4,12.450000000000001,12.5,12.55,12.600000000000001,12.65,12.700000000000001,12.75,12.8,12.850000000000001,12.9,12.950000000000001,13.0,13.05,13.100000000000001,13.15,13.200000000000001,13.25,13.3,13.350000000000001,13.4,13.450000000000001,13.5,13.55,13.600000000000001,13.65,13.700000000000001,13.75,13.8,13.850000000000001,13.9,13.950000000000001,14.0,14.05,14.100000000000001,14.15,14.200000000000001,14.25,14.3,14.350000000000001,14.4,14.450000000000001,14.5,14.55,14.600000000000001,14.65,14.700000000000001,14.75,14.8,14.850000000000001,14.9,14.950000000000001,15.0,15.05,15.100000000000001,15.15,15.200000000000001,15.25,15.3,15.350000000000001,15.4,15.450000000000001,15.5,15.55,15.600000000000001,15.65,15.700000000000001,15.75,15.8,15.850000000000001,15.9,15.950000000000001,16.0,16.05,16.1,16.15,16.2,16.25,16.3,16.35,16.400000000000002,16.45,16.5,16.55,16.6,16.650000000000002,16.7,16.75,16.8,16.85,16.900000000000002,16.95,17.0,17.05,17.1,17.150000000000002,17.2,17.25,17.3,17.35,17.400000000000002,17.45,17.5,17.55,17.6,17.650000000000002,17.7,17.75,17.8,17.85,17.900000000000002,17.95,18.0,18.05,18.1,18.150000000000002,18.2,18.25,18.3,18.35,18.400000000000002,18.45,18.5,18.55,18.6,18.650000000000002,18.7,18.75,18.8,18.85,18.900000000000002,18.95,19.0,19.05,19.1,19.150000000000002,19.2,19.25,19.3,19.35,19.400000000000002,19.45,19.5,19.55,19.6,19.650000000000002,19.7,19.75,19.8,19.85,19.900000000000002,19.95,20.0,20.05,20.1,20.150000000000002,20.2,20.25,20.3],\"y\":[0.0012620625000000002,0.005055080000000001,0.0114158475,0.020358920000000006,0.0319414375,0.04612203,0.06288059749999998,0.08206800000000002,0.10342525500000001,0.1266955,0.15119403750000002,0.17663904,0.201769945,0.22644761999999996,0.24879712499999998,0.26902592000000003,0.2846512725,0.29646,0.30159383999999995,0.301482,0.29312829,0.27868236,0.25541971499999994,0.22636224,0.189784375,0.14994305300000002,0.10721512350000002,0.067475548,0.03430249775,0.014816294999999998,0.015786178825000004,0.04315699200000001,0.10426194899999999,0.19883171099999997,0.3290686875,0.48264984,0.6502578875,0.80610578,0.92790126,0.98564,0.950294515,0.80695503,0.5573302025,0.21841516400000005,-0.21805048124999998,-0.6676561899999999,-1.0764512225000002,-1.40017536,-1.5801221100000002,-1.6411124999999998,-1.6276862925,-1.5922504000000002,-1.5814670000000002,-1.5817987800000002,-1.5885409375,-1.5819865599999998,-1.5392462400000002,-1.453248,-1.30774208,-1.093509,-0.8217214534999999,-0.48403744100000007,-0.10218190499999999,0.29070233600000006,0.6742445125,0.998781795,1.2276180525,1.33671748,1.3354605000000002,1.213586675,0.9981709304999999,0.7313276160000001,0.46185776874999995,0.23658647300000002,0.097447078125,0.07220361,0.17251166625,0.387403263,0.6881482625,1.0334704,1.38115611,1.6756090329999997,1.8757541425000004,1.95375348,1.8986035625,1.710504353,1.4096505599999998,1.026606592,0.590280841,0.14074074,-0.29308943299999995,-0.6926768319999999,-1.05485150025,-1.3757541550000003,-1.66090459375,-1.913953536,-2.1389103339999997,-2.3149793730000003,-2.4188647477500003,-2.4227149999999997,-2.3033041919999997,-2.045103876,-1.6558553722500002,-1.165494304,-0.6196242937499999,-0.0809831891,0.39322449174999996,0.763712064,1.01775913275,1.165444775,1.2428069489999998,1.2931735039999999,1.3484287457500002,1.418061789,1.47885586875,1.480617504,1.3620178552499997,1.0766176040000002,0.6125552965000001,0.008371764,-0.6420554332499999,-1.2154423239999999,-1.5842445817500002,-1.6525548200000002,-1.38516796875,-0.8212615109999999,-0.0675466391,0.7280066560000001,1.4144933205,1.8770745500000001,2.06164960575,1.9810478159999998,1.7164211592500003,1.37439713,1.04740441875,0.7810398399999999,0.5596915799999999,0.31557479130000005,-0.041671242985,-0.5845455,-1.34574986025,-2.240553106,-3.13186148275,-3.8406234240000003,-4.19254794375,-4.067327276,-3.43541502675,-2.371009432,-1.03726957175,0.3518589375,1.5848291069999998,2.483223696,2.9636847405000006,3.0358673730000003,2.78719430625,2.350230948,1.863562996,1.437495771,1.132917453,0.9564928,0.8762270037500002,0.821889909,0.720577849,0.5123398868,0.16278780375,-0.33035648380000004,-0.9354667824999999,-1.588630176,-2.1985258164999997,-2.6556715750000004,-2.846991483,-2.674770796,-2.0895529930000003,-1.1093126399999997,0.168173359375,1.5695694080000002,2.8697207354999996,3.8325916920000007,4.26106049775,4.043439,3.1797253282500004,1.7987408529999998,0.12272881275000001,-1.5764707839999996,-3.0355435937500004,-4.053371148000001,-4.52638736,-4.457505756000001,-3.938454575999999,-3.113218875,-2.1336916077500003,-1.126001664,-0.17129697630000001,0.6947567964,1.46655770625,2.1466092480000007,2.7268561714999997,3.1803852960000003,3.4658102182499992,3.54096,3.389886306,2.998665558,2.3950155687500003,1.629328824,0.762082400625,-0.14826926220000003,-1.0512723631499998,-1.902253184,-2.6542541244999995,-3.24983925,-3.6196463420000007,-3.6916439800000003,-3.41094350025,-2.7638916409999994,-1.79730889375,-0.6233054976000001,0.5955487097,1.679213016,2.47264134525,2.8843496,2.9202766515000005,2.641104918,2.16513849875,1.6161438719999999,1.079632546875,0.5759163763,0.061552549902499996,-0.5399071236,-1.2880230663749999,-2.175261225,-3.0974192865,-3.859867056,-4.222964870749999,-3.9755320019999996,-3.0134211562499997,-1.395978468,0.6422251122,2.733554474,4.464862965,5.4860976,5.620062762500001,4.872539441,3.46737204225,1.7675791879999996,0.16772935812499998,-1.0204676919000002,-1.6522304857499999,-1.7768198080000002,-1.5997498019999996,-1.3940921875,-1.392578829075,-1.6985256119999999,-2.24679591125,-2.828639504,-3.1708628437499997,-3.041050624000001,-2.3402151435,-1.1492291240999999,0.288768611775,1.64415875,2.61852014925,3.017229859,2.82954815975,2.2207933439999996,1.4657221550000001,0.8438042158000001,0.53487780255,0.5539443956,0.7499982476749999,0.8701107075,0.6657059445000001,0.0016931941247999998,-1.0728840827250001,-2.3208056189999997,-3.3836137500000003,-3.897792612000001,-3.6204195004999997,-2.519786857,-0.7985318985,1.1600358,2.91691804125,4.074829641,4.4159873265,3.9501074359999997,2.8918130625000003,1.5741394812,0.3313951977,-0.6057524736000001,-1.1669303557,-1.43377044,-1.5751449299250002,-1.7551573084,-2.052295462875,-2.4219583289999997,-2.71615903125,-2.7510109760000003,-2.39273528175,-1.6261766279000003,-0.5766498601499999,0.5256675,1.4291401740000003,1.9471392771,2.026924673625,1.7719358656,1.39922158375,1.1501520561,1.1884586839750002,1.5259562164,2.00687217255,2.35988926,2.3009925900000003,1.6498785888,0.41594943252500005,-1.1802828563999999,-2.7617542312500003,-3.90898794,-4.29527669375,-3.795916869,-2.532859274275,-0.83889408,0.8537255973,2.1299726357,2.7296900382499993,2.6154744155999996,1.965081828125,1.0922781590000001,0.32709848422500004,-0.1009084128,-0.13536213556249999,0.10191161475,0.37200068037500006,0.4210419020000001,0.08454898138499999,-0.6441020327999999,-1.604775415625,-2.5227542592,-3.101824920250001,-3.1244305949999993,-2.5242914794499995,-1.40764675,-0.011866708612000001,1.3547706192000002,2.4099515282499997,2.9743457759999994,3.0099042,2.6118978442000005,1.9623506263750001,1.2645437471999998,0.681765872375,0.29896768125,0.11554590586499999,0.06585156864000001,0.05541922970499999,-0.0020593554227999996,-0.1590652893125,-0.42527532160000003,-0.7734338151750001,-1.1534311426,-1.5068863180749998,-1.77729228,-1.91687204085,-1.8814937149000004,-1.6420921010999998,-1.1899035147999997,-0.546918600625,0.22546770651000006,1.0257005089250002,1.7239204351999997,2.1867456599999997,2.3098623625,2.04904092085,1.4388926148,0.5915243346249999,-0.3267363484,-1.1351144531250001,-1.6833392912000003,-1.8882512762750001,-1.7509041080999996,-1.3491660476249998,-0.80878079,-0.26185338758250004,0.19039835191000004,0.50048086465,0.6810697728,0.7883791299999999,0.8914132687999999,1.038906366525,1.2360942024,1.4396036825749998,1.572037155,1.5505878984500001,1.3191900736000002,0.8723009234249998,0.26174691241,-0.41594704749999994,-1.0472133276,-1.5342645116250002,-1.8215707580999998,-1.906841917575,-1.833288],\"type\":\"scatter\",\"uid\":\"768b211f-e186-4006-80f2-e17cf6da31bd\"},{\"line\":{\"color\":\"#d62728\",\"width\":3},\"name\":\"EXP data\",\"x\":[0.0,0.05,0.1,0.15000000000000002,0.2,0.25,0.30000000000000004,0.35000000000000003,0.4,0.45,0.5,0.55,0.6000000000000001,0.65,0.7000000000000001,0.75,0.8,0.8500000000000001,0.9,0.9500000000000001,1.0,1.05,1.1,1.1500000000000001,1.2000000000000002,1.25,1.3,1.35,1.4000000000000001,1.4500000000000002,1.5,1.55,1.6,1.6500000000000001,1.7000000000000002,1.75,1.8,1.85,1.9000000000000001,1.9500000000000002,2.0,2.0500000000000003,2.1,2.15,2.2,2.25,2.3000000000000003,2.35,2.4000000000000004,2.45,2.5,2.5500000000000003,2.6,2.6500000000000004,2.7,2.75,2.8000000000000003,2.85,2.9000000000000004,2.95,3.0,3.0500000000000003,3.1,3.1500000000000004,3.2,3.25,3.3000000000000003,3.35,3.4000000000000004,3.45,3.5,3.5500000000000003,3.6,3.6500000000000004,3.7,3.75,3.8000000000000003,3.85,3.9000000000000004,3.95,4.0,4.05,4.1000000000000005,4.15,4.2,4.25,4.3,4.3500000000000005,4.4,4.45,4.5,4.55,4.6000000000000005,4.65,4.7,4.75,4.800000000000001,4.8500000000000005,4.9,4.95,5.0,5.050000000000001,5.1000000000000005,5.15,5.2,5.25,5.300000000000001,5.3500000000000005,5.4,5.45,5.5,5.550000000000001,5.6000000000000005,5.65,5.7,5.75,5.800000000000001,5.8500000000000005,5.9,5.95,6.0,6.050000000000001,6.1000000000000005,6.15,6.2,6.25,6.300000000000001,6.3500000000000005,6.4,6.45,6.5,6.550000000000001,6.6000000000000005,6.65,6.7,6.75,6.800000000000001,6.8500000000000005,6.9,6.95,7.0,7.050000000000001,7.1000000000000005,7.15,7.2,7.25,7.300000000000001,7.3500000000000005,7.4,7.45,7.5,7.550000000000001,7.6000000000000005,7.65,7.7,7.75,7.800000000000001,7.8500000000000005,7.9,7.95,8.0,8.05,8.1,8.15,8.200000000000001,8.25,8.3,8.35,8.4,8.450000000000001,8.5,8.55,8.6,8.65,8.700000000000001,8.75,8.8,8.85,8.9,8.950000000000001,9.0,9.05,9.1,9.15,9.200000000000001,9.25,9.3,9.35,9.4,9.450000000000001,9.5,9.55,9.600000000000001,9.65,9.700000000000001,9.75,9.8,9.850000000000001,9.9,9.950000000000001,10.0,10.05,10.100000000000001,10.15,10.200000000000001,10.25,10.3,10.350000000000001,10.4,10.450000000000001,10.5,10.55,10.600000000000001,10.65,10.700000000000001,10.75,10.8,10.850000000000001,10.9,10.950000000000001,11.0,11.05,11.100000000000001,11.15,11.200000000000001,11.25,11.3,11.350000000000001,11.4,11.450000000000001,11.5,11.55,11.600000000000001,11.65,11.700000000000001,11.75,11.8,11.850000000000001,11.9,11.950000000000001,12.0,12.05,12.100000000000001,12.15,12.200000000000001,12.25,12.3,12.350000000000001,12.4,12.450000000000001,12.5,12.55,12.600000000000001,12.65,12.700000000000001,12.75,12.8,12.850000000000001,12.9,12.950000000000001,13.0,13.05,13.100000000000001,13.15,13.200000000000001,13.25,13.3,13.350000000000001,13.4,13.450000000000001,13.5,13.55,13.600000000000001,13.65,13.700000000000001,13.75,13.8,13.850000000000001,13.9],\"y\":[-0.0,-0.0036617100386869056,-0.01408996842830517,-0.030026441702761628,-0.04981353097032791,-0.07160033325897913,-0.09354860286173228,-0.11403871268198498,-0.13187561557885383,-0.146494805712513,-0.15816827988953314,-0.16822790982107308,-0.17944538644644425,-0.19617713646693025,-0.2206550543607152,-0.24977294443710826,-0.27924294824773377,-0.3043864843367098,-0.31685013020355174,-0.30727229097421493,-0.2687289170785422,-0.18543989268851407,-0.05103349888302682,0.13808227143761823,0.3932678700762031,0.6882663658378616,1.0827083232642742,1.383144792599204,1.5308578619889812,1.4698783961766433,1.2085118129991086,0.860739803081949,0.4806335652479509,0.19740355808592192,0.04713735393576056,-0.15207811070335983,-0.48132339223588233,-0.7961039144564106,-0.9417020864712009,-0.8704800409513553,-0.6115569585885374,-0.11345222400312584,0.6081066884105526,1.0603184726021073,1.0892397669353173,0.8464973814596216,0.6430823585194424,0.6266304113984642,0.584140201179611,0.3650218056417284,0.016932465060150472,-0.19529860038331492,-0.24565651561359123,-0.24344318797614276,-0.46138650581614776,-0.9133683974888605,-1.3306650619922242,-1.6024060213403102,-1.705726964642831,-1.8402182887883864,-1.9960855500482795,-2.0868787073830055,-2.050385310349222,-1.7801658028358387,-1.4721514001837852,-1.1958414512943434,-0.9886069444149708,-0.7892317497707837,-0.5740316786206162,-0.34307197829247027,0.16048813588104185,0.8449250759726314,1.4545839984055318,1.986991641743469,2.2085162704699153,2.180417096700132,1.947608278213854,1.453353304237313,0.9372776496142121,0.39972103085296823,0.043127314480929026,-0.03307187223777784,-0.028954486186988947,0.13784695771232267,0.3563265555599249,0.6737365026577653,1.0400183839312542,1.5128746931938022,1.939628768119438,2.1793621980169755,2.3569160436930137,2.3026341702518605,2.174923160576281,1.7359697791802835,1.2512672922219632,0.6003057395835513,-0.07372214653417238,-0.732131169710582,-1.3911828172973444,-1.9340834666772577,-2.4765996197261413,-2.7734529824633176,-3.0323545310701188,-2.9639569505909047,-2.7838203283324066,-2.3904933190603996,-1.8835649120897848,-1.289643686642084,-0.6946088372137563,-0.14562787153281687,0.290620124670913,0.522435318558269,0.6118885551081205,0.5874464670585607,0.5453909831708923,0.5687938021321645,0.6695691565412748,0.8992471721873894,1.1171811054608392,1.2072986050517487,1.1280717117152497,0.7950100582787808,0.28094203143184987,-0.4027075513373799,-1.073728173165609,-1.5210590811012048,-1.7348841829663926,-1.6335681292548798,-1.2836095891386308,-0.688125223649513,0.0416866735593124,0.7483172394427741,1.3771040632875793,1.8033849348928142,2.0566158583936107,2.1224430148452114,2.0313252201914995,1.8138893127906164,1.4855921698940804,1.075161302487141,0.575967622088333,-0.02385635101214997,-0.6879595451459538,-1.375301860182662,-2.0229088167337026,-2.497940717240999,-2.820899985204535,-2.897641071431359,-2.7177724443343334,-2.302805750215294,-1.724536530150988,-1.0755391728703496,-0.3732243530910466,0.3177865715524852,0.9477927256894174,1.3709065595507068,1.6216744013052051,1.667200542754903,1.5746220110601392,1.497402836422582,1.4134626874867935,1.3295978578384036,1.244276470262295,1.158254371920611,1.071686930629487,0.9848927538920039,0.8981749067351203,0.8118527710415412,0.7262583386025946,0.6417451753696962,0.5586608381197357,0.4773851376001438,0.39830879895745974,0.32182309639203216,0.2483519238355919,0.1783122129942733,0.11190982495166722,0.04915521889591653,-0.009973050915098721,-0.06548133414114087,-0.11738682970818111,-0.16572846207925343,-0.21052970906318821,-0.2518335096089059,-0.2896837192375418,-0.3241329848391399,-0.3552401973742903,-0.38306440716724177,-0.40767857218611053,-0.4291926819818248,-0.4476506845694135,-0.4631337373506667,-0.47577941469284424,-0.485685552165453,-0.49296830398527813,-0.4977506278292052,-0.5001621798007424,-0.5003407038124388,-0.49842800005602583,-0.49459682798701876,-0.488924759412699,-0.4816520429596306,-0.47303149483304385,-0.46308409040650433,-0.45211935522642993,-0.4403004855890888,-0.427858808398721,-0.41502007565866617,-0.40191993747899496,-0.38896305604889897,-0.37616627711232486,-0.36348657154214437,-0.351005656787639,-0.3387105568698274,-0.32661187154311866,-0.31471056062182334,-0.30301173450153934,-0.29151344023224207,-0.28024198583450366,-0.26910452177339766,-0.25818743198425176,-0.24757996413440503,-0.23708862141112474,-0.22685654621973145,-0.2168358104741277,-0.20705854773941376,-0.19750240272730626,-0.18818557794257776,-0.17912110623577018,-0.17019352987765501,-0.16161411123057104,-0.15326135639357863,-0.14507401465795086,-0.13714876257287534,-0.1294615980632607,-0.1220233372809808,-0.1148251287783883,-0.10789451586576967,-0.10111317805772853,-0.09459123118406888,-0.08839188749971244,-0.0824427489504818,-0.07663727697071826,-0.07110926007277205,-0.06580387551719144,-0.06075294119100563,-0.05592805743065743,-0.05134920010583417,-0.04701319941172597,-0.04281885399222014,-0.0388512241834065,-0.035211852499130995,-0.0317872906756601,-0.028486866711578174,-0.02542249223342747,-0.022566871169857762,-0.019914607618624295,-0.017490437618367244,-0.015151288611240592,-0.013021051444955556,-0.011172236995943689,-0.009509364172254984,-0.007906788473484291,-0.0065139638355979045,-0.0052653043548872526,-0.004184294080354461,-0.0032698860619678363,-0.0023613443913444027,-0.0017370517147384137,-0.0012177952356727854,-0.0007205439023537609,-0.00032917629252223737,-0.00016071955655583753,-0.00007251559590186319,0.00004041012092924621,0.00005973109756062651,7.128442526169434e-9,-3.575820451273965e-9,2.1154726630260175e-9],\"type\":\"scatter\",\"uid\":\"ed5b7542-c83e-4a67-bdad-e31f5cdba773\"}],                        {\"template\":{\"data\":{\"barpolar\":[{\"marker\":{\"line\":{\"color\":\"#E5ECF6\",\"width\":0.5},\"pattern\":{\"fillmode\":\"overlay\",\"size\":10,\"solidity\":0.2}},\"type\":\"barpolar\"}],\"bar\":[{\"error_x\":{\"color\":\"#2a3f5f\"},\"error_y\":{\"color\":\"#2a3f5f\"},\"marker\":{\"line\":{\"color\":\"#E5ECF6\",\"width\":0.5},\"pattern\":{\"fillmode\":\"overlay\",\"size\":10,\"solidity\":0.2}},\"type\":\"bar\"}],\"carpet\":[{\"aaxis\":{\"endlinecolor\":\"#2a3f5f\",\"gridcolor\":\"white\",\"linecolor\":\"white\",\"minorgridcolor\":\"white\",\"startlinecolor\":\"#2a3f5f\"},\"baxis\":{\"endlinecolor\":\"#2a3f5f\",\"gridcolor\":\"white\",\"linecolor\":\"white\",\"minorgridcolor\":\"white\",\"startlinecolor\":\"#2a3f5f\"},\"type\":\"carpet\"}],\"choropleth\":[{\"colorbar\":{\"outlinewidth\":0,\"ticks\":\"\"},\"type\":\"choropleth\"}],\"contourcarpet\":[{\"colorbar\":{\"outlinewidth\":0,\"ticks\":\"\"},\"type\":\"contourcarpet\"}],\"contour\":[{\"colorbar\":{\"outlinewidth\":0,\"ticks\":\"\"},\"colorscale\":[[0.0,\"#0d0887\"],[0.1111111111111111,\"#46039f\"],[0.2222222222222222,\"#7201a8\"],[0.3333333333333333,\"#9c179e\"],[0.4444444444444444,\"#bd3786\"],[0.5555555555555556,\"#d8576b\"],[0.6666666666666666,\"#ed7953\"],[0.7777777777777778,\"#fb9f3a\"],[0.8888888888888888,\"#fdca26\"],[1.0,\"#f0f921\"]],\"type\":\"contour\"}],\"heatmapgl\":[{\"colorbar\":{\"outlinewidth\":0,\"ticks\":\"\"},\"colorscale\":[[0.0,\"#0d0887\"],[0.1111111111111111,\"#46039f\"],[0.2222222222222222,\"#7201a8\"],[0.3333333333333333,\"#9c179e\"],[0.4444444444444444,\"#bd3786\"],[0.5555555555555556,\"#d8576b\"],[0.6666666666666666,\"#ed7953\"],[0.7777777777777778,\"#fb9f3a\"],[0.8888888888888888,\"#fdca26\"],[1.0,\"#f0f921\"]],\"type\":\"heatmapgl\"}],\"heatmap\":[{\"colorbar\":{\"outlinewidth\":0,\"ticks\":\"\"},\"colorscale\":[[0.0,\"#0d0887\"],[0.1111111111111111,\"#46039f\"],[0.2222222222222222,\"#7201a8\"],[0.3333333333333333,\"#9c179e\"],[0.4444444444444444,\"#bd3786\"],[0.5555555555555556,\"#d8576b\"],[0.6666666666666666,\"#ed7953\"],[0.7777777777777778,\"#fb9f3a\"],[0.8888888888888888,\"#fdca26\"],[1.0,\"#f0f921\"]],\"type\":\"heatmap\"}],\"histogram2dcontour\":[{\"colorbar\":{\"outlinewidth\":0,\"ticks\":\"\"},\"colorscale\":[[0.0,\"#0d0887\"],[0.1111111111111111,\"#46039f\"],[0.2222222222222222,\"#7201a8\"],[0.3333333333333333,\"#9c179e\"],[0.4444444444444444,\"#bd3786\"],[0.5555555555555556,\"#d8576b\"],[0.6666666666666666,\"#ed7953\"],[0.7777777777777778,\"#fb9f3a\"],[0.8888888888888888,\"#fdca26\"],[1.0,\"#f0f921\"]],\"type\":\"histogram2dcontour\"}],\"histogram2d\":[{\"colorbar\":{\"outlinewidth\":0,\"ticks\":\"\"},\"colorscale\":[[0.0,\"#0d0887\"],[0.1111111111111111,\"#46039f\"],[0.2222222222222222,\"#7201a8\"],[0.3333333333333333,\"#9c179e\"],[0.4444444444444444,\"#bd3786\"],[0.5555555555555556,\"#d8576b\"],[0.6666666666666666,\"#ed7953\"],[0.7777777777777778,\"#fb9f3a\"],[0.8888888888888888,\"#fdca26\"],[1.0,\"#f0f921\"]],\"type\":\"histogram2d\"}],\"histogram\":[{\"marker\":{\"pattern\":{\"fillmode\":\"overlay\",\"size\":10,\"solidity\":0.2}},\"type\":\"histogram\"}],\"mesh3d\":[{\"colorbar\":{\"outlinewidth\":0,\"ticks\":\"\"},\"type\":\"mesh3d\"}],\"parcoords\":[{\"line\":{\"colorbar\":{\"outlinewidth\":0,\"ticks\":\"\"}},\"type\":\"parcoords\"}],\"pie\":[{\"automargin\":true,\"type\":\"pie\"}],\"scatter3d\":[{\"line\":{\"colorbar\":{\"outlinewidth\":0,\"ticks\":\"\"}},\"marker\":{\"colorbar\":{\"outlinewidth\":0,\"ticks\":\"\"}},\"type\":\"scatter3d\"}],\"scattercarpet\":[{\"marker\":{\"colorbar\":{\"outlinewidth\":0,\"ticks\":\"\"}},\"type\":\"scattercarpet\"}],\"scattergeo\":[{\"marker\":{\"colorbar\":{\"outlinewidth\":0,\"ticks\":\"\"}},\"type\":\"scattergeo\"}],\"scattergl\":[{\"marker\":{\"colorbar\":{\"outlinewidth\":0,\"ticks\":\"\"}},\"type\":\"scattergl\"}],\"scattermapbox\":[{\"marker\":{\"colorbar\":{\"outlinewidth\":0,\"ticks\":\"\"}},\"type\":\"scattermapbox\"}],\"scatterpolargl\":[{\"marker\":{\"colorbar\":{\"outlinewidth\":0,\"ticks\":\"\"}},\"type\":\"scatterpolargl\"}],\"scatterpolar\":[{\"marker\":{\"colorbar\":{\"outlinewidth\":0,\"ticks\":\"\"}},\"type\":\"scatterpolar\"}],\"scatter\":[{\"fillpattern\":{\"fillmode\":\"overlay\",\"size\":10,\"solidity\":0.2},\"type\":\"scatter\"}],\"scatterternary\":[{\"marker\":{\"colorbar\":{\"outlinewidth\":0,\"ticks\":\"\"}},\"type\":\"scatterternary\"}],\"surface\":[{\"colorbar\":{\"outlinewidth\":0,\"ticks\":\"\"},\"colorscale\":[[0.0,\"#0d0887\"],[0.1111111111111111,\"#46039f\"],[0.2222222222222222,\"#7201a8\"],[0.3333333333333333,\"#9c179e\"],[0.4444444444444444,\"#bd3786\"],[0.5555555555555556,\"#d8576b\"],[0.6666666666666666,\"#ed7953\"],[0.7777777777777778,\"#fb9f3a\"],[0.8888888888888888,\"#fdca26\"],[1.0,\"#f0f921\"]],\"type\":\"surface\"}],\"table\":[{\"cells\":{\"fill\":{\"color\":\"#EBF0F8\"},\"line\":{\"color\":\"white\"}},\"header\":{\"fill\":{\"color\":\"#C8D4E3\"},\"line\":{\"color\":\"white\"}},\"type\":\"table\"}]},\"layout\":{\"annotationdefaults\":{\"arrowcolor\":\"#2a3f5f\",\"arrowhead\":0,\"arrowwidth\":1},\"autotypenumbers\":\"strict\",\"coloraxis\":{\"colorbar\":{\"outlinewidth\":0,\"ticks\":\"\"}},\"colorscale\":{\"diverging\":[[0,\"#8e0152\"],[0.1,\"#c51b7d\"],[0.2,\"#de77ae\"],[0.3,\"#f1b6da\"],[0.4,\"#fde0ef\"],[0.5,\"#f7f7f7\"],[0.6,\"#e6f5d0\"],[0.7,\"#b8e186\"],[0.8,\"#7fbc41\"],[0.9,\"#4d9221\"],[1,\"#276419\"]],\"sequential\":[[0.0,\"#0d0887\"],[0.1111111111111111,\"#46039f\"],[0.2222222222222222,\"#7201a8\"],[0.3333333333333333,\"#9c179e\"],[0.4444444444444444,\"#bd3786\"],[0.5555555555555556,\"#d8576b\"],[0.6666666666666666,\"#ed7953\"],[0.7777777777777778,\"#fb9f3a\"],[0.8888888888888888,\"#fdca26\"],[1.0,\"#f0f921\"]],\"sequentialminus\":[[0.0,\"#0d0887\"],[0.1111111111111111,\"#46039f\"],[0.2222222222222222,\"#7201a8\"],[0.3333333333333333,\"#9c179e\"],[0.4444444444444444,\"#bd3786\"],[0.5555555555555556,\"#d8576b\"],[0.6666666666666666,\"#ed7953\"],[0.7777777777777778,\"#fb9f3a\"],[0.8888888888888888,\"#fdca26\"],[1.0,\"#f0f921\"]]},\"colorway\":[\"#636efa\",\"#EF553B\",\"#00cc96\",\"#ab63fa\",\"#FFA15A\",\"#19d3f3\",\"#FF6692\",\"#B6E880\",\"#FF97FF\",\"#FECB52\"],\"font\":{\"color\":\"#2a3f5f\"},\"geo\":{\"bgcolor\":\"white\",\"lakecolor\":\"white\",\"landcolor\":\"#E5ECF6\",\"showlakes\":true,\"showland\":true,\"subunitcolor\":\"white\"},\"hoverlabel\":{\"align\":\"left\"},\"hovermode\":\"closest\",\"mapbox\":{\"style\":\"light\"},\"paper_bgcolor\":\"white\",\"plot_bgcolor\":\"#E5ECF6\",\"polar\":{\"angularaxis\":{\"gridcolor\":\"white\",\"linecolor\":\"white\",\"ticks\":\"\"},\"bgcolor\":\"#E5ECF6\",\"radialaxis\":{\"gridcolor\":\"white\",\"linecolor\":\"white\",\"ticks\":\"\"}},\"scene\":{\"xaxis\":{\"backgroundcolor\":\"#E5ECF6\",\"gridcolor\":\"white\",\"gridwidth\":2,\"linecolor\":\"white\",\"showbackground\":true,\"ticks\":\"\",\"zerolinecolor\":\"white\"},\"yaxis\":{\"backgroundcolor\":\"#E5ECF6\",\"gridcolor\":\"white\",\"gridwidth\":2,\"linecolor\":\"white\",\"showbackground\":true,\"ticks\":\"\",\"zerolinecolor\":\"white\"},\"zaxis\":{\"backgroundcolor\":\"#E5ECF6\",\"gridcolor\":\"white\",\"gridwidth\":2,\"linecolor\":\"white\",\"showbackground\":true,\"ticks\":\"\",\"zerolinecolor\":\"white\"}},\"shapedefaults\":{\"line\":{\"color\":\"#2a3f5f\"}},\"ternary\":{\"aaxis\":{\"gridcolor\":\"white\",\"linecolor\":\"white\",\"ticks\":\"\"},\"baxis\":{\"gridcolor\":\"white\",\"linecolor\":\"white\",\"ticks\":\"\"},\"bgcolor\":\"#E5ECF6\",\"caxis\":{\"gridcolor\":\"white\",\"linecolor\":\"white\",\"ticks\":\"\"}},\"title\":{\"x\":0.05},\"xaxis\":{\"automargin\":true,\"gridcolor\":\"white\",\"linecolor\":\"white\",\"ticks\":\"\",\"title\":{\"standoff\":15},\"zerolinecolor\":\"white\",\"zerolinewidth\":2},\"yaxis\":{\"automargin\":true,\"gridcolor\":\"white\",\"linecolor\":\"white\",\"ticks\":\"\",\"title\":{\"standoff\":15},\"zerolinecolor\":\"white\",\"zerolinewidth\":2}}},\"legend\":{\"borderwidth\":0.5,\"bgcolor\":\"#F2F2F2\"},\"xaxis\":{\"showgrid\":true,\"gridcolor\":\"#D8D8D8\",\"color\":\"#004\",\"zerolinecolor\":\"#DDD\",\"title\":{\"text\":\"k (Å^-1)\"},\"range\":[0,10]},\"yaxis\":{\"showgrid\":true,\"gridcolor\":\"#D8D8D8\",\"color\":\"#004\",\"zerolinecolor\":\"#DDD\",\"title\":{\"text\":\"chi(k) * k^2\"}},\"width\":800,\"height\":500,\"showlegend\":true,\"hovermode\":\"closest\",\"plot_bgcolor\":\"#FDFDFF\",\"title\":{\"text\":\"Wurtzite ZnO EXAFS\"}},                        {\"responsive\": true}                    ).then(function(){\n",
       "                            \n",
       "var gd = document.getElementById('6590bf09-27bd-443d-a76a-79667fc1606f');\n",
       "var x = new MutationObserver(function (mutations, observer) {{\n",
       "        var display = window.getComputedStyle(gd).display;\n",
       "        if (!display || display === 'none') {{\n",
       "            console.log([gd, 'removed!']);\n",
       "            Plotly.purge(gd);\n",
       "            observer.disconnect();\n",
       "        }}\n",
       "}});\n",
       "\n",
       "// Listen for the removal of the full notebook cells\n",
       "var notebookContainer = gd.closest('#notebook-container');\n",
       "if (notebookContainer) {{\n",
       "    x.observe(notebookContainer, {childList: true});\n",
       "}}\n",
       "\n",
       "// Listen for the clearing of the current output cell\n",
       "var outputEl = gd.closest('.output');\n",
       "if (outputEl) {{\n",
       "    x.observe(outputEl, {childList: true});\n",
       "}}\n",
       "\n",
       "                        })                };                });            </script>        </div>"
      ]
     },
     "metadata": {},
     "output_type": "display_data"
    }
   ],
   "source": [
    "from larch.plot.plotly_xafsplots import PlotlyFigure\n",
    "fig = PlotlyFigure()\n",
    "fig.add_plot(gsim.k+0.3, gsim.chi*gsim.k**2, label=\"FEFF simulation\")\n",
    "fig.add_plot(gexp.k, gexp.chi*gexp.k**2, label=\"EXP data\")\n",
    "\n",
    "fig.set_style(title=\"Wurtzite ZnO EXAFS\", width=800, height=500, xaxis_title=\"k (Å^-1)\", yaxis_title=\"chi(k) * k^2\" )\n",
    "fig.set_xrange(0, 10)\n",
    "fig.show()"
   ]
  },
  {
   "cell_type": "code",
   "execution_count": null,
   "metadata": {},
   "outputs": [],
   "source": []
  }
 ],
 "metadata": {
  "kernelspec": {
   "display_name": "Python 3",
   "language": "python",
   "name": "python3"
  },
  "language_info": {
   "codemirror_mode": {
    "name": "ipython",
    "version": 3
   },
   "file_extension": ".py",
   "mimetype": "text/x-python",
   "name": "python",
   "nbconvert_exporter": "python",
   "pygments_lexer": "ipython3",
   "version": "3.9.0"
  },
  "pycharm": {
   "stem_cell": {
    "cell_type": "raw",
    "metadata": {
     "collapsed": false
    },
    "source": []
   }
  },
  "toc": {
   "base_numbering": 1,
   "nav_menu": {},
   "number_sections": true,
   "sideBar": true,
   "skip_h1_title": false,
   "title_cell": "Table of Contents",
   "title_sidebar": "Contents",
   "toc_cell": false,
   "toc_position": {},
   "toc_section_display": true,
   "toc_window_display": false
  },
  "varInspector": {
   "cols": {
    "lenName": 16,
    "lenType": 16,
    "lenVar": 40
   },
   "kernels_config": {
    "python": {
     "delete_cmd_postfix": "",
     "delete_cmd_prefix": "del ",
     "library": "var_list.py",
     "varRefreshCmd": "print(var_dic_list())"
    },
    "r": {
     "delete_cmd_postfix": ") ",
     "delete_cmd_prefix": "rm(",
     "library": "var_list.r",
     "varRefreshCmd": "cat(var_dic_list()) "
    }
   },
   "types_to_exclude": [
    "module",
    "function",
    "builtin_function_or_method",
    "instance",
    "_Feature"
   ],
   "window_display": false
  }
 },
 "nbformat": 4,
 "nbformat_minor": 4
}
