{
 "cells": [
  {
   "attachments": {},
   "cell_type": "markdown",
   "metadata": {},
   "source": [
    "# Struct2XAS examples: from CIF/XYZ to XANES/EXAFS simulations with FDMNES and FEFF\n",
    "\n",
    "- Authors: Beatriz G. Foschiani and Mauro Rovezzi\n",
    "- Contact: mauro.rovezzi@esrf.fr\n",
    "- Last modified: August 2023\n",
    "\n",
    "Here we provide various examples on the usage of `larch.xrd.struct2xas` module."
   ]
  },
  {
   "attachments": {},
   "cell_type": "markdown",
   "metadata": {},
   "source": [
    "## Example 1: Zn K-edge XANES of wurtzite ZnO with FDMNES from a CIF file\n",
    "\n",
    "This example shows how to use the `Struct2XAS` class to convert a CIF file to a FDMNES XANES input. We will simulate Zn K-edge XAS of ZnO. \n",
    "\n",
    "- The input structure is taken from the Materials Project database: [mp-2133](https://legacy.materialsproject.org/materials/mp-2133/).\n",
    "- The experimental data are taken from the SSHADE/FAME database: [DOI:10.26302/SSHADE/EXPERIMENT_ST_20180418_001](https://www.sshade.eu/data/EXPERIMENT_ST_20180418_001)"
   ]
  },
  {
   "attachments": {},
   "cell_type": "markdown",
   "metadata": {},
   "source": [
    "Import the main class and instantiate it with the CIF file and the name of the absorbing element"
   ]
  },
  {
   "cell_type": "code",
   "execution_count": 1,
   "metadata": {},
   "outputs": [
    {
     "name": "stdout",
     "output_type": "stream",
     "text": [
      "[struct2xas] INFO : Frames: 1, Absorbing sites: 1. (Indexes for frames and abs_sites start at 0)\n"
     ]
    }
   ],
   "source": [
    "from larch.xrd.struct2xas import Struct2XAS\n",
    "mat_obj = Struct2XAS(file = \"../structuredata/struct2xas/ZnO_mp-2133.cif\", abs_atom=\"Zn\")"
   ]
  },
  {
   "attachments": {},
   "cell_type": "markdown",
   "metadata": {},
   "source": [
    "to get the information about absorbing site"
   ]
  },
  {
   "cell_type": "code",
   "execution_count": 2,
   "metadata": {},
   "outputs": [
    {
     "data": {
      "text/html": [
       "<style type=\"text/css\">\n",
       "</style>\n",
       "<table id=\"T_10730\">\n",
       "  <thead>\n",
       "    <tr>\n",
       "      <th id=\"T_10730_level0_col0\" class=\"col_heading level0 col0\" >idx_abs</th>\n",
       "      <th id=\"T_10730_level0_col1\" class=\"col_heading level0 col1\" >specie</th>\n",
       "      <th id=\"T_10730_level0_col2\" class=\"col_heading level0 col2\" >frac_coords</th>\n",
       "      <th id=\"T_10730_level0_col3\" class=\"col_heading level0 col3\" >wyckoff_site</th>\n",
       "      <th id=\"T_10730_level0_col4\" class=\"col_heading level0 col4\" >cart_coords</th>\n",
       "      <th id=\"T_10730_level0_col5\" class=\"col_heading level0 col5\" >occupancy_abs_atom</th>\n",
       "      <th id=\"T_10730_level0_col6\" class=\"col_heading level0 col6\" >idx_struct</th>\n",
       "    </tr>\n",
       "  </thead>\n",
       "  <tbody>\n",
       "    <tr>\n",
       "      <td id=\"T_10730_row0_col0\" class=\"data row0 col0\" >0</td>\n",
       "      <td id=\"T_10730_row0_col1\" class=\"data row0 col1\" >Zn</td>\n",
       "      <td id=\"T_10730_row0_col2\" class=\"data row0 col2\" >[0.3333, 0.6667, 0.0005]</td>\n",
       "      <td id=\"T_10730_row0_col3\" class=\"data row0 col3\" >2b</td>\n",
       "      <td id=\"T_10730_row0_col4\" class=\"data row0 col4\" >[-0.      1.899   0.0029]</td>\n",
       "      <td id=\"T_10730_row0_col5\" class=\"data row0 col5\" >1</td>\n",
       "      <td id=\"T_10730_row0_col6\" class=\"data row0 col6\" >1</td>\n",
       "    </tr>\n",
       "  </tbody>\n",
       "</table>\n"
      ],
      "text/plain": [
       "<pandas.io.formats.style.Styler at 0x7fb861a32b20>"
      ]
     },
     "execution_count": 2,
     "metadata": {},
     "output_type": "execute_result"
    }
   ],
   "source": [
    "# information about absorbing site as pandas.DataFrame\n",
    "mat_obj.get_abs_sites_info()"
   ]
  },
  {
   "attachments": {},
   "cell_type": "markdown",
   "metadata": {},
   "source": [
    "the same, more programmatically"
   ]
  },
  {
   "cell_type": "code",
   "execution_count": 3,
   "metadata": {},
   "outputs": [
    {
     "data": {
      "text/plain": [
       "[[0,\n",
       "  'Zn',\n",
       "  [0.3333, 0.6667, 0.0005],\n",
       "  '2b',\n",
       "  array([-0.    ,  1.899 ,  0.0029]),\n",
       "  1,\n",
       "  1]]"
      ]
     },
     "execution_count": 3,
     "metadata": {},
     "output_type": "execute_result"
    }
   ],
   "source": [
    "mat_obj.get_abs_sites()"
   ]
  },
  {
   "attachments": {},
   "cell_type": "markdown",
   "metadata": {},
   "source": [
    "Getters and setters are available for changing the absorber site being considered. We can use the methods `set_abs_site` and `get_abs_site`. This structure has only one absorber site (an example with multiple sites is given later)."
   ]
  },
  {
   "cell_type": "code",
   "execution_count": 4,
   "metadata": {},
   "outputs": [],
   "source": [
    "mat_obj.set_abs_site(0)"
   ]
  },
  {
   "attachments": {},
   "cell_type": "markdown",
   "metadata": {},
   "source": [
    "to get information on the coordination environment around absorber atom"
   ]
  },
  {
   "cell_type": "code",
   "execution_count": 5,
   "metadata": {},
   "outputs": [
    {
     "name": "stdout",
     "output_type": "stream",
     "text": [
      "Coord. Env. from absorber atom: Zn at site 0\n",
      "(For more details use get_coord_envs() method) \n"
     ]
    },
    {
     "data": {
      "text/plain": [
       "(['T:4', 'T:5'],\n",
       "   Element  Distance\n",
       " 0     (O)   2.00419\n",
       " 1     (O)   2.00424\n",
       " 2     (O)   2.00424\n",
       " 3     (O)   2.01243\n",
       " 4     (O)   3.29439)"
      ]
     },
     "execution_count": 5,
     "metadata": {},
     "output_type": "execute_result"
    }
   ],
   "source": [
    "mat_obj.get_coord_envs_info()"
   ]
  },
  {
   "attachments": {},
   "cell_type": "markdown",
   "metadata": {},
   "source": [
    "or programmatically"
   ]
  },
  {
   "cell_type": "code",
   "execution_count": 6,
   "metadata": {},
   "outputs": [
    {
     "data": {
      "text/plain": [
       "[['Coord. Env. for Site 0',\n",
       "  [{'ce_symbol': 'T:4',\n",
       "    'ce_fraction': 0.8596848561093449,\n",
       "    'csm': 0.0056914424517299726,\n",
       "    'permutation': [0, 1, 2, 3]},\n",
       "   {'ce_symbol': 'T:5',\n",
       "    'ce_fraction': 0.14031514389065514,\n",
       "    'csm': 4.062381866591052,\n",
       "    'permutation': [1, 2, 4, 0, 3]}],\n",
       "  [{'site': PeriodicSite: O (-0.0000, 1.8990, 2.0153) [0.3333, 0.6667, 0.3798],\n",
       "    'index': 3,\n",
       "    'image_cell': array([0, 0, 0])},\n",
       "   {'site': PeriodicSite: O (1.6446, 0.9495, -0.6381) [0.6667, 0.3333, -0.1202],\n",
       "    'index': 2,\n",
       "    'image_cell': array([ 0,  0, -1])},\n",
       "   {'site': PeriodicSite: O (-1.6446, 0.9495, -0.6381) [-0.3333, 0.3333, -0.1202],\n",
       "    'index': 2,\n",
       "    'image_cell': array([-1,  0, -1])},\n",
       "   {'site': PeriodicSite: O (-0.0000, 3.7979, -0.6381) [0.6667, 1.3333, -0.1202],\n",
       "    'index': 2,\n",
       "    'image_cell': array([ 0,  1, -1])},\n",
       "   {'site': PeriodicSite: O (-0.0000, 1.8990, -3.2915) [0.3333, 0.6667, -0.6202],\n",
       "    'index': 3,\n",
       "    'image_cell': array([ 0,  0, -1])}]]]"
      ]
     },
     "execution_count": 6,
     "metadata": {},
     "output_type": "execute_result"
    }
   ],
   "source": [
    "mat_obj.get_coord_envs()\n"
   ]
  },
  {
   "attachments": {},
   "cell_type": "markdown",
   "metadata": {},
   "source": [
    "It is possible to visualize the local environment at a ginen radius from the absorber"
   ]
  },
  {
   "cell_type": "code",
   "execution_count": 7,
   "metadata": {},
   "outputs": [
    {
     "data": {
      "application/3dmoljs_load.v0": "<div id=\"3dmolviewer_16874188934984832\"  style=\"position: relative; width: 600px; height: 600px\">\n        <p id=\"3dmolwarning_16874188934984832\" style=\"background-color:#ffcccc;color:black\">You appear to be running in JupyterLab (or JavaScript failed to load for some other reason).  You need to install the 3dmol extension: <br>\n        <tt>jupyter labextension install jupyterlab_3dmol</tt></p>\n        </div>\n<script>\n\nvar loadScriptAsync = function(uri){\n  return new Promise((resolve, reject) => {\n    //this is to ignore the existence of requirejs amd\n    var savedexports, savedmodule;\n    if (typeof exports !== 'undefined') savedexports = exports;\n    else exports = {}\n    if (typeof module !== 'undefined') savedmodule = module;\n    else module = {}\n\n    var tag = document.createElement('script');\n    tag.src = uri;\n    tag.async = true;\n    tag.onload = () => {\n        exports = savedexports;\n        module = savedmodule;\n        resolve();\n    };\n  var firstScriptTag = document.getElementsByTagName('script')[0];\n  firstScriptTag.parentNode.insertBefore(tag, firstScriptTag);\n});\n};\n\nif(typeof $3Dmolpromise === 'undefined') {\n$3Dmolpromise = null;\n  $3Dmolpromise = loadScriptAsync('https://cdnjs.cloudflare.com/ajax/libs/3Dmol/2.0.1/3Dmol-min.js');\n}\n\nvar viewer_16874188934984832 = null;\nvar warn = document.getElementById(\"3dmolwarning_16874188934984832\");\nif(warn) {\n    warn.parentNode.removeChild(warn);\n}\n$3Dmolpromise.then(function() {\nviewer_16874188934984832 = $3Dmol.createViewer(document.getElementById(\"3dmolviewer_16874188934984832\"),{backgroundColor:\"white\"});\nviewer_16874188934984832.zoomTo();\n\tviewer_16874188934984832.addModel(\"5\\n\\nZn -0.000001 -0.000036 0.000008\\nO -0.000001 1.898928 -0.640982\\nO -1.644552 -0.949518 -0.640982\\nO 1.644551 -0.949518 -0.640982\\nO -0.000001 -0.000036 2.012429\\n\",\"xyz\");\n\tviewer_16874188934984832.setStyle({\"elem\": \"O\"},{\"stick\": {\"radius\": 0.1, \"opacity\": 1, \"hidden\": false, \"color\": \"green\"}, \"sphere\": {\"color\": \"green\", \"radius\": 0.4, \"opacity\": 1}});\n\tviewer_16874188934984832.setStyle({\"elem\": \"Zn\"},{\"stick\": {\"radius\": 0.1, \"opacity\": 1, \"hidden\": false, \"color\": \"red\"}, \"sphere\": {\"color\": \"red\", \"radius\": 0.4, \"opacity\": 1}});\n\tviewer_16874188934984832.addLabel(\"Abs\",{\"fontColor\": \"black\", \"fontSize\": 14, \"backgroundColor\": \"white\", \"backgroundOpacity\": 0.8, \"showBackground\": true},{\"index\": 0});\n\tviewer_16874188934984832.zoomTo();\nviewer_16874188934984832.render();\n});\n</script>",
      "text/html": [
       "<div id=\"3dmolviewer_16874188934984832\"  style=\"position: relative; width: 600px; height: 600px\">\n",
       "        <p id=\"3dmolwarning_16874188934984832\" style=\"background-color:#ffcccc;color:black\">You appear to be running in JupyterLab (or JavaScript failed to load for some other reason).  You need to install the 3dmol extension: <br>\n",
       "        <tt>jupyter labextension install jupyterlab_3dmol</tt></p>\n",
       "        </div>\n",
       "<script>\n",
       "\n",
       "var loadScriptAsync = function(uri){\n",
       "  return new Promise((resolve, reject) => {\n",
       "    //this is to ignore the existence of requirejs amd\n",
       "    var savedexports, savedmodule;\n",
       "    if (typeof exports !== 'undefined') savedexports = exports;\n",
       "    else exports = {}\n",
       "    if (typeof module !== 'undefined') savedmodule = module;\n",
       "    else module = {}\n",
       "\n",
       "    var tag = document.createElement('script');\n",
       "    tag.src = uri;\n",
       "    tag.async = true;\n",
       "    tag.onload = () => {\n",
       "        exports = savedexports;\n",
       "        module = savedmodule;\n",
       "        resolve();\n",
       "    };\n",
       "  var firstScriptTag = document.getElementsByTagName('script')[0];\n",
       "  firstScriptTag.parentNode.insertBefore(tag, firstScriptTag);\n",
       "});\n",
       "};\n",
       "\n",
       "if(typeof $3Dmolpromise === 'undefined') {\n",
       "$3Dmolpromise = null;\n",
       "  $3Dmolpromise = loadScriptAsync('https://cdnjs.cloudflare.com/ajax/libs/3Dmol/2.0.1/3Dmol-min.js');\n",
       "}\n",
       "\n",
       "var viewer_16874188934984832 = null;\n",
       "var warn = document.getElementById(\"3dmolwarning_16874188934984832\");\n",
       "if(warn) {\n",
       "    warn.parentNode.removeChild(warn);\n",
       "}\n",
       "$3Dmolpromise.then(function() {\n",
       "viewer_16874188934984832 = $3Dmol.createViewer(document.getElementById(\"3dmolviewer_16874188934984832\"),{backgroundColor:\"white\"});\n",
       "viewer_16874188934984832.zoomTo();\n",
       "\tviewer_16874188934984832.addModel(\"5\\n\\nZn -0.000001 -0.000036 0.000008\\nO -0.000001 1.898928 -0.640982\\nO -1.644552 -0.949518 -0.640982\\nO 1.644551 -0.949518 -0.640982\\nO -0.000001 -0.000036 2.012429\\n\",\"xyz\");\n",
       "\tviewer_16874188934984832.setStyle({\"elem\": \"O\"},{\"stick\": {\"radius\": 0.1, \"opacity\": 1, \"hidden\": false, \"color\": \"green\"}, \"sphere\": {\"color\": \"green\", \"radius\": 0.4, \"opacity\": 1}});\n",
       "\tviewer_16874188934984832.setStyle({\"elem\": \"Zn\"},{\"stick\": {\"radius\": 0.1, \"opacity\": 1, \"hidden\": false, \"color\": \"red\"}, \"sphere\": {\"color\": \"red\", \"radius\": 0.4, \"opacity\": 1}});\n",
       "\tviewer_16874188934984832.addLabel(\"Abs\",{\"fontColor\": \"black\", \"fontSize\": 14, \"backgroundColor\": \"white\", \"backgroundOpacity\": 0.8, \"showBackground\": true},{\"index\": 0});\n",
       "\tviewer_16874188934984832.zoomTo();\n",
       "viewer_16874188934984832.render();\n",
       "});\n",
       "</script>"
      ]
     },
     "metadata": {},
     "output_type": "display_data"
    },
    {
     "name": "stdout",
     "output_type": "stream",
     "text": [
      "[struct2xas] INFO : {'Zn': 'red', 'O': 'green'}\n"
     ]
    }
   ],
   "source": [
    "mat_obj.visualize(radius=2.5)"
   ]
  },
  {
   "attachments": {},
   "cell_type": "markdown",
   "metadata": {},
   "source": [
    "To create the FDMNES input file using the default template in a temporary directory"
   ]
  },
  {
   "cell_type": "code",
   "execution_count": 3,
   "metadata": {},
   "outputs": [
    {
     "name": "stdout",
     "output_type": "stream",
     "text": [
      "[struct2xas] INFO : written FDMNES input -> /tmp/struct2xas-vw_vly9v/fdmnes/ZnO_mp-2133/Zn/frame0/site0/job_inp.txt\n"
     ]
    }
   ],
   "source": [
    "mytemplate = None #: uses default FDMNES XANES template (-> `larch/xrd/templates/fdmnes.tmpl`)\n",
    "mypath = None #: creates a default structure -> \"mydir/fdmnes/input_structure/abs_atom/siteN/\"\n",
    "mat_obj.make_input_fdmnes(radius=7, green=False, template=mytemplate, parent_path=mypath)"
   ]
  },
  {
   "attachments": {},
   "cell_type": "markdown",
   "metadata": {},
   "source": [
    "To show the created input file"
   ]
  },
  {
   "cell_type": "code",
   "execution_count": 4,
   "metadata": {},
   "outputs": [
    {
     "name": "stdout",
     "output_type": "stream",
     "text": [
      "! FDMNES input file generated by Struct2XAS\n",
      "\n",
      "header\n",
      "\n",
      "comment\n",
      "cif file name: ZnO_mp-2133\n",
      "creation date:2023-06-22_0956\n",
      "\n",
      "filout\n",
      "\n",
      "job\n",
      "\n",
      "range\n",
      "-30.0 0.1 70.0 1.0 100 \n",
      "\n",
      "radius\n",
      "7\n",
      "\n",
      "quadrupole\n",
      "\n",
      "density\n",
      "\n",
      "SCF\n",
      "\n",
      "\n",
      "\n",
      "absorber\n",
      "1\n",
      "\n",
      "spgroup\n",
      "186\n",
      "\n",
      "\n",
      "\n",
      "crystal\n",
      "3.28910296     3.28910296   5.30682100  90.00000000  90.00000000 120.00000000\n",
      "\n",
      "30   0.33333333   0.66666667   0.00054800   Zn\n",
      " 8   0.33333333   0.66666667   0.37976200    O\n",
      "\n",
      "convolution\n",
      "\n",
      "end\n"
     ]
    }
   ],
   "source": [
    "! cat {mat_obj.outdir}/job_inp.txt"
   ]
  },
  {
   "attachments": {},
   "cell_type": "markdown",
   "metadata": {},
   "source": [
    "Run FDMNES (refer to FDMNES documentation if needed)\n",
    "\n",
    "```python\n",
    "#Example how to run FDMNES at the ESRF via SLURM \n",
    "input = mat_ojb.parent_path\n",
    "! cd {input}; subfdmnes -c 30\n",
    "```\n",
    "\n",
    "The output files created by FDMNES will be:\n",
    "- `job.txt`: non-convoluted spectra\n",
    "- `job_conv.txt`: convoluted spectra (by fdmnes with default parameters)\n",
    "- `job_out.txt`: FDMNES output during the execution of the program (NOTE: this is created by the SLURM submission script)\n",
    "- `job_sd0.txt`: file with the projected density of states information\n",
    "- `job_bav.txt`: file with large simulation infos (better to compress it or remove)"
   ]
  },
  {
   "attachments": {},
   "cell_type": "markdown",
   "metadata": {},
   "source": [
    "Please, refer to [XANES_Convolution.ipynb](./XANES_Convolution.ipynb) for a comparison of the simulated data with experimental one."
   ]
  },
  {
   "attachments": {},
   "cell_type": "markdown",
   "metadata": {},
   "source": [
    "## Example 1a: Zn K-edge EXAFS with FEFF\n",
    "\n",
    "We can also simulate the EXAFS spectrum with FEFF"
   ]
  },
  {
   "cell_type": "code",
   "execution_count": 4,
   "metadata": {},
   "outputs": [
    {
     "name": "stdout",
     "output_type": "stream",
     "text": [
      "[struct2xas] INFO : written FEFF input -> /tmp/struct2xas-vw_vly9v/feff/ZnO_mp-2133/Zn/frame0/site0/feff.inp\n"
     ]
    }
   ],
   "source": [
    "mytemplate = None #: uses default FEFF EXAFS template (-> `larch/xrd/templates/feff_exafs.tmpl`)\n",
    "mypath = mat_obj.parent_path #: if None creates a default structure -> \"mydir/feff/input_structure/abs_atom/frameN/siteN/\"\n",
    "mat_obj.make_input_feff(radius=7, template=mytemplate, parent_path=mypath)"
   ]
  },
  {
   "attachments": {},
   "cell_type": "markdown",
   "metadata": {},
   "source": [
    "to show the input file"
   ]
  },
  {
   "cell_type": "code",
   "execution_count": 5,
   "metadata": {},
   "outputs": [
    {
     "name": "stdout",
     "output_type": "stream",
     "text": [
      "* FEFF8* input file generated by Struct2XAS\n",
      "\n",
      "TITLE ZnO_mp-2133\n",
      "TITLE 2023-06-22_1000\n",
      "TITLE site 0\n",
      "\n",
      "*  <central> <edge> edge energy = <eedge> eV\n",
      "EDGE      K\n",
      "S02       0.0\n",
      "\n",
      "*         pot    xsph  fms   paths genfmt ff2chi\n",
      "CONTROL   1      1     1     1     1      1\n",
      "PRINT     1      0     0     0     0      0\n",
      "\n",
      "*** ixc=0 means to use Hedin-Lundqvist\n",
      "*         ixc  [ Vr  Vi ]\n",
      "EXCHANGE  0\n",
      "\n",
      "*         r_scf  [ l_scf   n_scf   ca ]\n",
      "*SCF       5.0\n",
      "\n",
      "RPATH     7\n",
      "EXAFS     20\n",
      "NLEG      6\n",
      "\n",
      "* EXAFS damping, to mimic the structural disorder\n",
      "* SIG2 0.005\n",
      "\n",
      "* Debye-Waller factors\n",
      "* DEBYE 0 0\n",
      "\n",
      "*         emin  emax   eimag\n",
      "*LDOS      -30   20     0.1\n",
      "\n",
      "\n",
      "POTENTIALS\n",
      "\n",
      "* ipot  Z   tag [lmax1 lmax2 xnatph sphinph]\n",
      "    0  30 Zn(abs)\n",
      "    2   8     O\n",
      "    1  30    Zn \n",
      "\n",
      "ATOMS\n",
      "\n",
      "*   x          y          z     ipot   tag    distance   occupancy\n",
      " -0.000001  -0.000036   0.000008 0  Zn(abs)    0.00000         *1 \n",
      " -0.000001   1.898928  -0.640982 2      O    2.00419         *1 \n",
      " -1.644552  -0.949518  -0.640982 2      O    2.00424         *1 \n",
      "  1.644551  -0.949518  -0.640982 2      O    2.00424         *1 \n",
      " -0.000001  -0.000036   2.012429 2      O    2.01243         *1 \n",
      " -0.000001   1.898928  -2.653402 1     Zn    3.26289         *1 \n",
      " -0.000001   1.898928   2.653419 1     Zn    3.26291         *1 \n",
      " -1.644552  -0.949518  -2.653402 1     Zn    3.26292         *1 \n",
      "  1.644551  -0.949518  -2.653402 1     Zn    3.26292         *1 \n",
      " -1.644552  -0.949518   2.653419 1     Zn    3.26294         *1 \n",
      "  1.644551  -0.949518   2.653419 1     Zn    3.26294         *1 \n",
      " -1.644553   2.848410   0.000008 1     Zn    3.28907         *1 \n",
      "  1.644550   2.848410   0.000008 1     Zn    3.28907         *1 \n",
      " -3.289104  -0.000036   0.000008 1     Zn    3.28910         *1 \n",
      "  3.289102  -0.000036   0.000008 1     Zn    3.28910         *1 \n",
      " -1.644551  -2.848482   0.000008 1     Zn    3.28913         *1 \n",
      "  1.644552  -2.848482   0.000008 1     Zn    3.28913         *1 \n",
      " -0.000001  -0.000036  -3.294392 2      O    3.29439         *1 \n",
      " -3.289104   1.898928  -0.640982 2      O    3.85162         *1 \n",
      "  3.289102   1.898928  -0.640982 2      O    3.85162         *1 \n",
      "  0.000001  -3.797964  -0.640982 2      O    3.85167         *1 \n",
      " -1.644553   2.848410   2.012429 2      O    3.85589         *1 \n",
      "  1.644550   2.848410   2.012429 2      O    3.85589         *1 \n",
      " -3.289104  -0.000036   2.012429 2      O    3.85591         *1 \n",
      "  3.289102  -0.000036   2.012429 2      O    3.85591         *1 \n",
      " -1.644551  -2.848482   2.012429 2      O    3.85594         *1 \n",
      "  1.644552  -2.848482   2.012429 2      O    3.85594         *1 \n",
      " -3.289104   1.898928  -2.653402 1     Zn    4.63300         *1 \n",
      "  3.289102   1.898928  -2.653402 1     Zn    4.63300         *1 \n",
      " -3.289104   1.898928   2.653419 1     Zn    4.63301         *1 \n",
      "  3.289102   1.898928   2.653419 1     Zn    4.63301         *1 \n",
      "  0.000001  -3.797964  -2.653402 1     Zn    4.63304         *1 \n",
      "  0.000001  -3.797964   2.653419 1     Zn    4.63305         *1 \n",
      " -1.644553   2.848410  -3.294392 2      O    4.65521         *1 \n",
      "  1.644550   2.848410  -3.294392 2      O    4.65521         *1 \n",
      " -3.289104  -0.000036  -3.294392 2      O    4.65524         *1 \n",
      "  3.289102  -0.000036  -3.294392 2      O    4.65524         *1 \n",
      " -1.644551  -2.848482  -3.294392 2      O    4.65526         *1 \n",
      "  1.644552  -2.848482  -3.294392 2      O    4.65526         *1 \n",
      " -0.000001   1.898928   4.665839 2      O    5.03746         *1 \n",
      " -1.644552  -0.949518   4.665839 2      O    5.03748         *1 \n",
      "  1.644551  -0.949518   4.665839 2      O    5.03748         *1 \n",
      " -1.644554   4.747374  -0.640982 2      O    5.06488         *1 \n",
      "  1.644549   4.747374  -0.640982 2      O    5.06488         *1 \n",
      " -4.933655  -0.949518  -0.640982 2      O    5.06492         *1 \n",
      "  4.933654  -0.949518  -0.640982 2      O    5.06492         *1 \n",
      " -3.289102  -3.797964  -0.640982 2      O    5.06494         *1 \n",
      "  3.289104  -3.797964  -0.640982 2      O    5.06494         *1 \n",
      " -0.000001  -0.000036  -5.306813 1     Zn    5.30681         *1 \n",
      " -0.000001  -0.000036   5.306829 1     Zn    5.30683         *1 \n",
      " -1.644554   4.747374  -2.653402 1     Zn    5.68178         *1 \n",
      "  1.644549   4.747374  -2.653402 1     Zn    5.68178         *1 \n",
      " -1.644554   4.747374   2.653419 1     Zn    5.68179         *1 \n",
      "  1.644549   4.747374   2.653419 1     Zn    5.68179         *1 \n",
      " -4.933655  -0.949518  -2.653402 1     Zn    5.68182         *1 \n",
      "  4.933654  -0.949518  -2.653402 1     Zn    5.68182         *1 \n",
      " -4.933655  -0.949518   2.653419 1     Zn    5.68183         *1 \n",
      "  4.933654  -0.949518   2.653419 1     Zn    5.68183         *1 \n",
      " -3.289102  -3.797964  -2.653402 1     Zn    5.68184         *1 \n",
      " -3.289102  -3.797964   2.653419 1     Zn    5.68184         *1 \n",
      "  3.289104  -3.797964  -2.653402 1     Zn    5.68184         *1 \n",
      "  3.289104  -3.797964   2.653419 1     Zn    5.68185         *1 \n",
      " -0.000003   5.696856   0.000008 1     Zn    5.69686         *1 \n",
      "  4.933653   2.848410   0.000008 1     Zn    5.69687         *1 \n",
      " -4.933656   2.848410   0.000008 1     Zn    5.69688         *1 \n",
      " -4.933654  -2.848482   0.000008 1     Zn    5.69691         *1 \n",
      "  4.933655  -2.848482   0.000008 1     Zn    5.69691         *1 \n",
      "  0.000001  -5.696928   0.000008 1     Zn    5.69693         *1 \n",
      " -3.289104   1.898928   4.665839 2      O    6.01616         *1 \n",
      "  3.289102   1.898928   4.665839 2      O    6.01616         *1 \n",
      "  0.000001  -3.797964   4.665839 2      O    6.01619         *1 \n",
      " -0.000003   5.696856   2.012429 2      O    6.04186         *1 \n",
      "  4.933653   2.848410   2.012429 2      O    6.04187         *1 \n",
      " -4.933656   2.848410   2.012429 2      O    6.04188         *1 \n",
      " -4.933654  -2.848482   2.012429 2      O    6.04191         *1 \n",
      "  4.933655  -2.848482   2.012429 2      O    6.04191         *1 \n",
      "  0.000001  -5.696928   2.012429 2      O    6.04193         *1 \n",
      " -1.644553   2.848410  -5.306813 1     Zn    6.24342         *1 \n",
      "  1.644550   2.848410  -5.306813 1     Zn    6.24342         *1 \n",
      " -3.289104  -0.000036  -5.306813 1     Zn    6.24343         *1 \n",
      " -1.644553   2.848410   5.306829 1     Zn    6.24343         *1 \n",
      "  3.289102  -0.000036  -5.306813 1     Zn    6.24343         *1 \n",
      "  1.644550   2.848410   5.306829 1     Zn    6.24343         *1 \n",
      " -1.644551  -2.848482  -5.306813 1     Zn    6.24345         *1 \n",
      " -3.289104  -0.000036   5.306829 1     Zn    6.24345         *1 \n",
      "  1.644552  -2.848482  -5.306813 1     Zn    6.24345         *1 \n",
      "  3.289102  -0.000036   5.306829 1     Zn    6.24345         *1 \n",
      " -1.644551  -2.848482   5.306829 1     Zn    6.24346         *1 \n",
      "  1.644552  -2.848482   5.306829 1     Zn    6.24346         *1 \n",
      " -0.000001   1.898928  -5.947803 2      O    6.24358         *1 \n",
      " -1.644552  -0.949518  -5.947803 2      O    6.24360         *1 \n",
      "  1.644551  -0.949518  -5.947803 2      O    6.24360         *1 \n",
      "  3.289100   5.696856   0.000008 1     Zn    6.57817         *1 \n",
      " -3.289106   5.696856   0.000008 1     Zn    6.57818         *1 \n",
      " -6.578207  -0.000036   0.000008 1     Zn    6.57821         *1 \n",
      "  6.578205  -0.000036   0.000008 1     Zn    6.57821         *1 \n",
      " -3.289102  -5.696928   0.000008 1     Zn    6.57824         *1 \n",
      "  3.289104  -5.696928   0.000008 1     Zn    6.57824         *1 \n",
      " -0.000003   5.696856  -3.294392 2      O    6.58082         *1 \n",
      " -4.933656   2.848410  -3.294392 2      O    6.58084         *1 \n",
      "  4.933653   2.848410  -3.294392 2      O    6.58084         *1 \n",
      " -4.933654  -2.848482  -3.294392 2      O    6.58087         *1 \n",
      "  4.933655  -2.848482  -3.294392 2      O    6.58087         *1 \n",
      "  0.000001  -5.696928  -3.294392 2      O    6.58088         *1 \n",
      " -1.644554   4.747374   4.665839 2      O    6.85654         *1 \n",
      "  1.644549   4.747374   4.665839 2      O    6.85654         *1 \n",
      " -4.933655  -0.949518   4.665839 2      O    6.85657         *1 \n",
      "  4.933654  -0.949518   4.665839 2      O    6.85657         *1 \n",
      " -3.289102  -3.797964   4.665839 2      O    6.85659         *1 \n",
      "  3.289104  -3.797964   4.665839 2      O    6.85659         *1 \n",
      "  4.933652   4.747374  -0.640982 2      O    6.87672         *1 \n",
      " -4.933657   4.747374  -0.640982 2      O    6.87673         *1 \n",
      " -6.578207   1.898928  -0.640982 2      O    6.87674         *1 \n",
      "  6.578205   1.898928  -0.640982 2      O    6.87674         *1 \n",
      " -1.644550  -6.646410  -0.640982 2      O    6.87678         *1 \n",
      "  1.644553  -6.646410  -0.640982 2      O    6.87679         *1 \n",
      " -3.289106   5.696856   2.012429 2      O    6.87912         *1 \n",
      "  3.289100   5.696856   2.012429 2      O    6.87912         *1 \n",
      " -6.578207  -0.000036   2.012429 2      O    6.87915         *1 \n",
      "  6.578205  -0.000036   2.012429 2      O    6.87915         *1 \n",
      " -3.289102  -5.696928   2.012429 2      O    6.87918         *1 \n",
      "  3.289104  -5.696928   2.012429 2      O    6.87918         *1 \n",
      "\n",
      "END\n"
     ]
    }
   ],
   "source": [
    "! cat {mat_obj.outdir}/feff.inp"
   ]
  },
  {
   "attachments": {},
   "cell_type": "markdown",
   "metadata": {},
   "source": [
    "run FEFF"
   ]
  },
  {
   "cell_type": "code",
   "execution_count": 12,
   "metadata": {},
   "outputs": [
    {
     "name": "stdout",
     "output_type": "stream",
     "text": [
      " : ======== running Feff module feff8l_rdinp ========\n",
      " : Feff8L (EXAFS)      release  0.1\n",
      " : ZnO_mp-2133\n",
      " : 2023-06-14_1023\n",
      " : site 0\n",
      " : ======== running Feff module feff8l_pot ========\n",
      " : Calculating potentials ...\n",
      " : free atom potential and density for atom type    0\n",
      " : free atom potential and density for atom type    1\n",
      " : free atom potential and density for atom type    2\n",
      " : initial state energy\n",
      " : overlapped potential and density for unique potential    0\n",
      " : overlapped potential and density for unique potential    1\n",
      " : overlapped potential and density for unique potential    2\n",
      " : muffin tin radii and interstitial parameters\n",
      " : : ipot, Norman radius, Muffin tin radius, Overlap\n",
      " : 0  1.42792E+00  1.30600E+00  1.15000E+00\n",
      " : 1  1.41649E+00  1.30145E+00  1.15000E+00\n",
      " : 2  1.09462E+00  1.00452E+00  1.15000E+00\n",
      " : : mu_old=    -0.830\n",
      " : Done with module 1: potentials.\n",
      " : ======== running Feff module feff8l_xsph ========\n",
      " : Calculating cross-section and phases...\n",
      " : absorption cross section\n",
      " : phase shifts for unique potential    0\n",
      " : phase shifts for unique potential    1\n",
      " : phase shifts for unique potential    2\n",
      " : Done with module 2: cross-section and phases...\n",
      " : ======== running Feff module feff8l_pathfinder ========\n",
      " : Preparing plane wave scattering amplitudes...\n",
      " : Searching for paths...\n",
      " : WARNING:  rmax > distance to most distant atom.\n",
      " : Some paths may be missing.\n",
      " : rmax, ratx   7.00000E+00  0.00000E+00\n",
      " : Rmax  7.0000  keep and heap limits   0.0000000   0.0000000\n",
      " : Preparing neighbor table\n",
      " : nfound  heapsize  maxheap  maxscatt   reff\n",
      " : 1000     1396     1396      5      5.2933\n",
      " : 2000     1897     1933      5      5.6530\n",
      " : 3000     2430     2431      5      5.9694\n",
      " : 4000     2959     2959      5      6.2061\n",
      " : 5000     3676     3678      5      6.2170\n",
      " : 6000     4009     4019      5      6.3022\n",
      " : 7000     4285     4285      5      6.4972\n",
      " : 8000     4758     4792      5      6.5658\n",
      " : 9000     4683     4792      5      6.5739\n",
      " : 10000     4621     4792      5      6.5767\n",
      " : 11000     4634     4792      5      6.5829\n",
      " : 12000     4696     4792      5      6.6057\n",
      " : 13000     5187     5187      5      6.6595\n",
      " : 14000     5118     5203      5      6.7838\n",
      " : 15000     5075     5203      5      6.8237\n",
      " : 16000     4781     5203      5      6.8759\n",
      " : 17000     4464     5203      5      6.9027\n",
      " : 18000     4204     5203      5      6.9117\n",
      " : 19000     4029     5203      5      6.9117\n",
      " : 20000     3823     5203      5      6.9117\n",
      " : 21000     3564     5203      5      6.9199\n",
      " : 22000     3307     5203      5      6.9289\n",
      " : 23000     2983     5203      5      6.9342\n",
      " : 24000     2564     5203      5      6.9379\n",
      " : 25000     2119     5203      5      6.9426\n",
      " : 26000     1453     5203      5      6.9446\n",
      " : 27000      870     5203      5      6.9654\n",
      " : 28000      289     5203      5      6.9826\n",
      " : Paths found    28478   (maxheap, maxscatt    5203   5)\n",
      " : Eliminating path degeneracies...\n",
      " : Plane wave chi amplitude filter   2.50%\n",
      " : Unique paths    114,  total paths    1044\n",
      " : Done with module 4: pathfinder.\n",
      " : ======== running Feff module feff8l_genfmt ========\n",
      " : Calculating EXAFS parameters...\n",
      " : Curved wave chi amplitude ratio   4.00%\n",
      " : Discard feff.dat for paths with cw ratio <   2.67%\n",
      " : path  cw ratio     deg    nleg  reff\n",
      " : 1   100.000     3.000     2   2.0042\n",
      " : 2    33.026     1.000     2   2.0124\n",
      " : 3    65.446     6.000     2   3.2629\n",
      " : 4    64.213     6.000     2   3.2891\n",
      " : 5    10.014     1.000     2   3.2944\n",
      " : 6     8.562     6.000     3   3.6398\n",
      " : 7     9.468     6.000     3   3.6398\n",
      " : 8     9.479     6.000     3   3.6398\n",
      " : 9     9.145     6.000     3   3.6488\n",
      " : 10    20.151    12.000     3   3.6488\n",
      " : 11    19.892     3.000     2   3.8516\n",
      " : 12    39.665     6.000     2   3.8559\n",
      " : 13     5.315     3.000     4   4.0085\n",
      " : 14     3.512     6.000     4   4.0085\n",
      " : 15     1.693     3.000     4   4.0166 neglected\n",
      " : 16     1.697     3.000     4   4.0166 neglected\n",
      " : 17     7.267    12.000     3   4.5615\n",
      " : 18     5.523    12.000     3   4.5615\n",
      " : 19     7.131    12.000     3   4.5725\n",
      " : 20     5.492    12.000     3   4.5725\n",
      " : 21     7.077    12.000     3   4.5787\n",
      " : 22     5.452    12.000     3   4.5787\n",
      " : 23    27.221     6.000     2   4.6330\n",
      " : 24    23.562     6.000     2   4.6552\n",
      " : 25     3.655    24.000     3   4.9075\n",
      " : 26     5.846    12.000     3   4.9612\n",
      " : 27    11.968    12.000     3   4.9612\n",
      " : 28     3.749    12.000     3   4.9612\n",
      " : 29     9.396     3.000     2   5.0375\n",
      " : 30    18.498     6.000     2   5.0649\n",
      " : 31     5.058     6.000     3   5.1564\n",
      " : 32    11.259     6.000     3   5.1564\n",
      " : 33     2.237     6.000     3   5.1564 neglected\n",
      " : 34    10.156    12.000     3   5.1791\n",
      " : 35    22.687    12.000     3   5.1791\n",
      " : 36     4.631    12.000     3   5.1791\n",
      " : 37     3.095    12.000     3   5.2466\n",
      " : 38     3.455    12.000     3   5.2466\n",
      " : 39     3.656    12.000     3   5.2466\n",
      " : 40     3.340     6.000     4   5.2671\n",
      " : 41     4.485     3.000     4   5.2753\n",
      " : 42     2.394    12.000     4   5.2933 neglected\n",
      " : 43     5.385    12.000     4   5.2933\n",
      " : 44     5.282     6.000     4   5.2933\n",
      " : 45     9.129     6.000     4   5.2933\n",
      " : 46     3.141    12.000     4   5.2933\n",
      " : 47     6.284     2.000     2   5.3068\n",
      " : 48     3.595     2.000     3   5.3068\n",
      " : 49     7.213     2.000     3   5.3068\n",
      " : 50     6.775     2.000     3   5.3068\n",
      " : 51     4.151     1.000     4   5.3068\n",
      " : 52     3.646     1.000     4   5.3068\n",
      " : 53    31.146    12.000     2   5.6818\n",
      " : 54    15.457     6.000     2   5.6969\n",
      " : 55    12.575    12.000     3   5.7710\n",
      " : 56    14.674    12.000     3   5.7710\n",
      " : 57    12.865    12.000     3   5.7710\n",
      " : 58     6.442     6.000     3   5.7764\n",
      " : 59     7.989     6.000     3   5.7764\n",
      " : 60     7.024     6.000     3   5.7764\n",
      " : 61     2.773     3.000     4   5.8559\n",
      " : 62     2.296     3.000     4   5.8559 neglected\n",
      " : 63     3.596    12.000     4   5.8601\n",
      " : 64     4.992     6.000     4   5.8601\n",
      " : 65     4.104     6.000     4   5.8601\n",
      " : 66     5.546     3.000     2   6.0162\n",
      " : 67    10.949     6.000     2   6.0419\n",
      " : 68     4.246    24.000     3   6.1169\n",
      " : 69     2.405    24.000     3   6.1169 neglected\n",
      " : 70     2.388    24.000     3   6.1169 neglected\n",
      " : 71     2.337    24.000     3   6.1375 neglected\n",
      " : 72     2.863    12.000     3   6.1706\n",
      " : 73     2.745    12.000     4   6.2061\n",
      " : 74     2.711    12.000     4   6.2061\n",
      " : 75     2.754    12.000     4   6.2170\n",
      " : 76    23.757    12.000     2   6.2434\n",
      " : 77     4.951     3.000     2   6.2436\n",
      " : 78     2.817     6.000     3   6.3308\n",
      " : 79     2.960     6.000     3   6.3396\n",
      " : 80     4.713    12.000     3   6.3846\n",
      " : 81     4.006    24.000     3   6.3846\n",
      " : 82     4.500     6.000     3   6.4005\n",
      " : 83     5.969    12.000     3   6.4556\n",
      " : 84     4.944    12.000     3   6.4556\n",
      " : 85     4.738    12.000     3   6.4556\n",
      " : 86     3.128    12.000     3   6.5675\n",
      " : 87    10.187     6.000     2   6.5782\n",
      " : 88     3.314     6.000     3   6.5782\n",
      " : 89    20.480    12.000     3   6.5782\n",
      " : 90     3.569     6.000     4   6.5782\n",
      " : 91    14.953     6.000     4   6.5782\n",
      " : 92     8.413     6.000     2   6.5809\n",
      " : 93     2.164    24.000     3   6.5934 neglected\n",
      " : 94     6.192    24.000     3   6.5935\n",
      " : 95     3.177    12.000     4   6.5968\n",
      " : 96     3.035     6.000     3   6.6091\n",
      " : 97     7.240     6.000     3   6.6091\n",
      " : 98     3.270     3.000     4   6.6372\n",
      " : 99     2.835    12.000     3   6.6426\n",
      " : 100     2.787    12.000     3   6.6969\n",
      " : 101     2.530    12.000     3   6.6969 neglected\n",
      " : 102     2.520    12.000     3   6.6969 neglected\n",
      " : 103     4.458    12.000     3   6.8237\n",
      " : 104     3.764    12.000     3   6.8237\n",
      " : 105     3.859    12.000     3   6.8237\n",
      " : 106     3.671    12.000     4   6.8237\n",
      " : 107     1.572    12.000     4   6.8237 neglected\n",
      " : 108     2.622     6.000     3   6.8477 neglected\n",
      " : 109     7.397     6.000     2   6.8566\n",
      " : 110     7.328     6.000     2   6.8768\n",
      " : 111     7.320     6.000     2   6.8791\n",
      " : 112     2.561    12.000     4   6.9379 neglected\n",
      " : 113     3.101    12.000     3   6.9877\n",
      " : 114     7.065    12.000     3   6.9877\n",
      " : 100 paths kept,  114 examined.\n",
      " : Done with module 5: F_eff.\n",
      " : Note: The following floating-point exceptions are signalling: IEEE_UNDERFLOW_FLAG IEEE_DENORMAL\n",
      " : ======== running Feff module feff8l_ff2x ========\n",
      " : Calculating chi...\n",
      " : Use all paths with cw amplitude ratio   4.00%\n",
      " : S02  0.950  Global sig2  0.00000\n",
      " : Done with module 6: DW + final sum over paths.\n"
     ]
    }
   ],
   "source": [
    "#via larch\n",
    "from larch.xafs import FeffRunner\n",
    "feff_inp = f\"{mat_obj.parent_path}/feff.inp\"\n",
    "sim = FeffRunner(feff_inp)\n",
    "sim.run()"
   ]
  },
  {
   "attachments": {},
   "cell_type": "markdown",
   "metadata": {},
   "source": [
    "Note: can also be run via direct call to `feff8l`\n",
    "\n",
    "```\n",
    "! cd {mat_obj.parent_path}; feff8l\n",
    "```"
   ]
  },
  {
   "attachments": {},
   "cell_type": "markdown",
   "metadata": {},
   "source": [
    "load the simulated EXAFS"
   ]
  },
  {
   "cell_type": "code",
   "execution_count": 13,
   "metadata": {},
   "outputs": [],
   "source": [
    "import glob\n",
    "xmu = glob.glob(f\"{mat_obj.parent_path}/xmu.dat\")[0]\n",
    "from larch.io import read_ascii\n",
    "gsim = read_ascii(xmu, labels=[\"energy\", \"erel\", \"k\", \"mu\", \"mu0\", \"chi\"])"
   ]
  },
  {
   "attachments": {},
   "cell_type": "markdown",
   "metadata": {},
   "source": [
    "Load experimental data and quickly extract the EXAFS signal"
   ]
  },
  {
   "cell_type": "code",
   "execution_count": 14,
   "metadata": {},
   "outputs": [],
   "source": [
    "gexp = read_ascii(\"../fdmnes/ZnO_SSHADE.data.txt\", labels=[\"energy\", \"mu\"])\n",
    "from larch.xafs import pre_edge, autobk\n",
    "pre_edge(gexp, e0=9661)\n",
    "autobk(gexp)"
   ]
  },
  {
   "attachments": {},
   "cell_type": "markdown",
   "metadata": {},
   "source": [
    "then plot"
   ]
  },
  {
   "cell_type": "code",
   "execution_count": 18,
   "metadata": {},
   "outputs": [
    {
     "data": {
      "application/vnd.plotly.v1+json": {
       "config": {
        "plotlyServerURL": "https://plot.ly"
       },
       "data": [
        {
         "line": {
          "color": "#1f77b4",
          "width": 3
         },
         "name": "FEFF simulation",
         "type": "scatter",
         "uid": "196cb62c-5700-491f-8ef8-c653f9117fa8",
         "x": [
          0.3,
          0.35,
          0.4,
          0.44999999999999996,
          0.5,
          0.55,
          0.6,
          0.6499999999999999,
          0.7,
          0.75,
          0.8,
          0.8500000000000001,
          0.8999999999999999,
          0.95,
          1,
          1.05,
          1.1,
          1.15,
          1.2,
          1.25,
          1.3,
          1.35,
          1.4000000000000001,
          1.45,
          1.5,
          1.55,
          1.6,
          1.6500000000000001,
          1.7,
          1.75,
          1.8,
          1.85,
          1.9000000000000001,
          1.95,
          2,
          2.05,
          2.1,
          2.15,
          2.1999999999999997,
          2.25,
          2.3,
          2.3499999999999996,
          2.4,
          2.4499999999999997,
          2.5,
          2.55,
          2.5999999999999996,
          2.65,
          2.6999999999999997,
          2.75,
          2.8,
          2.8499999999999996,
          2.9,
          2.9499999999999997,
          3,
          3.05,
          3.0999999999999996,
          3.15,
          3.1999999999999997,
          3.25,
          3.3,
          3.3499999999999996,
          3.4,
          3.4499999999999997,
          3.5,
          3.55,
          3.5999999999999996,
          3.65,
          3.6999999999999997,
          3.75,
          3.8,
          3.8499999999999996,
          3.9,
          3.9499999999999997,
          4,
          4.05,
          4.1,
          4.15,
          4.2,
          4.25,
          4.3,
          4.35,
          4.3999999999999995,
          4.45,
          4.5,
          4.55,
          4.6,
          4.6499999999999995,
          4.7,
          4.75,
          4.8,
          4.85,
          4.8999999999999995,
          4.95,
          5,
          5.05,
          5.1,
          5.1499999999999995,
          5.2,
          5.25,
          5.3,
          5.35,
          5.3999999999999995,
          5.45,
          5.5,
          5.55,
          5.6,
          5.6499999999999995,
          5.7,
          5.75,
          5.8,
          5.85,
          5.8999999999999995,
          5.95,
          6,
          6.05,
          6.1,
          6.1499999999999995,
          6.2,
          6.25,
          6.3,
          6.35,
          6.3999999999999995,
          6.45,
          6.5,
          6.55,
          6.6,
          6.6499999999999995,
          6.7,
          6.75,
          6.8,
          6.85,
          6.8999999999999995,
          6.95,
          7,
          7.05,
          7.1,
          7.1499999999999995,
          7.2,
          7.25,
          7.3,
          7.35,
          7.3999999999999995,
          7.45,
          7.5,
          7.55,
          7.6,
          7.6499999999999995,
          7.7,
          7.75,
          7.8,
          7.85,
          7.8999999999999995,
          7.95,
          8,
          8.05,
          8.1,
          8.15,
          8.200000000000001,
          8.25,
          8.3,
          8.350000000000001,
          8.4,
          8.450000000000001,
          8.5,
          8.55,
          8.600000000000001,
          8.65,
          8.700000000000001,
          8.75,
          8.8,
          8.850000000000001,
          8.9,
          8.950000000000001,
          9,
          9.05,
          9.100000000000001,
          9.15,
          9.200000000000001,
          9.25,
          9.3,
          9.350000000000001,
          9.4,
          9.450000000000001,
          9.5,
          9.55,
          9.600000000000001,
          9.65,
          9.700000000000001,
          9.75,
          9.8,
          9.850000000000001,
          9.9,
          9.950000000000001,
          10,
          10.05,
          10.100000000000001,
          10.15,
          10.200000000000001,
          10.25,
          10.3,
          10.350000000000001,
          10.4,
          10.450000000000001,
          10.5,
          10.55,
          10.600000000000001,
          10.65,
          10.700000000000001,
          10.75,
          10.8,
          10.850000000000001,
          10.9,
          10.950000000000001,
          11,
          11.05,
          11.100000000000001,
          11.15,
          11.200000000000001,
          11.25,
          11.3,
          11.350000000000001,
          11.4,
          11.450000000000001,
          11.5,
          11.55,
          11.600000000000001,
          11.65,
          11.700000000000001,
          11.75,
          11.8,
          11.850000000000001,
          11.9,
          11.950000000000001,
          12,
          12.05,
          12.100000000000001,
          12.15,
          12.200000000000001,
          12.25,
          12.3,
          12.350000000000001,
          12.4,
          12.450000000000001,
          12.5,
          12.55,
          12.600000000000001,
          12.65,
          12.700000000000001,
          12.75,
          12.8,
          12.850000000000001,
          12.9,
          12.950000000000001,
          13,
          13.05,
          13.100000000000001,
          13.15,
          13.200000000000001,
          13.25,
          13.3,
          13.350000000000001,
          13.4,
          13.450000000000001,
          13.5,
          13.55,
          13.600000000000001,
          13.65,
          13.700000000000001,
          13.75,
          13.8,
          13.850000000000001,
          13.9,
          13.950000000000001,
          14,
          14.05,
          14.100000000000001,
          14.15,
          14.200000000000001,
          14.25,
          14.3,
          14.350000000000001,
          14.4,
          14.450000000000001,
          14.5,
          14.55,
          14.600000000000001,
          14.65,
          14.700000000000001,
          14.75,
          14.8,
          14.850000000000001,
          14.9,
          14.950000000000001,
          15,
          15.05,
          15.100000000000001,
          15.15,
          15.200000000000001,
          15.25,
          15.3,
          15.350000000000001,
          15.4,
          15.450000000000001,
          15.5,
          15.55,
          15.600000000000001,
          15.65,
          15.700000000000001,
          15.75,
          15.8,
          15.850000000000001,
          15.9,
          15.950000000000001,
          16,
          16.05,
          16.1,
          16.15,
          16.2,
          16.25,
          16.3,
          16.35,
          16.400000000000002,
          16.45,
          16.5,
          16.55,
          16.6,
          16.650000000000002,
          16.7,
          16.75,
          16.8,
          16.85,
          16.900000000000002,
          16.95,
          17,
          17.05,
          17.1,
          17.150000000000002,
          17.2,
          17.25,
          17.3,
          17.35,
          17.400000000000002,
          17.45,
          17.5,
          17.55,
          17.6,
          17.650000000000002,
          17.7,
          17.75,
          17.8,
          17.85,
          17.900000000000002,
          17.95,
          18,
          18.05,
          18.1,
          18.150000000000002,
          18.2,
          18.25,
          18.3,
          18.35,
          18.400000000000002,
          18.45,
          18.5,
          18.55,
          18.6,
          18.650000000000002,
          18.7,
          18.75,
          18.8,
          18.85,
          18.900000000000002,
          18.95,
          19,
          19.05,
          19.1,
          19.150000000000002,
          19.2,
          19.25,
          19.3,
          19.35,
          19.400000000000002,
          19.45,
          19.5,
          19.55,
          19.6,
          19.650000000000002,
          19.7,
          19.75,
          19.8,
          19.85,
          19.900000000000002,
          19.95,
          20,
          20.05,
          20.1,
          20.150000000000002,
          20.2,
          20.25,
          20.3
         ],
         "y": [
          0,
          0.0014274875000000005,
          0.005716690000000001,
          0.012902062499999999,
          0.022991920000000006,
          0.03601475,
          0.051899039999999994,
          0.07050891749999999,
          0.09162688000000001,
          0.1146957975,
          0.13936675,
          0.16438001250000003,
          0.189414,
          0.212330755,
          0.23317531999999996,
          0.249017625,
          0.26073856000000006,
          0.265066465,
          0.26413533000000006,
          0.25493098,
          0.240994,
          0.2202673725,
          0.19716224000000004,
          0.17080219749999995,
          0.14544864,
          0.1211325,
          0.10093406700000002,
          0.08546850675000002,
          0.07635866,
          0.075048317,
          0.08254507500000001,
          0.10189699225000003,
          0.13444224000000002,
          0.18477416924999995,
          0.25327815499999995,
          0.3429479375,
          0.4483803600000001,
          0.5644455450000001,
          0.67460431,
          0.760401135,
          0.796532,
          0.7530417724999999,
          0.6118610400000001,
          0.3680406765,
          0.03251289360000001,
          -0.40448311875,
          -0.8570910899999998,
          -1.2653593800000003,
          -1.57697856,
          -1.7301846100000005,
          -1.7552812500000001,
          -1.6988691599999999,
          -1.6166540000000003,
          -1.5456311825,
          -1.4793961500000001,
          -1.4191409375,
          -1.3521648,
          -1.265404275,
          -1.14482807,
          -0.9749323725000001,
          -0.7471278,
          -0.4663389762499999,
          -0.131127489,
          0.23431487625,
          0.5946408960000001,
          0.93333101875,
          1.19574378,
          1.3480803675,
          1.37300432,
          1.283113305,
          1.084858775,
          0.81964265525,
          0.5413521600000001,
          0.30279777674999997,
          0.15314866100000002,
          0.126380953125,
          0.233578552,
          0.46266655050000005,
          0.7752187169999999,
          1.1183965615,
          1.4348512,
          1.6770080025,
          1.7985019,
          1.7813576200000003,
          1.629417384,
          1.36248508125,
          1.0148254989999999,
          0.6254151164999999,
          0.22818664000000002,
          -0.1570726379,
          -0.5149453500000001,
          -0.8458006374999999,
          -1.1564447839999998,
          -1.4592895515000002,
          -1.7490287660000001,
          -2.0148538125,
          -2.234022912,
          -2.3816531249999997,
          -2.4173508100000007,
          -2.31525837675,
          -2.065825,
          -1.6811783552499997,
          -1.1932633709999998,
          -0.6538141042500001,
          -0.121853056,
          0.35141911875,
          0.722736037,
          0.9786147239999999,
          1.1316646080000001,
          1.2117907140000002,
          1.25778895,
          1.30153191525,
          1.3537359359999999,
          1.39855983975,
          1.3956631830000001,
          1.29324299375,
          1.047690888,
          0.6441666952499999,
          0.11080336290000001,
          -0.47971449575,
          -1.0218168,
          -1.39034230225,
          -1.4975573809999998,
          -1.3009011052500001,
          -0.823158004,
          -0.15014921875,
          0.5893647479999999,
          1.2562474874999998,
          1.7364254720000003,
          1.9684638899999998,
          1.954624425,
          1.7385508782499999,
          1.4130297719999998,
          1.0618485587500002,
          0.7326990689999999,
          0.42196707,
          0.08062360159999998,
          -0.36028268562499993,
          -0.9532617030000001,
          -1.700112753,
          -2.5327316,
          -3.3190633664999996,
          -3.8715888199999995,
          -4.03123917625,
          -3.701884032,
          -2.88512934375,
          -1.6889306279999998,
          -0.3061519902,
          1.0314046000000001,
          2.11017729875,
          2.7863043750000003,
          3.009937209,
          2.844772416,
          2.4305740267500004,
          1.9352967480000003,
          1.50443949375,
          1.2225615479999998,
          1.09762613225,
          1.0705000070000001,
          1.04397257475,
          0.9200512,
          0.635328246175,
          0.1693636857,
          -0.43904608275,
          -1.1107173879999999,
          -1.7479539,
          -2.2559339410000008,
          -2.55751193925,
          -2.599508016,
          -2.3530693874999997,
          -1.813019825,
          -0.9976809892500001,
          0.03568436872,
          1.18970019675,
          2.324114432999999,
          3.266125625,
          3.8356341760000006,
          3.8827909439999995,
          3.329156695,
          2.1999590907499997,
          0.6352943400000001,
          -1.1314912277500002,
          -2.8031267809999996,
          -4.09675123125,
          -4.80387016,
          -4.837387168749999,
          -4.247368218,
          -3.20071257,
          -1.9309752600000005,
          -0.6737793252749998,
          0.392704825,
          1.1871099805000003,
          1.7210603519999998,
          2.08016109275,
          2.3731191619999996,
          2.6807625,
          3.019612848000001,
          3.3319369927499998,
          3.5046121770000007,
          3.4094381947499994,
          2.95053,
          2.10451839075,
          0.9257346294,
          -0.44207572885000007,
          -1.806051168,
          -2.9683833437500002,
          -3.769441354000001,
          -4.118153116499999,
          -4.003023232,
          -3.4838545967499996,
          -2.6693509499999997,
          -1.68922691225,
          -0.6685734607999999,
          0.28984666185,
          1.1138594711999998,
          1.7619121,
          2.217921264,
          2.483756394,
          2.571345425,
          2.4952669469999997,
          2.2664147,
          1.8927963242500003,
          1.3540039739999998,
          0.6431302383,
          -0.23326320639999995,
          -1.23968221875,
          -2.2977687810000003,
          -3.2807354897499996,
          -4.022612892000001,
          -4.34532681125,
          -4.10078155,
          -3.21842869425,
          -1.7439110560000002,
          0.146090341775,
          2.1629167559999996,
          3.95952205,
          5.2077013160000005,
          5.679036956249999,
          5.305262879000001,
          4.198593423499999,
          2.6229888,
          0.9227096146000001,
          -0.5777162908,
          -1.64299413825,
          -2.1913415519999995,
          -2.300097975,
          -2.159906814,
          -1.9942774442499998,
          -1.9723564000000002,
          -2.1462576165,
          -2.434515625,
          -2.6574924317500006,
          -2.6111415959999995,
          -2.15158252375,
          -1.2589749014,
          -0.056621169000000006,
          1.22241024,
          2.3089904787499997,
          2.985012657,
          3.1519181767499997,
          2.8553733,
          2.26490403825,
          1.5794160671999997,
          0.979683777625,
          0.550676808,
          0.25870538875,
          -0.019761443240000003,
          -0.42920255339999996,
          -1.0540674768,
          -1.8594244364999999,
          -2.679457725,
          -3.2616984125000004,
          -3.3535097599999997,
          -2.7993465045000003,
          -1.6120637792999997,
          0.01018156390625,
          1.7307739476000004,
          3.1708451072499995,
          4.021994607,
          4.136295597749999,
          3.5623,
          2.5187571987500004,
          1.2940304328,
          0.1713037636575,
          -0.6698702604,
          -1.195028904375,
          -1.4966132324,
          -1.7269649277999999,
          -2.0121841152,
          -2.383438777,
          -2.754506275,
          -2.9553033892500005,
          -2.807167988,
          -2.2091093925,
          -1.1976658595999998,
          0.046011857999999996,
          1.2481096336000002,
          2.134834218,
          2.530558784,
          2.4222977447499994,
          1.9636154999999997,
          1.4163337226500003,
          1.0355644174999998,
          0.98071750935,
          1.2392754559999999,
          1.6247351143750002,
          1.8458207181000004,
          1.6232340334250002,
          0.8106603120000001,
          -0.52685938395,
          -2.10976979,
          -3.52144234825,
          -4.341639743999999,
          -4.289474696,
          -3.3248296629999996,
          -1.6708100849999998,
          0.25245843560000003,
          1.960025383875,
          3.0546526679999997,
          3.3463850447499994,
          2.8984064,
          1.9893765226500002,
          0.9845806719000001,
          0.21713290549249994,
          -0.13661865323999997,
          -0.10873539218749999,
          0.09126052964999999,
          0.17592654118500003,
          -0.09136248447999999,
          -0.7882975547999999,
          -1.78773507,
          -2.79202513375,
          -3.4355994120000006,
          -3.4181811472499994,
          -2.6203026282999997,
          -1.15849306375,
          0.6403009536000001,
          2.3364266447500004,
          3.5137455859999998,
          3.9076300327499993,
          3.4815252,
          2.4312351252750006,
          1.0974439710000001,
          -0.12537589219749998,
          -0.9262395391999999,
          -1.167531103125,
          -0.9115625175000001,
          -0.37955023957500006,
          0.13826867543999996,
          0.3875464218,
          0.23366721875000002,
          -0.301360118085,
          -1.0567400448000002,
          -1.7941858017249996,
          -2.2782260826,
          -2.347672465625,
          -1.9568608712000002,
          -1.1781130662000003,
          -0.17073783793,
          0.868319627375,
          1.75419432,
          2.359243417325,
          2.6001160782000006,
          2.4661358963999995,
          1.9994739491999998,
          1.28077852125,
          0.41701507470000004,
          -0.46829008242500003,
          -1.2459854399999997,
          -1.797069898125,
          -2.03386854,
          -1.9223079701,
          -1.4970969252,
          -0.8612919873999999,
          -0.16578837869,
          0.428642578125,
          0.7965053152,
          0.8851367733000002,
          0.7306980596999999,
          0.44508241157499995,
          0.17633189400000002,
          0.06002661381750001,
          0.1555622802,
          0.43364568902499995,
          0.7800016895999999,
          1.03473649125,
          1.0505260972000001,
          0.7492418878500001,
          0.1562985444,
          -0.600407680775,
          -1.32778737,
          -1.82875487795,
          -1.9663959504000006,
          -1.7087387890499997,
          -1.1384736577,
          -0.42427098125,
          0.23620331592000002,
          0.6816234629750001,
          0.8380918033999999,
          0.7386010994250001,
          0.504912
         ]
        },
        {
         "line": {
          "color": "#d62728",
          "width": 3
         },
         "name": "EXP data",
         "type": "scatter",
         "uid": "252a79c8-f620-49d2-806c-3003d8b56adc",
         "x": [
          0,
          0.05,
          0.1,
          0.15000000000000002,
          0.2,
          0.25,
          0.30000000000000004,
          0.35000000000000003,
          0.4,
          0.45,
          0.5,
          0.55,
          0.6000000000000001,
          0.65,
          0.7000000000000001,
          0.75,
          0.8,
          0.8500000000000001,
          0.9,
          0.9500000000000001,
          1,
          1.05,
          1.1,
          1.1500000000000001,
          1.2000000000000002,
          1.25,
          1.3,
          1.35,
          1.4000000000000001,
          1.4500000000000002,
          1.5,
          1.55,
          1.6,
          1.6500000000000001,
          1.7000000000000002,
          1.75,
          1.8,
          1.85,
          1.9000000000000001,
          1.9500000000000002,
          2,
          2.0500000000000003,
          2.1,
          2.15,
          2.2,
          2.25,
          2.3000000000000003,
          2.35,
          2.4000000000000004,
          2.45,
          2.5,
          2.5500000000000003,
          2.6,
          2.6500000000000004,
          2.7,
          2.75,
          2.8000000000000003,
          2.85,
          2.9000000000000004,
          2.95,
          3,
          3.0500000000000003,
          3.1,
          3.1500000000000004,
          3.2,
          3.25,
          3.3000000000000003,
          3.35,
          3.4000000000000004,
          3.45,
          3.5,
          3.5500000000000003,
          3.6,
          3.6500000000000004,
          3.7,
          3.75,
          3.8000000000000003,
          3.85,
          3.9000000000000004,
          3.95,
          4,
          4.05,
          4.1000000000000005,
          4.15,
          4.2,
          4.25,
          4.3,
          4.3500000000000005,
          4.4,
          4.45,
          4.5,
          4.55,
          4.6000000000000005,
          4.65,
          4.7,
          4.75,
          4.800000000000001,
          4.8500000000000005,
          4.9,
          4.95,
          5,
          5.050000000000001,
          5.1000000000000005,
          5.15,
          5.2,
          5.25,
          5.300000000000001,
          5.3500000000000005,
          5.4,
          5.45,
          5.5,
          5.550000000000001,
          5.6000000000000005,
          5.65,
          5.7,
          5.75,
          5.800000000000001,
          5.8500000000000005,
          5.9,
          5.95,
          6,
          6.050000000000001,
          6.1000000000000005,
          6.15,
          6.2,
          6.25,
          6.300000000000001,
          6.3500000000000005,
          6.4,
          6.45,
          6.5,
          6.550000000000001,
          6.6000000000000005,
          6.65,
          6.7,
          6.75,
          6.800000000000001,
          6.8500000000000005,
          6.9,
          6.95,
          7,
          7.050000000000001,
          7.1000000000000005,
          7.15,
          7.2,
          7.25,
          7.300000000000001,
          7.3500000000000005,
          7.4,
          7.45,
          7.5,
          7.550000000000001,
          7.6000000000000005,
          7.65,
          7.7,
          7.75,
          7.800000000000001,
          7.8500000000000005,
          7.9,
          7.95,
          8,
          8.05,
          8.1,
          8.15,
          8.200000000000001,
          8.25,
          8.3,
          8.35,
          8.4,
          8.450000000000001,
          8.5,
          8.55,
          8.6,
          8.65,
          8.700000000000001,
          8.75,
          8.8,
          8.85,
          8.9,
          8.950000000000001,
          9,
          9.05,
          9.1,
          9.15,
          9.200000000000001,
          9.25,
          9.3,
          9.35,
          9.4,
          9.450000000000001,
          9.5,
          9.55,
          9.600000000000001,
          9.65,
          9.700000000000001,
          9.75,
          9.8,
          9.850000000000001,
          9.9,
          9.950000000000001,
          10,
          10.05,
          10.100000000000001,
          10.15,
          10.200000000000001,
          10.25,
          10.3,
          10.350000000000001,
          10.4,
          10.450000000000001,
          10.5,
          10.55,
          10.600000000000001,
          10.65,
          10.700000000000001,
          10.75,
          10.8,
          10.850000000000001,
          10.9,
          10.950000000000001,
          11,
          11.05,
          11.100000000000001,
          11.15,
          11.200000000000001,
          11.25,
          11.3,
          11.350000000000001,
          11.4,
          11.450000000000001,
          11.5,
          11.55,
          11.600000000000001,
          11.65,
          11.700000000000001,
          11.75,
          11.8,
          11.850000000000001,
          11.9,
          11.950000000000001,
          12,
          12.05,
          12.100000000000001,
          12.15,
          12.200000000000001,
          12.25,
          12.3,
          12.350000000000001,
          12.4,
          12.450000000000001,
          12.5,
          12.55,
          12.600000000000001,
          12.65,
          12.700000000000001,
          12.75,
          12.8,
          12.850000000000001,
          12.9,
          12.950000000000001,
          13,
          13.05,
          13.100000000000001,
          13.15,
          13.200000000000001,
          13.25,
          13.3,
          13.350000000000001,
          13.4,
          13.450000000000001,
          13.5,
          13.55,
          13.600000000000001,
          13.65,
          13.700000000000001,
          13.75,
          13.8,
          13.850000000000001,
          13.9
         ],
         "y": [
          0,
          -0.0036617100386869056,
          -0.01408996842830517,
          -0.030026441702761628,
          -0.04981353097032791,
          -0.07160033325897913,
          -0.09354860286173228,
          -0.11403871268198498,
          -0.13187561557885383,
          -0.146494805712513,
          -0.15816827988953314,
          -0.16822790982107308,
          -0.17944538644644425,
          -0.19617713646693025,
          -0.2206550543607152,
          -0.24977294443710826,
          -0.27924294824773377,
          -0.3043864843367098,
          -0.31685013020355174,
          -0.30727229097421493,
          -0.2687289170785422,
          -0.18543989268851407,
          -0.05103349888302682,
          0.13808227143761823,
          0.3932678700762031,
          0.6882663658378616,
          1.0827083232642742,
          1.383144792599204,
          1.5308578619889812,
          1.4698783961766433,
          1.2085118129991086,
          0.860739803081949,
          0.4806335652479509,
          0.19740355808592192,
          0.04713735393576056,
          -0.15207811070335983,
          -0.48132339223588233,
          -0.7961039144564106,
          -0.9417020864712009,
          -0.8704800409513553,
          -0.6115569585885374,
          -0.11345222400312584,
          0.6081066884105526,
          1.0603184726021073,
          1.0892397669353173,
          0.8464973814596216,
          0.6430823585194424,
          0.6266304113984642,
          0.584140201179611,
          0.3650218056417284,
          0.016932465060150472,
          -0.19529860038331492,
          -0.24565651561359123,
          -0.24344318797614276,
          -0.46138650581614776,
          -0.9133683974888605,
          -1.3306650619922242,
          -1.6024060213403102,
          -1.705726964642831,
          -1.8402182887883864,
          -1.9960855500482795,
          -2.0868787073830055,
          -2.050385310349222,
          -1.7801658028358387,
          -1.4721514001837852,
          -1.1958414512943434,
          -0.9886069444149708,
          -0.7892317497707837,
          -0.5740316786206162,
          -0.34307197829247027,
          0.16048813588104185,
          0.8449250759726314,
          1.4545839984055318,
          1.986991641743469,
          2.2085162704699153,
          2.180417096700132,
          1.947608278213854,
          1.453353304237313,
          0.9372776496142121,
          0.39972103085296823,
          0.043127314480929026,
          -0.03307187223777784,
          -0.028954486186988947,
          0.13784695771232267,
          0.3563265555599249,
          0.6737365026577653,
          1.0400183839312542,
          1.5128746931938022,
          1.939628768119438,
          2.1793621980169755,
          2.3569160436930137,
          2.3026341702518605,
          2.174923160576281,
          1.7359697791802835,
          1.2512672922219632,
          0.6003057395835513,
          -0.07372214653417238,
          -0.732131169710582,
          -1.3911828172973444,
          -1.9340834666772577,
          -2.4765996197261413,
          -2.7734529824633176,
          -3.0323545310701188,
          -2.9639569505909047,
          -2.7838203283324066,
          -2.3904933190603996,
          -1.8835649120897848,
          -1.289643686642084,
          -0.6946088372137563,
          -0.14562787153281687,
          0.290620124670913,
          0.522435318558269,
          0.6118885551081205,
          0.5874464670585607,
          0.5453909831708923,
          0.5687938021321645,
          0.6695691565412748,
          0.8992471721873894,
          1.1171811054608392,
          1.2072986050517487,
          1.1280717117152497,
          0.7950100582787808,
          0.28094203143184987,
          -0.4027075513373799,
          -1.073728173165609,
          -1.5210590811012048,
          -1.7348841829663926,
          -1.6335681292548798,
          -1.2836095891386308,
          -0.688125223649513,
          0.0416866735593124,
          0.7483172394427741,
          1.3771040632875793,
          1.8033849348928142,
          2.0566158583936107,
          2.1224430148452114,
          2.0313252201914995,
          1.8138893127906164,
          1.4855921698940804,
          1.075161302487141,
          0.575967622088333,
          -0.02385635101214997,
          -0.6879595451459538,
          -1.375301860182662,
          -2.0229088167337026,
          -2.497940717240999,
          -2.820899985204535,
          -2.897641071431359,
          -2.7177724443343334,
          -2.302805750215294,
          -1.724536530150988,
          -1.0755391728703496,
          -0.3732243530910466,
          0.3177865715524852,
          0.9477927256894174,
          1.3709065595507068,
          1.6216744013052051,
          1.667200542754903,
          1.5746220110601392,
          1.497402836422582,
          1.4134626874867935,
          1.3295978578384036,
          1.244276470262295,
          1.158254371920611,
          1.071686930629487,
          0.9848927538920039,
          0.8981749067351203,
          0.8118527710415412,
          0.7262583386025946,
          0.6417451753696962,
          0.5586608381197357,
          0.4773851376001438,
          0.39830879895745974,
          0.32182309639203216,
          0.2483519238355919,
          0.1783122129942733,
          0.11190982495166722,
          0.04915521889591653,
          -0.009973050915098721,
          -0.06548133414114087,
          -0.11738682970818111,
          -0.16572846207925343,
          -0.21052970906318821,
          -0.2518335096089059,
          -0.2896837192375418,
          -0.3241329848391399,
          -0.3552401973742903,
          -0.38306440716724177,
          -0.40767857218611053,
          -0.4291926819818248,
          -0.4476506845694135,
          -0.4631337373506667,
          -0.47577941469284424,
          -0.485685552165453,
          -0.49296830398527813,
          -0.4977506278292052,
          -0.5001621798007424,
          -0.5003407038124388,
          -0.49842800005602583,
          -0.49459682798701876,
          -0.488924759412699,
          -0.4816520429596306,
          -0.47303149483304385,
          -0.46308409040650433,
          -0.45211935522642993,
          -0.4403004855890888,
          -0.427858808398721,
          -0.41502007565866617,
          -0.40191993747899496,
          -0.38896305604889897,
          -0.37616627711232486,
          -0.36348657154214437,
          -0.351005656787639,
          -0.3387105568698274,
          -0.32661187154311866,
          -0.31471056062182334,
          -0.30301173450153934,
          -0.29151344023224207,
          -0.28024198583450366,
          -0.26910452177339766,
          -0.25818743198425176,
          -0.24757996413440503,
          -0.23708862141112474,
          -0.22685654621973145,
          -0.2168358104741277,
          -0.20705854773941376,
          -0.19750240272730626,
          -0.18818557794257776,
          -0.17912110623577018,
          -0.17019352987765501,
          -0.16161411123057104,
          -0.15326135639357863,
          -0.14507401465795086,
          -0.13714876257287534,
          -0.1294615980632607,
          -0.1220233372809808,
          -0.1148251287783883,
          -0.10789451586576967,
          -0.10111317805772853,
          -0.09459123118406888,
          -0.08839188749971244,
          -0.0824427489504818,
          -0.07663727697071826,
          -0.07110926007277205,
          -0.06580387551719144,
          -0.06075294119100563,
          -0.05592805743065743,
          -0.05134920010583417,
          -0.04701319941172597,
          -0.04281885399222014,
          -0.0388512241834065,
          -0.035211852499130995,
          -0.0317872906756601,
          -0.028486866711578174,
          -0.02542249223342747,
          -0.022566871169857762,
          -0.019914607618624295,
          -0.017490437618367244,
          -0.015151288611240592,
          -0.013021051444955556,
          -0.011172236995943689,
          -0.009509364172254984,
          -0.007906788473484291,
          -0.0065139638355979045,
          -0.0052653043548872526,
          -0.004184294080354461,
          -0.0032698860619678363,
          -0.0023613443913444027,
          -0.0017370517147384137,
          -0.0012177952356727854,
          -0.0007205439023537609,
          -0.00032917629252223737,
          -0.00016071955655583753,
          -0.00007251559590186319,
          0.00004041012092924621,
          0.00005973109756062651,
          7.128442526169434e-9,
          -3.575820451273965e-9,
          2.1154726630260175e-9
         ]
        }
       ],
       "layout": {
        "height": 500,
        "hovermode": "closest",
        "legend": {
         "bgcolor": "#F2F2F2",
         "borderwidth": 0.5
        },
        "plot_bgcolor": "#FDFDFF",
        "showlegend": true,
        "template": {
         "data": {
          "bar": [
           {
            "error_x": {
             "color": "#2a3f5f"
            },
            "error_y": {
             "color": "#2a3f5f"
            },
            "marker": {
             "line": {
              "color": "#E5ECF6",
              "width": 0.5
             },
             "pattern": {
              "fillmode": "overlay",
              "size": 10,
              "solidity": 0.2
             }
            },
            "type": "bar"
           }
          ],
          "barpolar": [
           {
            "marker": {
             "line": {
              "color": "#E5ECF6",
              "width": 0.5
             },
             "pattern": {
              "fillmode": "overlay",
              "size": 10,
              "solidity": 0.2
             }
            },
            "type": "barpolar"
           }
          ],
          "carpet": [
           {
            "aaxis": {
             "endlinecolor": "#2a3f5f",
             "gridcolor": "white",
             "linecolor": "white",
             "minorgridcolor": "white",
             "startlinecolor": "#2a3f5f"
            },
            "baxis": {
             "endlinecolor": "#2a3f5f",
             "gridcolor": "white",
             "linecolor": "white",
             "minorgridcolor": "white",
             "startlinecolor": "#2a3f5f"
            },
            "type": "carpet"
           }
          ],
          "choropleth": [
           {
            "colorbar": {
             "outlinewidth": 0,
             "ticks": ""
            },
            "type": "choropleth"
           }
          ],
          "contour": [
           {
            "colorbar": {
             "outlinewidth": 0,
             "ticks": ""
            },
            "colorscale": [
             [
              0,
              "#0d0887"
             ],
             [
              0.1111111111111111,
              "#46039f"
             ],
             [
              0.2222222222222222,
              "#7201a8"
             ],
             [
              0.3333333333333333,
              "#9c179e"
             ],
             [
              0.4444444444444444,
              "#bd3786"
             ],
             [
              0.5555555555555556,
              "#d8576b"
             ],
             [
              0.6666666666666666,
              "#ed7953"
             ],
             [
              0.7777777777777778,
              "#fb9f3a"
             ],
             [
              0.8888888888888888,
              "#fdca26"
             ],
             [
              1,
              "#f0f921"
             ]
            ],
            "type": "contour"
           }
          ],
          "contourcarpet": [
           {
            "colorbar": {
             "outlinewidth": 0,
             "ticks": ""
            },
            "type": "contourcarpet"
           }
          ],
          "heatmap": [
           {
            "colorbar": {
             "outlinewidth": 0,
             "ticks": ""
            },
            "colorscale": [
             [
              0,
              "#0d0887"
             ],
             [
              0.1111111111111111,
              "#46039f"
             ],
             [
              0.2222222222222222,
              "#7201a8"
             ],
             [
              0.3333333333333333,
              "#9c179e"
             ],
             [
              0.4444444444444444,
              "#bd3786"
             ],
             [
              0.5555555555555556,
              "#d8576b"
             ],
             [
              0.6666666666666666,
              "#ed7953"
             ],
             [
              0.7777777777777778,
              "#fb9f3a"
             ],
             [
              0.8888888888888888,
              "#fdca26"
             ],
             [
              1,
              "#f0f921"
             ]
            ],
            "type": "heatmap"
           }
          ],
          "heatmapgl": [
           {
            "colorbar": {
             "outlinewidth": 0,
             "ticks": ""
            },
            "colorscale": [
             [
              0,
              "#0d0887"
             ],
             [
              0.1111111111111111,
              "#46039f"
             ],
             [
              0.2222222222222222,
              "#7201a8"
             ],
             [
              0.3333333333333333,
              "#9c179e"
             ],
             [
              0.4444444444444444,
              "#bd3786"
             ],
             [
              0.5555555555555556,
              "#d8576b"
             ],
             [
              0.6666666666666666,
              "#ed7953"
             ],
             [
              0.7777777777777778,
              "#fb9f3a"
             ],
             [
              0.8888888888888888,
              "#fdca26"
             ],
             [
              1,
              "#f0f921"
             ]
            ],
            "type": "heatmapgl"
           }
          ],
          "histogram": [
           {
            "marker": {
             "pattern": {
              "fillmode": "overlay",
              "size": 10,
              "solidity": 0.2
             }
            },
            "type": "histogram"
           }
          ],
          "histogram2d": [
           {
            "colorbar": {
             "outlinewidth": 0,
             "ticks": ""
            },
            "colorscale": [
             [
              0,
              "#0d0887"
             ],
             [
              0.1111111111111111,
              "#46039f"
             ],
             [
              0.2222222222222222,
              "#7201a8"
             ],
             [
              0.3333333333333333,
              "#9c179e"
             ],
             [
              0.4444444444444444,
              "#bd3786"
             ],
             [
              0.5555555555555556,
              "#d8576b"
             ],
             [
              0.6666666666666666,
              "#ed7953"
             ],
             [
              0.7777777777777778,
              "#fb9f3a"
             ],
             [
              0.8888888888888888,
              "#fdca26"
             ],
             [
              1,
              "#f0f921"
             ]
            ],
            "type": "histogram2d"
           }
          ],
          "histogram2dcontour": [
           {
            "colorbar": {
             "outlinewidth": 0,
             "ticks": ""
            },
            "colorscale": [
             [
              0,
              "#0d0887"
             ],
             [
              0.1111111111111111,
              "#46039f"
             ],
             [
              0.2222222222222222,
              "#7201a8"
             ],
             [
              0.3333333333333333,
              "#9c179e"
             ],
             [
              0.4444444444444444,
              "#bd3786"
             ],
             [
              0.5555555555555556,
              "#d8576b"
             ],
             [
              0.6666666666666666,
              "#ed7953"
             ],
             [
              0.7777777777777778,
              "#fb9f3a"
             ],
             [
              0.8888888888888888,
              "#fdca26"
             ],
             [
              1,
              "#f0f921"
             ]
            ],
            "type": "histogram2dcontour"
           }
          ],
          "mesh3d": [
           {
            "colorbar": {
             "outlinewidth": 0,
             "ticks": ""
            },
            "type": "mesh3d"
           }
          ],
          "parcoords": [
           {
            "line": {
             "colorbar": {
              "outlinewidth": 0,
              "ticks": ""
             }
            },
            "type": "parcoords"
           }
          ],
          "pie": [
           {
            "automargin": true,
            "type": "pie"
           }
          ],
          "scatter": [
           {
            "fillpattern": {
             "fillmode": "overlay",
             "size": 10,
             "solidity": 0.2
            },
            "type": "scatter"
           }
          ],
          "scatter3d": [
           {
            "line": {
             "colorbar": {
              "outlinewidth": 0,
              "ticks": ""
             }
            },
            "marker": {
             "colorbar": {
              "outlinewidth": 0,
              "ticks": ""
             }
            },
            "type": "scatter3d"
           }
          ],
          "scattercarpet": [
           {
            "marker": {
             "colorbar": {
              "outlinewidth": 0,
              "ticks": ""
             }
            },
            "type": "scattercarpet"
           }
          ],
          "scattergeo": [
           {
            "marker": {
             "colorbar": {
              "outlinewidth": 0,
              "ticks": ""
             }
            },
            "type": "scattergeo"
           }
          ],
          "scattergl": [
           {
            "marker": {
             "colorbar": {
              "outlinewidth": 0,
              "ticks": ""
             }
            },
            "type": "scattergl"
           }
          ],
          "scattermapbox": [
           {
            "marker": {
             "colorbar": {
              "outlinewidth": 0,
              "ticks": ""
             }
            },
            "type": "scattermapbox"
           }
          ],
          "scatterpolar": [
           {
            "marker": {
             "colorbar": {
              "outlinewidth": 0,
              "ticks": ""
             }
            },
            "type": "scatterpolar"
           }
          ],
          "scatterpolargl": [
           {
            "marker": {
             "colorbar": {
              "outlinewidth": 0,
              "ticks": ""
             }
            },
            "type": "scatterpolargl"
           }
          ],
          "scatterternary": [
           {
            "marker": {
             "colorbar": {
              "outlinewidth": 0,
              "ticks": ""
             }
            },
            "type": "scatterternary"
           }
          ],
          "surface": [
           {
            "colorbar": {
             "outlinewidth": 0,
             "ticks": ""
            },
            "colorscale": [
             [
              0,
              "#0d0887"
             ],
             [
              0.1111111111111111,
              "#46039f"
             ],
             [
              0.2222222222222222,
              "#7201a8"
             ],
             [
              0.3333333333333333,
              "#9c179e"
             ],
             [
              0.4444444444444444,
              "#bd3786"
             ],
             [
              0.5555555555555556,
              "#d8576b"
             ],
             [
              0.6666666666666666,
              "#ed7953"
             ],
             [
              0.7777777777777778,
              "#fb9f3a"
             ],
             [
              0.8888888888888888,
              "#fdca26"
             ],
             [
              1,
              "#f0f921"
             ]
            ],
            "type": "surface"
           }
          ],
          "table": [
           {
            "cells": {
             "fill": {
              "color": "#EBF0F8"
             },
             "line": {
              "color": "white"
             }
            },
            "header": {
             "fill": {
              "color": "#C8D4E3"
             },
             "line": {
              "color": "white"
             }
            },
            "type": "table"
           }
          ]
         },
         "layout": {
          "annotationdefaults": {
           "arrowcolor": "#2a3f5f",
           "arrowhead": 0,
           "arrowwidth": 1
          },
          "autotypenumbers": "strict",
          "coloraxis": {
           "colorbar": {
            "outlinewidth": 0,
            "ticks": ""
           }
          },
          "colorscale": {
           "diverging": [
            [
             0,
             "#8e0152"
            ],
            [
             0.1,
             "#c51b7d"
            ],
            [
             0.2,
             "#de77ae"
            ],
            [
             0.3,
             "#f1b6da"
            ],
            [
             0.4,
             "#fde0ef"
            ],
            [
             0.5,
             "#f7f7f7"
            ],
            [
             0.6,
             "#e6f5d0"
            ],
            [
             0.7,
             "#b8e186"
            ],
            [
             0.8,
             "#7fbc41"
            ],
            [
             0.9,
             "#4d9221"
            ],
            [
             1,
             "#276419"
            ]
           ],
           "sequential": [
            [
             0,
             "#0d0887"
            ],
            [
             0.1111111111111111,
             "#46039f"
            ],
            [
             0.2222222222222222,
             "#7201a8"
            ],
            [
             0.3333333333333333,
             "#9c179e"
            ],
            [
             0.4444444444444444,
             "#bd3786"
            ],
            [
             0.5555555555555556,
             "#d8576b"
            ],
            [
             0.6666666666666666,
             "#ed7953"
            ],
            [
             0.7777777777777778,
             "#fb9f3a"
            ],
            [
             0.8888888888888888,
             "#fdca26"
            ],
            [
             1,
             "#f0f921"
            ]
           ],
           "sequentialminus": [
            [
             0,
             "#0d0887"
            ],
            [
             0.1111111111111111,
             "#46039f"
            ],
            [
             0.2222222222222222,
             "#7201a8"
            ],
            [
             0.3333333333333333,
             "#9c179e"
            ],
            [
             0.4444444444444444,
             "#bd3786"
            ],
            [
             0.5555555555555556,
             "#d8576b"
            ],
            [
             0.6666666666666666,
             "#ed7953"
            ],
            [
             0.7777777777777778,
             "#fb9f3a"
            ],
            [
             0.8888888888888888,
             "#fdca26"
            ],
            [
             1,
             "#f0f921"
            ]
           ]
          },
          "colorway": [
           "#636efa",
           "#EF553B",
           "#00cc96",
           "#ab63fa",
           "#FFA15A",
           "#19d3f3",
           "#FF6692",
           "#B6E880",
           "#FF97FF",
           "#FECB52"
          ],
          "font": {
           "color": "#2a3f5f"
          },
          "geo": {
           "bgcolor": "white",
           "lakecolor": "white",
           "landcolor": "#E5ECF6",
           "showlakes": true,
           "showland": true,
           "subunitcolor": "white"
          },
          "hoverlabel": {
           "align": "left"
          },
          "hovermode": "closest",
          "mapbox": {
           "style": "light"
          },
          "paper_bgcolor": "white",
          "plot_bgcolor": "#E5ECF6",
          "polar": {
           "angularaxis": {
            "gridcolor": "white",
            "linecolor": "white",
            "ticks": ""
           },
           "bgcolor": "#E5ECF6",
           "radialaxis": {
            "gridcolor": "white",
            "linecolor": "white",
            "ticks": ""
           }
          },
          "scene": {
           "xaxis": {
            "backgroundcolor": "#E5ECF6",
            "gridcolor": "white",
            "gridwidth": 2,
            "linecolor": "white",
            "showbackground": true,
            "ticks": "",
            "zerolinecolor": "white"
           },
           "yaxis": {
            "backgroundcolor": "#E5ECF6",
            "gridcolor": "white",
            "gridwidth": 2,
            "linecolor": "white",
            "showbackground": true,
            "ticks": "",
            "zerolinecolor": "white"
           },
           "zaxis": {
            "backgroundcolor": "#E5ECF6",
            "gridcolor": "white",
            "gridwidth": 2,
            "linecolor": "white",
            "showbackground": true,
            "ticks": "",
            "zerolinecolor": "white"
           }
          },
          "shapedefaults": {
           "line": {
            "color": "#2a3f5f"
           }
          },
          "ternary": {
           "aaxis": {
            "gridcolor": "white",
            "linecolor": "white",
            "ticks": ""
           },
           "baxis": {
            "gridcolor": "white",
            "linecolor": "white",
            "ticks": ""
           },
           "bgcolor": "#E5ECF6",
           "caxis": {
            "gridcolor": "white",
            "linecolor": "white",
            "ticks": ""
           }
          },
          "title": {
           "x": 0.05
          },
          "xaxis": {
           "automargin": true,
           "gridcolor": "white",
           "linecolor": "white",
           "ticks": "",
           "title": {
            "standoff": 15
           },
           "zerolinecolor": "white",
           "zerolinewidth": 2
          },
          "yaxis": {
           "automargin": true,
           "gridcolor": "white",
           "linecolor": "white",
           "ticks": "",
           "title": {
            "standoff": 15
           },
           "zerolinecolor": "white",
           "zerolinewidth": 2
          }
         }
        },
        "title": {
         "text": "Wurtzite ZnO EXAFS"
        },
        "width": 800,
        "xaxis": {
         "color": "#004",
         "gridcolor": "#D8D8D8",
         "range": [
          0,
          10
         ],
         "showgrid": true,
         "title": {
          "text": "k (Å^-1)"
         },
         "zerolinecolor": "#DDD"
        },
        "yaxis": {
         "color": "#004",
         "gridcolor": "#D8D8D8",
         "showgrid": true,
         "title": {
          "text": "chi(k) * k^2"
         },
         "zerolinecolor": "#DDD"
        }
       }
      },
      "text/html": [
       "<div>                            <div id=\"dc93ea00-b572-41a0-99df-abb3f215762c\" class=\"plotly-graph-div\" style=\"height:500px; width:800px;\"></div>            <script type=\"text/javascript\">                require([\"plotly\"], function(Plotly) {                    window.PLOTLYENV=window.PLOTLYENV || {};                                    if (document.getElementById(\"dc93ea00-b572-41a0-99df-abb3f215762c\")) {                    Plotly.newPlot(                        \"dc93ea00-b572-41a0-99df-abb3f215762c\",                        [{\"line\":{\"color\":\"#1f77b4\",\"width\":3},\"name\":\"FEFF simulation\",\"x\":[0.3,0.35,0.4,0.44999999999999996,0.5,0.55,0.6,0.6499999999999999,0.7,0.75,0.8,0.8500000000000001,0.8999999999999999,0.95,1.0,1.05,1.1,1.15,1.2,1.25,1.3,1.35,1.4000000000000001,1.45,1.5,1.55,1.6,1.6500000000000001,1.7,1.75,1.8,1.85,1.9000000000000001,1.95,2.0,2.05,2.1,2.15,2.1999999999999997,2.25,2.3,2.3499999999999996,2.4,2.4499999999999997,2.5,2.55,2.5999999999999996,2.65,2.6999999999999997,2.75,2.8,2.8499999999999996,2.9,2.9499999999999997,3.0,3.05,3.0999999999999996,3.15,3.1999999999999997,3.25,3.3,3.3499999999999996,3.4,3.4499999999999997,3.5,3.55,3.5999999999999996,3.65,3.6999999999999997,3.75,3.8,3.8499999999999996,3.9,3.9499999999999997,4.0,4.05,4.1,4.15,4.2,4.25,4.3,4.35,4.3999999999999995,4.45,4.5,4.55,4.6,4.6499999999999995,4.7,4.75,4.8,4.85,4.8999999999999995,4.95,5.0,5.05,5.1,5.1499999999999995,5.2,5.25,5.3,5.35,5.3999999999999995,5.45,5.5,5.55,5.6,5.6499999999999995,5.7,5.75,5.8,5.85,5.8999999999999995,5.95,6.0,6.05,6.1,6.1499999999999995,6.2,6.25,6.3,6.35,6.3999999999999995,6.45,6.5,6.55,6.6,6.6499999999999995,6.7,6.75,6.8,6.85,6.8999999999999995,6.95,7.0,7.05,7.1,7.1499999999999995,7.2,7.25,7.3,7.35,7.3999999999999995,7.45,7.5,7.55,7.6,7.6499999999999995,7.7,7.75,7.8,7.85,7.8999999999999995,7.95,8.0,8.05,8.1,8.15,8.200000000000001,8.25,8.3,8.350000000000001,8.4,8.450000000000001,8.5,8.55,8.600000000000001,8.65,8.700000000000001,8.75,8.8,8.850000000000001,8.9,8.950000000000001,9.0,9.05,9.100000000000001,9.15,9.200000000000001,9.25,9.3,9.350000000000001,9.4,9.450000000000001,9.5,9.55,9.600000000000001,9.65,9.700000000000001,9.75,9.8,9.850000000000001,9.9,9.950000000000001,10.0,10.05,10.100000000000001,10.15,10.200000000000001,10.25,10.3,10.350000000000001,10.4,10.450000000000001,10.5,10.55,10.600000000000001,10.65,10.700000000000001,10.75,10.8,10.850000000000001,10.9,10.950000000000001,11.0,11.05,11.100000000000001,11.15,11.200000000000001,11.25,11.3,11.350000000000001,11.4,11.450000000000001,11.5,11.55,11.600000000000001,11.65,11.700000000000001,11.75,11.8,11.850000000000001,11.9,11.950000000000001,12.0,12.05,12.100000000000001,12.15,12.200000000000001,12.25,12.3,12.350000000000001,12.4,12.450000000000001,12.5,12.55,12.600000000000001,12.65,12.700000000000001,12.75,12.8,12.850000000000001,12.9,12.950000000000001,13.0,13.05,13.100000000000001,13.15,13.200000000000001,13.25,13.3,13.350000000000001,13.4,13.450000000000001,13.5,13.55,13.600000000000001,13.65,13.700000000000001,13.75,13.8,13.850000000000001,13.9,13.950000000000001,14.0,14.05,14.100000000000001,14.15,14.200000000000001,14.25,14.3,14.350000000000001,14.4,14.450000000000001,14.5,14.55,14.600000000000001,14.65,14.700000000000001,14.75,14.8,14.850000000000001,14.9,14.950000000000001,15.0,15.05,15.100000000000001,15.15,15.200000000000001,15.25,15.3,15.350000000000001,15.4,15.450000000000001,15.5,15.55,15.600000000000001,15.65,15.700000000000001,15.75,15.8,15.850000000000001,15.9,15.950000000000001,16.0,16.05,16.1,16.15,16.2,16.25,16.3,16.35,16.400000000000002,16.45,16.5,16.55,16.6,16.650000000000002,16.7,16.75,16.8,16.85,16.900000000000002,16.95,17.0,17.05,17.1,17.150000000000002,17.2,17.25,17.3,17.35,17.400000000000002,17.45,17.5,17.55,17.6,17.650000000000002,17.7,17.75,17.8,17.85,17.900000000000002,17.95,18.0,18.05,18.1,18.150000000000002,18.2,18.25,18.3,18.35,18.400000000000002,18.45,18.5,18.55,18.6,18.650000000000002,18.7,18.75,18.8,18.85,18.900000000000002,18.95,19.0,19.05,19.1,19.150000000000002,19.2,19.25,19.3,19.35,19.400000000000002,19.45,19.5,19.55,19.6,19.650000000000002,19.7,19.75,19.8,19.85,19.900000000000002,19.95,20.0,20.05,20.1,20.150000000000002,20.2,20.25,20.3],\"y\":[0.0,0.0014274875000000005,0.005716690000000001,0.012902062499999999,0.022991920000000006,0.03601475,0.051899039999999994,0.07050891749999999,0.09162688000000001,0.1146957975,0.13936675,0.16438001250000003,0.189414,0.212330755,0.23317531999999996,0.249017625,0.26073856000000006,0.265066465,0.26413533000000006,0.25493098,0.240994,0.2202673725,0.19716224000000004,0.17080219749999995,0.14544864,0.1211325,0.10093406700000002,0.08546850675000002,0.07635866,0.075048317,0.08254507500000001,0.10189699225000003,0.13444224000000002,0.18477416924999995,0.25327815499999995,0.3429479375,0.4483803600000001,0.5644455450000001,0.67460431,0.760401135,0.796532,0.7530417724999999,0.6118610400000001,0.3680406765,0.03251289360000001,-0.40448311875,-0.8570910899999998,-1.2653593800000003,-1.57697856,-1.7301846100000005,-1.7552812500000001,-1.6988691599999999,-1.6166540000000003,-1.5456311825,-1.4793961500000001,-1.4191409375,-1.3521648,-1.265404275,-1.14482807,-0.9749323725000001,-0.7471278,-0.4663389762499999,-0.131127489,0.23431487625,0.5946408960000001,0.93333101875,1.19574378,1.3480803675,1.37300432,1.283113305,1.084858775,0.81964265525,0.5413521600000001,0.30279777674999997,0.15314866100000002,0.126380953125,0.233578552,0.46266655050000005,0.7752187169999999,1.1183965615,1.4348512,1.6770080025,1.7985019,1.7813576200000003,1.629417384,1.36248508125,1.0148254989999999,0.6254151164999999,0.22818664000000002,-0.1570726379,-0.5149453500000001,-0.8458006374999999,-1.1564447839999998,-1.4592895515000002,-1.7490287660000001,-2.0148538125,-2.234022912,-2.3816531249999997,-2.4173508100000007,-2.31525837675,-2.065825,-1.6811783552499997,-1.1932633709999998,-0.6538141042500001,-0.121853056,0.35141911875,0.722736037,0.9786147239999999,1.1316646080000001,1.2117907140000002,1.25778895,1.30153191525,1.3537359359999999,1.39855983975,1.3956631830000001,1.29324299375,1.047690888,0.6441666952499999,0.11080336290000001,-0.47971449575,-1.0218168,-1.39034230225,-1.4975573809999998,-1.3009011052500001,-0.823158004,-0.15014921875,0.5893647479999999,1.2562474874999998,1.7364254720000003,1.9684638899999998,1.954624425,1.7385508782499999,1.4130297719999998,1.0618485587500002,0.7326990689999999,0.42196707,0.08062360159999998,-0.36028268562499993,-0.9532617030000001,-1.700112753,-2.5327316,-3.3190633664999996,-3.8715888199999995,-4.03123917625,-3.701884032,-2.88512934375,-1.6889306279999998,-0.3061519902,1.0314046000000001,2.11017729875,2.7863043750000003,3.009937209,2.844772416,2.4305740267500004,1.9352967480000003,1.50443949375,1.2225615479999998,1.09762613225,1.0705000070000001,1.04397257475,0.9200512,0.635328246175,0.1693636857,-0.43904608275,-1.1107173879999999,-1.7479539,-2.2559339410000008,-2.55751193925,-2.599508016,-2.3530693874999997,-1.813019825,-0.9976809892500001,0.03568436872,1.18970019675,2.324114432999999,3.266125625,3.8356341760000006,3.8827909439999995,3.329156695,2.1999590907499997,0.6352943400000001,-1.1314912277500002,-2.8031267809999996,-4.09675123125,-4.80387016,-4.837387168749999,-4.247368218,-3.20071257,-1.9309752600000005,-0.6737793252749998,0.392704825,1.1871099805000003,1.7210603519999998,2.08016109275,2.3731191619999996,2.6807625,3.019612848000001,3.3319369927499998,3.5046121770000007,3.4094381947499994,2.95053,2.10451839075,0.9257346294,-0.44207572885000007,-1.806051168,-2.9683833437500002,-3.769441354000001,-4.118153116499999,-4.003023232,-3.4838545967499996,-2.6693509499999997,-1.68922691225,-0.6685734607999999,0.28984666185,1.1138594711999998,1.7619121,2.217921264,2.483756394,2.571345425,2.4952669469999997,2.2664147,1.8927963242500003,1.3540039739999998,0.6431302383,-0.23326320639999995,-1.23968221875,-2.2977687810000003,-3.2807354897499996,-4.022612892000001,-4.34532681125,-4.10078155,-3.21842869425,-1.7439110560000002,0.146090341775,2.1629167559999996,3.95952205,5.2077013160000005,5.679036956249999,5.305262879000001,4.198593423499999,2.6229888,0.9227096146000001,-0.5777162908,-1.64299413825,-2.1913415519999995,-2.300097975,-2.159906814,-1.9942774442499998,-1.9723564000000002,-2.1462576165,-2.434515625,-2.6574924317500006,-2.6111415959999995,-2.15158252375,-1.2589749014,-0.056621169000000006,1.22241024,2.3089904787499997,2.985012657,3.1519181767499997,2.8553733,2.26490403825,1.5794160671999997,0.979683777625,0.550676808,0.25870538875,-0.019761443240000003,-0.42920255339999996,-1.0540674768,-1.8594244364999999,-2.679457725,-3.2616984125000004,-3.3535097599999997,-2.7993465045000003,-1.6120637792999997,0.01018156390625,1.7307739476000004,3.1708451072499995,4.021994607,4.136295597749999,3.5623,2.5187571987500004,1.2940304328,0.1713037636575,-0.6698702604,-1.195028904375,-1.4966132324,-1.7269649277999999,-2.0121841152,-2.383438777,-2.754506275,-2.9553033892500005,-2.807167988,-2.2091093925,-1.1976658595999998,0.046011857999999996,1.2481096336000002,2.134834218,2.530558784,2.4222977447499994,1.9636154999999997,1.4163337226500003,1.0355644174999998,0.98071750935,1.2392754559999999,1.6247351143750002,1.8458207181000004,1.6232340334250002,0.8106603120000001,-0.52685938395,-2.10976979,-3.52144234825,-4.341639743999999,-4.289474696,-3.3248296629999996,-1.6708100849999998,0.25245843560000003,1.960025383875,3.0546526679999997,3.3463850447499994,2.8984064,1.9893765226500002,0.9845806719000001,0.21713290549249994,-0.13661865323999997,-0.10873539218749999,0.09126052964999999,0.17592654118500003,-0.09136248447999999,-0.7882975547999999,-1.78773507,-2.79202513375,-3.4355994120000006,-3.4181811472499994,-2.6203026282999997,-1.15849306375,0.6403009536000001,2.3364266447500004,3.5137455859999998,3.9076300327499993,3.4815252,2.4312351252750006,1.0974439710000001,-0.12537589219749998,-0.9262395391999999,-1.167531103125,-0.9115625175000001,-0.37955023957500006,0.13826867543999996,0.3875464218,0.23366721875000002,-0.301360118085,-1.0567400448000002,-1.7941858017249996,-2.2782260826,-2.347672465625,-1.9568608712000002,-1.1781130662000003,-0.17073783793,0.868319627375,1.75419432,2.359243417325,2.6001160782000006,2.4661358963999995,1.9994739491999998,1.28077852125,0.41701507470000004,-0.46829008242500003,-1.2459854399999997,-1.797069898125,-2.03386854,-1.9223079701,-1.4970969252,-0.8612919873999999,-0.16578837869,0.428642578125,0.7965053152,0.8851367733000002,0.7306980596999999,0.44508241157499995,0.17633189400000002,0.06002661381750001,0.1555622802,0.43364568902499995,0.7800016895999999,1.03473649125,1.0505260972000001,0.7492418878500001,0.1562985444,-0.600407680775,-1.32778737,-1.82875487795,-1.9663959504000006,-1.7087387890499997,-1.1384736577,-0.42427098125,0.23620331592000002,0.6816234629750001,0.8380918033999999,0.7386010994250001,0.504912],\"type\":\"scatter\",\"uid\":\"196cb62c-5700-491f-8ef8-c653f9117fa8\"},{\"line\":{\"color\":\"#d62728\",\"width\":3},\"name\":\"EXP data\",\"x\":[0.0,0.05,0.1,0.15000000000000002,0.2,0.25,0.30000000000000004,0.35000000000000003,0.4,0.45,0.5,0.55,0.6000000000000001,0.65,0.7000000000000001,0.75,0.8,0.8500000000000001,0.9,0.9500000000000001,1.0,1.05,1.1,1.1500000000000001,1.2000000000000002,1.25,1.3,1.35,1.4000000000000001,1.4500000000000002,1.5,1.55,1.6,1.6500000000000001,1.7000000000000002,1.75,1.8,1.85,1.9000000000000001,1.9500000000000002,2.0,2.0500000000000003,2.1,2.15,2.2,2.25,2.3000000000000003,2.35,2.4000000000000004,2.45,2.5,2.5500000000000003,2.6,2.6500000000000004,2.7,2.75,2.8000000000000003,2.85,2.9000000000000004,2.95,3.0,3.0500000000000003,3.1,3.1500000000000004,3.2,3.25,3.3000000000000003,3.35,3.4000000000000004,3.45,3.5,3.5500000000000003,3.6,3.6500000000000004,3.7,3.75,3.8000000000000003,3.85,3.9000000000000004,3.95,4.0,4.05,4.1000000000000005,4.15,4.2,4.25,4.3,4.3500000000000005,4.4,4.45,4.5,4.55,4.6000000000000005,4.65,4.7,4.75,4.800000000000001,4.8500000000000005,4.9,4.95,5.0,5.050000000000001,5.1000000000000005,5.15,5.2,5.25,5.300000000000001,5.3500000000000005,5.4,5.45,5.5,5.550000000000001,5.6000000000000005,5.65,5.7,5.75,5.800000000000001,5.8500000000000005,5.9,5.95,6.0,6.050000000000001,6.1000000000000005,6.15,6.2,6.25,6.300000000000001,6.3500000000000005,6.4,6.45,6.5,6.550000000000001,6.6000000000000005,6.65,6.7,6.75,6.800000000000001,6.8500000000000005,6.9,6.95,7.0,7.050000000000001,7.1000000000000005,7.15,7.2,7.25,7.300000000000001,7.3500000000000005,7.4,7.45,7.5,7.550000000000001,7.6000000000000005,7.65,7.7,7.75,7.800000000000001,7.8500000000000005,7.9,7.95,8.0,8.05,8.1,8.15,8.200000000000001,8.25,8.3,8.35,8.4,8.450000000000001,8.5,8.55,8.6,8.65,8.700000000000001,8.75,8.8,8.85,8.9,8.950000000000001,9.0,9.05,9.1,9.15,9.200000000000001,9.25,9.3,9.35,9.4,9.450000000000001,9.5,9.55,9.600000000000001,9.65,9.700000000000001,9.75,9.8,9.850000000000001,9.9,9.950000000000001,10.0,10.05,10.100000000000001,10.15,10.200000000000001,10.25,10.3,10.350000000000001,10.4,10.450000000000001,10.5,10.55,10.600000000000001,10.65,10.700000000000001,10.75,10.8,10.850000000000001,10.9,10.950000000000001,11.0,11.05,11.100000000000001,11.15,11.200000000000001,11.25,11.3,11.350000000000001,11.4,11.450000000000001,11.5,11.55,11.600000000000001,11.65,11.700000000000001,11.75,11.8,11.850000000000001,11.9,11.950000000000001,12.0,12.05,12.100000000000001,12.15,12.200000000000001,12.25,12.3,12.350000000000001,12.4,12.450000000000001,12.5,12.55,12.600000000000001,12.65,12.700000000000001,12.75,12.8,12.850000000000001,12.9,12.950000000000001,13.0,13.05,13.100000000000001,13.15,13.200000000000001,13.25,13.3,13.350000000000001,13.4,13.450000000000001,13.5,13.55,13.600000000000001,13.65,13.700000000000001,13.75,13.8,13.850000000000001,13.9],\"y\":[-0.0,-0.0036617100386869056,-0.01408996842830517,-0.030026441702761628,-0.04981353097032791,-0.07160033325897913,-0.09354860286173228,-0.11403871268198498,-0.13187561557885383,-0.146494805712513,-0.15816827988953314,-0.16822790982107308,-0.17944538644644425,-0.19617713646693025,-0.2206550543607152,-0.24977294443710826,-0.27924294824773377,-0.3043864843367098,-0.31685013020355174,-0.30727229097421493,-0.2687289170785422,-0.18543989268851407,-0.05103349888302682,0.13808227143761823,0.3932678700762031,0.6882663658378616,1.0827083232642742,1.383144792599204,1.5308578619889812,1.4698783961766433,1.2085118129991086,0.860739803081949,0.4806335652479509,0.19740355808592192,0.04713735393576056,-0.15207811070335983,-0.48132339223588233,-0.7961039144564106,-0.9417020864712009,-0.8704800409513553,-0.6115569585885374,-0.11345222400312584,0.6081066884105526,1.0603184726021073,1.0892397669353173,0.8464973814596216,0.6430823585194424,0.6266304113984642,0.584140201179611,0.3650218056417284,0.016932465060150472,-0.19529860038331492,-0.24565651561359123,-0.24344318797614276,-0.46138650581614776,-0.9133683974888605,-1.3306650619922242,-1.6024060213403102,-1.705726964642831,-1.8402182887883864,-1.9960855500482795,-2.0868787073830055,-2.050385310349222,-1.7801658028358387,-1.4721514001837852,-1.1958414512943434,-0.9886069444149708,-0.7892317497707837,-0.5740316786206162,-0.34307197829247027,0.16048813588104185,0.8449250759726314,1.4545839984055318,1.986991641743469,2.2085162704699153,2.180417096700132,1.947608278213854,1.453353304237313,0.9372776496142121,0.39972103085296823,0.043127314480929026,-0.03307187223777784,-0.028954486186988947,0.13784695771232267,0.3563265555599249,0.6737365026577653,1.0400183839312542,1.5128746931938022,1.939628768119438,2.1793621980169755,2.3569160436930137,2.3026341702518605,2.174923160576281,1.7359697791802835,1.2512672922219632,0.6003057395835513,-0.07372214653417238,-0.732131169710582,-1.3911828172973444,-1.9340834666772577,-2.4765996197261413,-2.7734529824633176,-3.0323545310701188,-2.9639569505909047,-2.7838203283324066,-2.3904933190603996,-1.8835649120897848,-1.289643686642084,-0.6946088372137563,-0.14562787153281687,0.290620124670913,0.522435318558269,0.6118885551081205,0.5874464670585607,0.5453909831708923,0.5687938021321645,0.6695691565412748,0.8992471721873894,1.1171811054608392,1.2072986050517487,1.1280717117152497,0.7950100582787808,0.28094203143184987,-0.4027075513373799,-1.073728173165609,-1.5210590811012048,-1.7348841829663926,-1.6335681292548798,-1.2836095891386308,-0.688125223649513,0.0416866735593124,0.7483172394427741,1.3771040632875793,1.8033849348928142,2.0566158583936107,2.1224430148452114,2.0313252201914995,1.8138893127906164,1.4855921698940804,1.075161302487141,0.575967622088333,-0.02385635101214997,-0.6879595451459538,-1.375301860182662,-2.0229088167337026,-2.497940717240999,-2.820899985204535,-2.897641071431359,-2.7177724443343334,-2.302805750215294,-1.724536530150988,-1.0755391728703496,-0.3732243530910466,0.3177865715524852,0.9477927256894174,1.3709065595507068,1.6216744013052051,1.667200542754903,1.5746220110601392,1.497402836422582,1.4134626874867935,1.3295978578384036,1.244276470262295,1.158254371920611,1.071686930629487,0.9848927538920039,0.8981749067351203,0.8118527710415412,0.7262583386025946,0.6417451753696962,0.5586608381197357,0.4773851376001438,0.39830879895745974,0.32182309639203216,0.2483519238355919,0.1783122129942733,0.11190982495166722,0.04915521889591653,-0.009973050915098721,-0.06548133414114087,-0.11738682970818111,-0.16572846207925343,-0.21052970906318821,-0.2518335096089059,-0.2896837192375418,-0.3241329848391399,-0.3552401973742903,-0.38306440716724177,-0.40767857218611053,-0.4291926819818248,-0.4476506845694135,-0.4631337373506667,-0.47577941469284424,-0.485685552165453,-0.49296830398527813,-0.4977506278292052,-0.5001621798007424,-0.5003407038124388,-0.49842800005602583,-0.49459682798701876,-0.488924759412699,-0.4816520429596306,-0.47303149483304385,-0.46308409040650433,-0.45211935522642993,-0.4403004855890888,-0.427858808398721,-0.41502007565866617,-0.40191993747899496,-0.38896305604889897,-0.37616627711232486,-0.36348657154214437,-0.351005656787639,-0.3387105568698274,-0.32661187154311866,-0.31471056062182334,-0.30301173450153934,-0.29151344023224207,-0.28024198583450366,-0.26910452177339766,-0.25818743198425176,-0.24757996413440503,-0.23708862141112474,-0.22685654621973145,-0.2168358104741277,-0.20705854773941376,-0.19750240272730626,-0.18818557794257776,-0.17912110623577018,-0.17019352987765501,-0.16161411123057104,-0.15326135639357863,-0.14507401465795086,-0.13714876257287534,-0.1294615980632607,-0.1220233372809808,-0.1148251287783883,-0.10789451586576967,-0.10111317805772853,-0.09459123118406888,-0.08839188749971244,-0.0824427489504818,-0.07663727697071826,-0.07110926007277205,-0.06580387551719144,-0.06075294119100563,-0.05592805743065743,-0.05134920010583417,-0.04701319941172597,-0.04281885399222014,-0.0388512241834065,-0.035211852499130995,-0.0317872906756601,-0.028486866711578174,-0.02542249223342747,-0.022566871169857762,-0.019914607618624295,-0.017490437618367244,-0.015151288611240592,-0.013021051444955556,-0.011172236995943689,-0.009509364172254984,-0.007906788473484291,-0.0065139638355979045,-0.0052653043548872526,-0.004184294080354461,-0.0032698860619678363,-0.0023613443913444027,-0.0017370517147384137,-0.0012177952356727854,-0.0007205439023537609,-0.00032917629252223737,-0.00016071955655583753,-0.00007251559590186319,0.00004041012092924621,0.00005973109756062651,7.128442526169434e-9,-3.575820451273965e-9,2.1154726630260175e-9],\"type\":\"scatter\",\"uid\":\"252a79c8-f620-49d2-806c-3003d8b56adc\"}],                        {\"template\":{\"data\":{\"barpolar\":[{\"marker\":{\"line\":{\"color\":\"#E5ECF6\",\"width\":0.5},\"pattern\":{\"fillmode\":\"overlay\",\"size\":10,\"solidity\":0.2}},\"type\":\"barpolar\"}],\"bar\":[{\"error_x\":{\"color\":\"#2a3f5f\"},\"error_y\":{\"color\":\"#2a3f5f\"},\"marker\":{\"line\":{\"color\":\"#E5ECF6\",\"width\":0.5},\"pattern\":{\"fillmode\":\"overlay\",\"size\":10,\"solidity\":0.2}},\"type\":\"bar\"}],\"carpet\":[{\"aaxis\":{\"endlinecolor\":\"#2a3f5f\",\"gridcolor\":\"white\",\"linecolor\":\"white\",\"minorgridcolor\":\"white\",\"startlinecolor\":\"#2a3f5f\"},\"baxis\":{\"endlinecolor\":\"#2a3f5f\",\"gridcolor\":\"white\",\"linecolor\":\"white\",\"minorgridcolor\":\"white\",\"startlinecolor\":\"#2a3f5f\"},\"type\":\"carpet\"}],\"choropleth\":[{\"colorbar\":{\"outlinewidth\":0,\"ticks\":\"\"},\"type\":\"choropleth\"}],\"contourcarpet\":[{\"colorbar\":{\"outlinewidth\":0,\"ticks\":\"\"},\"type\":\"contourcarpet\"}],\"contour\":[{\"colorbar\":{\"outlinewidth\":0,\"ticks\":\"\"},\"colorscale\":[[0.0,\"#0d0887\"],[0.1111111111111111,\"#46039f\"],[0.2222222222222222,\"#7201a8\"],[0.3333333333333333,\"#9c179e\"],[0.4444444444444444,\"#bd3786\"],[0.5555555555555556,\"#d8576b\"],[0.6666666666666666,\"#ed7953\"],[0.7777777777777778,\"#fb9f3a\"],[0.8888888888888888,\"#fdca26\"],[1.0,\"#f0f921\"]],\"type\":\"contour\"}],\"heatmapgl\":[{\"colorbar\":{\"outlinewidth\":0,\"ticks\":\"\"},\"colorscale\":[[0.0,\"#0d0887\"],[0.1111111111111111,\"#46039f\"],[0.2222222222222222,\"#7201a8\"],[0.3333333333333333,\"#9c179e\"],[0.4444444444444444,\"#bd3786\"],[0.5555555555555556,\"#d8576b\"],[0.6666666666666666,\"#ed7953\"],[0.7777777777777778,\"#fb9f3a\"],[0.8888888888888888,\"#fdca26\"],[1.0,\"#f0f921\"]],\"type\":\"heatmapgl\"}],\"heatmap\":[{\"colorbar\":{\"outlinewidth\":0,\"ticks\":\"\"},\"colorscale\":[[0.0,\"#0d0887\"],[0.1111111111111111,\"#46039f\"],[0.2222222222222222,\"#7201a8\"],[0.3333333333333333,\"#9c179e\"],[0.4444444444444444,\"#bd3786\"],[0.5555555555555556,\"#d8576b\"],[0.6666666666666666,\"#ed7953\"],[0.7777777777777778,\"#fb9f3a\"],[0.8888888888888888,\"#fdca26\"],[1.0,\"#f0f921\"]],\"type\":\"heatmap\"}],\"histogram2dcontour\":[{\"colorbar\":{\"outlinewidth\":0,\"ticks\":\"\"},\"colorscale\":[[0.0,\"#0d0887\"],[0.1111111111111111,\"#46039f\"],[0.2222222222222222,\"#7201a8\"],[0.3333333333333333,\"#9c179e\"],[0.4444444444444444,\"#bd3786\"],[0.5555555555555556,\"#d8576b\"],[0.6666666666666666,\"#ed7953\"],[0.7777777777777778,\"#fb9f3a\"],[0.8888888888888888,\"#fdca26\"],[1.0,\"#f0f921\"]],\"type\":\"histogram2dcontour\"}],\"histogram2d\":[{\"colorbar\":{\"outlinewidth\":0,\"ticks\":\"\"},\"colorscale\":[[0.0,\"#0d0887\"],[0.1111111111111111,\"#46039f\"],[0.2222222222222222,\"#7201a8\"],[0.3333333333333333,\"#9c179e\"],[0.4444444444444444,\"#bd3786\"],[0.5555555555555556,\"#d8576b\"],[0.6666666666666666,\"#ed7953\"],[0.7777777777777778,\"#fb9f3a\"],[0.8888888888888888,\"#fdca26\"],[1.0,\"#f0f921\"]],\"type\":\"histogram2d\"}],\"histogram\":[{\"marker\":{\"pattern\":{\"fillmode\":\"overlay\",\"size\":10,\"solidity\":0.2}},\"type\":\"histogram\"}],\"mesh3d\":[{\"colorbar\":{\"outlinewidth\":0,\"ticks\":\"\"},\"type\":\"mesh3d\"}],\"parcoords\":[{\"line\":{\"colorbar\":{\"outlinewidth\":0,\"ticks\":\"\"}},\"type\":\"parcoords\"}],\"pie\":[{\"automargin\":true,\"type\":\"pie\"}],\"scatter3d\":[{\"line\":{\"colorbar\":{\"outlinewidth\":0,\"ticks\":\"\"}},\"marker\":{\"colorbar\":{\"outlinewidth\":0,\"ticks\":\"\"}},\"type\":\"scatter3d\"}],\"scattercarpet\":[{\"marker\":{\"colorbar\":{\"outlinewidth\":0,\"ticks\":\"\"}},\"type\":\"scattercarpet\"}],\"scattergeo\":[{\"marker\":{\"colorbar\":{\"outlinewidth\":0,\"ticks\":\"\"}},\"type\":\"scattergeo\"}],\"scattergl\":[{\"marker\":{\"colorbar\":{\"outlinewidth\":0,\"ticks\":\"\"}},\"type\":\"scattergl\"}],\"scattermapbox\":[{\"marker\":{\"colorbar\":{\"outlinewidth\":0,\"ticks\":\"\"}},\"type\":\"scattermapbox\"}],\"scatterpolargl\":[{\"marker\":{\"colorbar\":{\"outlinewidth\":0,\"ticks\":\"\"}},\"type\":\"scatterpolargl\"}],\"scatterpolar\":[{\"marker\":{\"colorbar\":{\"outlinewidth\":0,\"ticks\":\"\"}},\"type\":\"scatterpolar\"}],\"scatter\":[{\"fillpattern\":{\"fillmode\":\"overlay\",\"size\":10,\"solidity\":0.2},\"type\":\"scatter\"}],\"scatterternary\":[{\"marker\":{\"colorbar\":{\"outlinewidth\":0,\"ticks\":\"\"}},\"type\":\"scatterternary\"}],\"surface\":[{\"colorbar\":{\"outlinewidth\":0,\"ticks\":\"\"},\"colorscale\":[[0.0,\"#0d0887\"],[0.1111111111111111,\"#46039f\"],[0.2222222222222222,\"#7201a8\"],[0.3333333333333333,\"#9c179e\"],[0.4444444444444444,\"#bd3786\"],[0.5555555555555556,\"#d8576b\"],[0.6666666666666666,\"#ed7953\"],[0.7777777777777778,\"#fb9f3a\"],[0.8888888888888888,\"#fdca26\"],[1.0,\"#f0f921\"]],\"type\":\"surface\"}],\"table\":[{\"cells\":{\"fill\":{\"color\":\"#EBF0F8\"},\"line\":{\"color\":\"white\"}},\"header\":{\"fill\":{\"color\":\"#C8D4E3\"},\"line\":{\"color\":\"white\"}},\"type\":\"table\"}]},\"layout\":{\"annotationdefaults\":{\"arrowcolor\":\"#2a3f5f\",\"arrowhead\":0,\"arrowwidth\":1},\"autotypenumbers\":\"strict\",\"coloraxis\":{\"colorbar\":{\"outlinewidth\":0,\"ticks\":\"\"}},\"colorscale\":{\"diverging\":[[0,\"#8e0152\"],[0.1,\"#c51b7d\"],[0.2,\"#de77ae\"],[0.3,\"#f1b6da\"],[0.4,\"#fde0ef\"],[0.5,\"#f7f7f7\"],[0.6,\"#e6f5d0\"],[0.7,\"#b8e186\"],[0.8,\"#7fbc41\"],[0.9,\"#4d9221\"],[1,\"#276419\"]],\"sequential\":[[0.0,\"#0d0887\"],[0.1111111111111111,\"#46039f\"],[0.2222222222222222,\"#7201a8\"],[0.3333333333333333,\"#9c179e\"],[0.4444444444444444,\"#bd3786\"],[0.5555555555555556,\"#d8576b\"],[0.6666666666666666,\"#ed7953\"],[0.7777777777777778,\"#fb9f3a\"],[0.8888888888888888,\"#fdca26\"],[1.0,\"#f0f921\"]],\"sequentialminus\":[[0.0,\"#0d0887\"],[0.1111111111111111,\"#46039f\"],[0.2222222222222222,\"#7201a8\"],[0.3333333333333333,\"#9c179e\"],[0.4444444444444444,\"#bd3786\"],[0.5555555555555556,\"#d8576b\"],[0.6666666666666666,\"#ed7953\"],[0.7777777777777778,\"#fb9f3a\"],[0.8888888888888888,\"#fdca26\"],[1.0,\"#f0f921\"]]},\"colorway\":[\"#636efa\",\"#EF553B\",\"#00cc96\",\"#ab63fa\",\"#FFA15A\",\"#19d3f3\",\"#FF6692\",\"#B6E880\",\"#FF97FF\",\"#FECB52\"],\"font\":{\"color\":\"#2a3f5f\"},\"geo\":{\"bgcolor\":\"white\",\"lakecolor\":\"white\",\"landcolor\":\"#E5ECF6\",\"showlakes\":true,\"showland\":true,\"subunitcolor\":\"white\"},\"hoverlabel\":{\"align\":\"left\"},\"hovermode\":\"closest\",\"mapbox\":{\"style\":\"light\"},\"paper_bgcolor\":\"white\",\"plot_bgcolor\":\"#E5ECF6\",\"polar\":{\"angularaxis\":{\"gridcolor\":\"white\",\"linecolor\":\"white\",\"ticks\":\"\"},\"bgcolor\":\"#E5ECF6\",\"radialaxis\":{\"gridcolor\":\"white\",\"linecolor\":\"white\",\"ticks\":\"\"}},\"scene\":{\"xaxis\":{\"backgroundcolor\":\"#E5ECF6\",\"gridcolor\":\"white\",\"gridwidth\":2,\"linecolor\":\"white\",\"showbackground\":true,\"ticks\":\"\",\"zerolinecolor\":\"white\"},\"yaxis\":{\"backgroundcolor\":\"#E5ECF6\",\"gridcolor\":\"white\",\"gridwidth\":2,\"linecolor\":\"white\",\"showbackground\":true,\"ticks\":\"\",\"zerolinecolor\":\"white\"},\"zaxis\":{\"backgroundcolor\":\"#E5ECF6\",\"gridcolor\":\"white\",\"gridwidth\":2,\"linecolor\":\"white\",\"showbackground\":true,\"ticks\":\"\",\"zerolinecolor\":\"white\"}},\"shapedefaults\":{\"line\":{\"color\":\"#2a3f5f\"}},\"ternary\":{\"aaxis\":{\"gridcolor\":\"white\",\"linecolor\":\"white\",\"ticks\":\"\"},\"baxis\":{\"gridcolor\":\"white\",\"linecolor\":\"white\",\"ticks\":\"\"},\"bgcolor\":\"#E5ECF6\",\"caxis\":{\"gridcolor\":\"white\",\"linecolor\":\"white\",\"ticks\":\"\"}},\"title\":{\"x\":0.05},\"xaxis\":{\"automargin\":true,\"gridcolor\":\"white\",\"linecolor\":\"white\",\"ticks\":\"\",\"title\":{\"standoff\":15},\"zerolinecolor\":\"white\",\"zerolinewidth\":2},\"yaxis\":{\"automargin\":true,\"gridcolor\":\"white\",\"linecolor\":\"white\",\"ticks\":\"\",\"title\":{\"standoff\":15},\"zerolinecolor\":\"white\",\"zerolinewidth\":2}}},\"legend\":{\"borderwidth\":0.5,\"bgcolor\":\"#F2F2F2\"},\"xaxis\":{\"showgrid\":true,\"gridcolor\":\"#D8D8D8\",\"color\":\"#004\",\"zerolinecolor\":\"#DDD\",\"title\":{\"text\":\"k (Å^-1)\"},\"range\":[0,10]},\"yaxis\":{\"showgrid\":true,\"gridcolor\":\"#D8D8D8\",\"color\":\"#004\",\"zerolinecolor\":\"#DDD\",\"title\":{\"text\":\"chi(k) * k^2\"}},\"width\":800,\"height\":500,\"showlegend\":true,\"hovermode\":\"closest\",\"plot_bgcolor\":\"#FDFDFF\",\"title\":{\"text\":\"Wurtzite ZnO EXAFS\"}},                        {\"responsive\": true}                    ).then(function(){\n",
       "                            \n",
       "var gd = document.getElementById('dc93ea00-b572-41a0-99df-abb3f215762c');\n",
       "var x = new MutationObserver(function (mutations, observer) {{\n",
       "        var display = window.getComputedStyle(gd).display;\n",
       "        if (!display || display === 'none') {{\n",
       "            console.log([gd, 'removed!']);\n",
       "            Plotly.purge(gd);\n",
       "            observer.disconnect();\n",
       "        }}\n",
       "}});\n",
       "\n",
       "// Listen for the removal of the full notebook cells\n",
       "var notebookContainer = gd.closest('#notebook-container');\n",
       "if (notebookContainer) {{\n",
       "    x.observe(notebookContainer, {childList: true});\n",
       "}}\n",
       "\n",
       "// Listen for the clearing of the current output cell\n",
       "var outputEl = gd.closest('.output');\n",
       "if (outputEl) {{\n",
       "    x.observe(outputEl, {childList: true});\n",
       "}}\n",
       "\n",
       "                        })                };                });            </script>        </div>"
      ]
     },
     "metadata": {},
     "output_type": "display_data"
    }
   ],
   "source": [
    "from larch.plot.plotly_xafsplots import PlotlyFigure\n",
    "fig = PlotlyFigure()\n",
    "fig.add_plot(gsim.k+0.3, gsim.chi*gsim.k**2, label=\"FEFF simulation\")\n",
    "fig.add_plot(gexp.k, gexp.chi*gexp.k**2, label=\"EXP data\")\n",
    "\n",
    "fig.set_style(title=\"Wurtzite ZnO EXAFS\", width=800, height=500, xaxis_title=\"k (Å^-1)\", yaxis_title=\"chi(k) * k^2\" )\n",
    "fig.set_xrange(0, 10)\n",
    "fig.show()"
   ]
  },
  {
   "attachments": {},
   "cell_type": "markdown",
   "metadata": {},
   "source": [
    "*Note: the agreement is not very good because the experimental EXAFS data stops at 8 $\\AA^{-1}$ and the structure parameters are not optimized.*"
   ]
  },
  {
   "attachments": {},
   "cell_type": "markdown",
   "metadata": {},
   "source": [
    "## Example 2: structures with multiple sites\n",
    "\n",
    "Here an example when the input structure has multiple sites for a given absorbing element. The number of non-equivalent sites is found via the [SpaceGroupAnalyzer](https://pymatgen.org/pymatgen.symmetry.analyzer.html#pymatgen.symmetry.analyzer.SpacegroupAnalyzer) in Pymatgen, which is based on [Spglib](https://spglib.readthedocs.io/en/latest/).\n"
   ]
  },
  {
   "cell_type": "code",
   "execution_count": 6,
   "metadata": {},
   "outputs": [
    {
     "name": "stdout",
     "output_type": "stream",
     "text": [
      "[struct2xas] INFO : Frames: 1, Absorbing sites: 4. (Indexes for frames and abs_sites start at 0)\n"
     ]
    }
   ],
   "source": [
    "from larch.xrd.struct2xas import Struct2XAS\n",
    "mat_obj = Struct2XAS(file = \"../structuredata/struct2xas/ZnO_mp-997630.cif\", abs_atom=\"Zn\")"
   ]
  },
  {
   "cell_type": "code",
   "execution_count": 7,
   "metadata": {},
   "outputs": [
    {
     "data": {
      "text/html": [
       "<style type=\"text/css\">\n",
       "</style>\n",
       "<table id=\"T_b2348\">\n",
       "  <thead>\n",
       "    <tr>\n",
       "      <th id=\"T_b2348_level0_col0\" class=\"col_heading level0 col0\" >idx_abs</th>\n",
       "      <th id=\"T_b2348_level0_col1\" class=\"col_heading level0 col1\" >specie</th>\n",
       "      <th id=\"T_b2348_level0_col2\" class=\"col_heading level0 col2\" >frac_coords</th>\n",
       "      <th id=\"T_b2348_level0_col3\" class=\"col_heading level0 col3\" >wyckoff_site</th>\n",
       "      <th id=\"T_b2348_level0_col4\" class=\"col_heading level0 col4\" >cart_coords</th>\n",
       "      <th id=\"T_b2348_level0_col5\" class=\"col_heading level0 col5\" >occupancy_abs_atom</th>\n",
       "      <th id=\"T_b2348_level0_col6\" class=\"col_heading level0 col6\" >idx_struct</th>\n",
       "    </tr>\n",
       "  </thead>\n",
       "  <tbody>\n",
       "    <tr>\n",
       "      <td id=\"T_b2348_row0_col0\" class=\"data row0 col0\" >0</td>\n",
       "      <td id=\"T_b2348_row0_col1\" class=\"data row0 col1\" >Zn</td>\n",
       "      <td id=\"T_b2348_row0_col2\" class=\"data row0 col2\" >[0.3333, 0.6667, 0.6651]</td>\n",
       "      <td id=\"T_b2348_row0_col3\" class=\"data row0 col3\" >4f</td>\n",
       "      <td id=\"T_b2348_row0_col4\" class=\"data row0 col4\" >[ 0.      1.7641 20.2245]</td>\n",
       "      <td id=\"T_b2348_row0_col5\" class=\"data row0 col5\" >1</td>\n",
       "      <td id=\"T_b2348_row0_col6\" class=\"data row0 col6\" >3</td>\n",
       "    </tr>\n",
       "    <tr>\n",
       "      <td id=\"T_b2348_row1_col0\" class=\"data row1 col0\" >1</td>\n",
       "      <td id=\"T_b2348_row1_col1\" class=\"data row1 col1\" >Zn</td>\n",
       "      <td id=\"T_b2348_row1_col2\" class=\"data row1 col2\" >[0.3333, 0.6667, 0.0825]</td>\n",
       "      <td id=\"T_b2348_row1_col3\" class=\"data row1 col3\" >4f</td>\n",
       "      <td id=\"T_b2348_row1_col4\" class=\"data row1 col4\" >[0.     1.7641 2.5097]</td>\n",
       "      <td id=\"T_b2348_row1_col5\" class=\"data row1 col5\" >1</td>\n",
       "      <td id=\"T_b2348_row1_col6\" class=\"data row1 col6\" >7</td>\n",
       "    </tr>\n",
       "    <tr>\n",
       "      <td id=\"T_b2348_row2_col0\" class=\"data row2 col0\" >2</td>\n",
       "      <td id=\"T_b2348_row2_col1\" class=\"data row2 col1\" >Zn</td>\n",
       "      <td id=\"T_b2348_row2_col2\" class=\"data row2 col2\" >[0.0, 0.0, 0.25]</td>\n",
       "      <td id=\"T_b2348_row2_col3\" class=\"data row2 col3\" >2b</td>\n",
       "      <td id=\"T_b2348_row2_col4\" class=\"data row2 col4\" >[0.     0.     7.6025]</td>\n",
       "      <td id=\"T_b2348_row2_col5\" class=\"data row2 col5\" >1</td>\n",
       "      <td id=\"T_b2348_row2_col6\" class=\"data row2 col6\" >8</td>\n",
       "    </tr>\n",
       "    <tr>\n",
       "      <td id=\"T_b2348_row3_col0\" class=\"data row3 col0\" >3</td>\n",
       "      <td id=\"T_b2348_row3_col1\" class=\"data row3 col1\" >Zn</td>\n",
       "      <td id=\"T_b2348_row3_col2\" class=\"data row3 col2\" >[0.0, 0.0, 0.0]</td>\n",
       "      <td id=\"T_b2348_row3_col3\" class=\"data row3 col3\" >2a</td>\n",
       "      <td id=\"T_b2348_row3_col4\" class=\"data row3 col4\" >[0. 0. 0.]</td>\n",
       "      <td id=\"T_b2348_row3_col5\" class=\"data row3 col5\" >1</td>\n",
       "      <td id=\"T_b2348_row3_col6\" class=\"data row3 col6\" >10</td>\n",
       "    </tr>\n",
       "  </tbody>\n",
       "</table>\n"
      ],
      "text/plain": [
       "<pandas.io.formats.style.Styler at 0x7f52c43c8d30>"
      ]
     },
     "execution_count": 7,
     "metadata": {},
     "output_type": "execute_result"
    }
   ],
   "source": [
    "mat_obj.get_abs_sites_info()"
   ]
  },
  {
   "attachments": {},
   "cell_type": "markdown",
   "metadata": {},
   "source": [
    "it is possible to select one site and get information on the local environment and visualize, as shown before"
   ]
  },
  {
   "cell_type": "code",
   "execution_count": 8,
   "metadata": {},
   "outputs": [
    {
     "name": "stdout",
     "output_type": "stream",
     "text": [
      "Coord. Env. from absorber atom: Zn at site 2\n",
      "(For more details use get_coord_envs() method) \n",
      "(['T:6'],   Element  Distance\n",
      "0     (O)   2.21121\n",
      "1     (O)   2.21121\n",
      "2     (O)   2.21121\n",
      "3     (O)   2.21123\n",
      "4     (O)   2.21123\n",
      "5     (O)   2.21123)\n"
     ]
    },
    {
     "data": {
      "application/3dmoljs_load.v0": "<div id=\"3dmolviewer_16874218032240975\"  style=\"position: relative; width: 600px; height: 600px\">\n        <p id=\"3dmolwarning_16874218032240975\" style=\"background-color:#ffcccc;color:black\">You appear to be running in JupyterLab (or JavaScript failed to load for some other reason).  You need to install the 3dmol extension: <br>\n        <tt>jupyter labextension install jupyterlab_3dmol</tt></p>\n        </div>\n<script>\n\nvar loadScriptAsync = function(uri){\n  return new Promise((resolve, reject) => {\n    //this is to ignore the existence of requirejs amd\n    var savedexports, savedmodule;\n    if (typeof exports !== 'undefined') savedexports = exports;\n    else exports = {}\n    if (typeof module !== 'undefined') savedmodule = module;\n    else module = {}\n\n    var tag = document.createElement('script');\n    tag.src = uri;\n    tag.async = true;\n    tag.onload = () => {\n        exports = savedexports;\n        module = savedmodule;\n        resolve();\n    };\n  var firstScriptTag = document.getElementsByTagName('script')[0];\n  firstScriptTag.parentNode.insertBefore(tag, firstScriptTag);\n});\n};\n\nif(typeof $3Dmolpromise === 'undefined') {\n$3Dmolpromise = null;\n  $3Dmolpromise = loadScriptAsync('https://cdnjs.cloudflare.com/ajax/libs/3Dmol/2.0.1/3Dmol-min.js');\n}\n\nvar viewer_16874218032240975 = null;\nvar warn = document.getElementById(\"3dmolwarning_16874218032240975\");\nif(warn) {\n    warn.parentNode.removeChild(warn);\n}\n$3Dmolpromise.then(function() {\nviewer_16874218032240975 = $3Dmol.createViewer(document.getElementById(\"3dmolviewer_16874218032240975\"),{backgroundColor:\"white\"});\nviewer_16874218032240975.zoomTo();\n\tviewer_16874218032240975.addModel(\"7\\n\\nZn 0.000000 0.000000 -0.000022\\nO -1.527739 -0.882040 1.333210\\nO 1.527739 -0.882040 1.333210\\nO 0.000000 1.764081 1.333210\\nO -1.527739 -0.882040 -1.333253\\nO 1.527739 -0.882040 -1.333253\\nO 0.000000 1.764081 -1.333253\\n\",\"xyz\");\n\tviewer_16874218032240975.setStyle({\"elem\": \"O\"},{\"stick\": {\"radius\": 0.1, \"opacity\": 1, \"hidden\": false, \"color\": \"green\"}, \"sphere\": {\"color\": \"green\", \"radius\": 0.4, \"opacity\": 1}});\n\tviewer_16874218032240975.setStyle({\"elem\": \"Zn\"},{\"stick\": {\"radius\": 0.1, \"opacity\": 1, \"hidden\": false, \"color\": \"red\"}, \"sphere\": {\"color\": \"red\", \"radius\": 0.4, \"opacity\": 1}});\n\tviewer_16874218032240975.addLabel(\"Abs\",{\"fontColor\": \"black\", \"fontSize\": 14, \"backgroundColor\": \"white\", \"backgroundOpacity\": 0.8, \"showBackground\": true},{\"index\": 0});\n\tviewer_16874218032240975.zoomTo();\nviewer_16874218032240975.render();\n});\n</script>",
      "text/html": [
       "<div id=\"3dmolviewer_16874218032240975\"  style=\"position: relative; width: 600px; height: 600px\">\n",
       "        <p id=\"3dmolwarning_16874218032240975\" style=\"background-color:#ffcccc;color:black\">You appear to be running in JupyterLab (or JavaScript failed to load for some other reason).  You need to install the 3dmol extension: <br>\n",
       "        <tt>jupyter labextension install jupyterlab_3dmol</tt></p>\n",
       "        </div>\n",
       "<script>\n",
       "\n",
       "var loadScriptAsync = function(uri){\n",
       "  return new Promise((resolve, reject) => {\n",
       "    //this is to ignore the existence of requirejs amd\n",
       "    var savedexports, savedmodule;\n",
       "    if (typeof exports !== 'undefined') savedexports = exports;\n",
       "    else exports = {}\n",
       "    if (typeof module !== 'undefined') savedmodule = module;\n",
       "    else module = {}\n",
       "\n",
       "    var tag = document.createElement('script');\n",
       "    tag.src = uri;\n",
       "    tag.async = true;\n",
       "    tag.onload = () => {\n",
       "        exports = savedexports;\n",
       "        module = savedmodule;\n",
       "        resolve();\n",
       "    };\n",
       "  var firstScriptTag = document.getElementsByTagName('script')[0];\n",
       "  firstScriptTag.parentNode.insertBefore(tag, firstScriptTag);\n",
       "});\n",
       "};\n",
       "\n",
       "if(typeof $3Dmolpromise === 'undefined') {\n",
       "$3Dmolpromise = null;\n",
       "  $3Dmolpromise = loadScriptAsync('https://cdnjs.cloudflare.com/ajax/libs/3Dmol/2.0.1/3Dmol-min.js');\n",
       "}\n",
       "\n",
       "var viewer_16874218032240975 = null;\n",
       "var warn = document.getElementById(\"3dmolwarning_16874218032240975\");\n",
       "if(warn) {\n",
       "    warn.parentNode.removeChild(warn);\n",
       "}\n",
       "$3Dmolpromise.then(function() {\n",
       "viewer_16874218032240975 = $3Dmol.createViewer(document.getElementById(\"3dmolviewer_16874218032240975\"),{backgroundColor:\"white\"});\n",
       "viewer_16874218032240975.zoomTo();\n",
       "\tviewer_16874218032240975.addModel(\"7\\n\\nZn 0.000000 0.000000 -0.000022\\nO -1.527739 -0.882040 1.333210\\nO 1.527739 -0.882040 1.333210\\nO 0.000000 1.764081 1.333210\\nO -1.527739 -0.882040 -1.333253\\nO 1.527739 -0.882040 -1.333253\\nO 0.000000 1.764081 -1.333253\\n\",\"xyz\");\n",
       "\tviewer_16874218032240975.setStyle({\"elem\": \"O\"},{\"stick\": {\"radius\": 0.1, \"opacity\": 1, \"hidden\": false, \"color\": \"green\"}, \"sphere\": {\"color\": \"green\", \"radius\": 0.4, \"opacity\": 1}});\n",
       "\tviewer_16874218032240975.setStyle({\"elem\": \"Zn\"},{\"stick\": {\"radius\": 0.1, \"opacity\": 1, \"hidden\": false, \"color\": \"red\"}, \"sphere\": {\"color\": \"red\", \"radius\": 0.4, \"opacity\": 1}});\n",
       "\tviewer_16874218032240975.addLabel(\"Abs\",{\"fontColor\": \"black\", \"fontSize\": 14, \"backgroundColor\": \"white\", \"backgroundOpacity\": 0.8, \"showBackground\": true},{\"index\": 0});\n",
       "\tviewer_16874218032240975.zoomTo();\n",
       "viewer_16874218032240975.render();\n",
       "});\n",
       "</script>"
      ]
     },
     "metadata": {},
     "output_type": "display_data"
    },
    {
     "name": "stdout",
     "output_type": "stream",
     "text": [
      "[struct2xas] INFO : {'Zn': 'red', 'O': 'green'}\n"
     ]
    }
   ],
   "source": [
    "# analysis for second site\n",
    "mat_obj.set_abs_site(2)\n",
    "print(mat_obj.get_coord_envs_info())\n",
    "mat_obj.visualize()"
   ]
  },
  {
   "attachments": {},
   "cell_type": "markdown",
   "metadata": {},
   "source": [
    "to create the FDMNES inputs simply range over the sites"
   ]
  },
  {
   "cell_type": "code",
   "execution_count": 9,
   "metadata": {},
   "outputs": [
    {
     "name": "stdout",
     "output_type": "stream",
     "text": [
      "[struct2xas] INFO : written FDMNES input -> /tmp/struct2xas-yzlt1g7s/fdmnes/ZnO_mp-997630/Zn/frame0/site0/job_inp.txt\n",
      "[struct2xas] INFO : written FDMNES input -> /tmp/struct2xas-yzlt1g7s/fdmnes/ZnO_mp-997630/Zn/frame0/site1/job_inp.txt\n",
      "[struct2xas] INFO : written FDMNES input -> /tmp/struct2xas-yzlt1g7s/fdmnes/ZnO_mp-997630/Zn/frame0/site2/job_inp.txt\n",
      "[struct2xas] INFO : written FDMNES input -> /tmp/struct2xas-yzlt1g7s/fdmnes/ZnO_mp-997630/Zn/frame0/site3/job_inp.txt\n"
     ]
    }
   ],
   "source": [
    "mypath = None\n",
    "for site in range(mat_obj.nabs_sites): \n",
    "    mat_obj.set_abs_site(site)\n",
    "    mat_obj.make_input_fdmnes(radius=7, green=False, parent_path=mypath)\n",
    "    mypath = mat_obj.parent_path"
   ]
  },
  {
   "cell_type": "code",
   "execution_count": 10,
   "metadata": {},
   "outputs": [
    {
     "name": "stdout",
     "output_type": "stream",
     "text": [
      "[struct2xas] INFO : written FEFF input -> /tmp/struct2xas-yzlt1g7s/feff/ZnO_mp-997630/Zn/frame0/site0/feff.inp\n",
      "[struct2xas] INFO : written FEFF input -> /tmp/struct2xas-yzlt1g7s/feff/ZnO_mp-997630/Zn/frame0/site1/feff.inp\n",
      "[struct2xas] INFO : written FEFF input -> /tmp/struct2xas-yzlt1g7s/feff/ZnO_mp-997630/Zn/frame0/site2/feff.inp\n",
      "[struct2xas] INFO : written FEFF input -> /tmp/struct2xas-yzlt1g7s/feff/ZnO_mp-997630/Zn/frame0/site3/feff.inp\n"
     ]
    }
   ],
   "source": [
    "for site in range(mat_obj.nabs_sites): \n",
    "    mat_obj.set_abs_site(site)\n",
    "    mat_obj.make_input_feff(radius=7, parent_path=mypath)"
   ]
  },
  {
   "attachments": {},
   "cell_type": "markdown",
   "metadata": {},
   "source": [
    "## Example 3: grab CIFs from Materials Project\n",
    "\n",
    "In this example some CIFs files are grabbed from the Materials Project database (MP) via a query and the inputs files are generated.\n",
    "\n",
    "A personal API key is required to query the database (-> [here](https://legacy.materialsproject.org/open). *NOTE* the legacy version is used in this example, that is, the \"old\" version of MP. Export `your_api_key` to the environmental variable `MP_API_KEY`.\n",
    "\n"
   ]
  },
  {
   "cell_type": "code",
   "execution_count": 1,
   "metadata": {},
   "outputs": [],
   "source": [
    "import os\n",
    "from pymatgen.ext.matproj import _MPResterLegacy\n",
    "from larch.xrd.struct2xas import Struct2XAS, save_cif_from_mp\n",
    "\n",
    "api_key = os.getenv(\"MP_API_KEY\")"
   ]
  },
  {
   "cell_type": "markdown",
   "metadata": {},
   "source": [
    "we search for materials containing 2 elements, Zn and O, plus further filter those IDs not present in the ICSD database"
   ]
  },
  {
   "cell_type": "code",
   "execution_count": 2,
   "metadata": {},
   "outputs": [],
   "source": [
    "# criterias to query the materials\n",
    "entries = _MPResterLegacy(api_key).query(criteria={\"elements\": (\"Zn\", \"O\"), \"nelements\": {\"$gte\": 2}}, properties=[\"material_id\", \"icsd_ids\"])\n",
    "mp_ids = [e['material_id'] for e in entries if len(e['icsd_ids']) >= 1]  #: skip materials not present in the ICSD database\n",
    "ids = mp_ids[0:10]"
   ]
  },
  {
   "cell_type": "markdown",
   "metadata": {},
   "source": [
    "save the corresponding CIF files"
   ]
  },
  {
   "cell_type": "code",
   "execution_count": 3,
   "metadata": {},
   "outputs": [
    {
     "name": "stdout",
     "output_type": "stream",
     "text": [
      "[struct2xas] INFO : mp-2229 -> ZnO_mp-2229.cif\n",
      "[struct2xas] INFO : mp-8484 -> ZnO2_mp-8484.cif\n",
      "[struct2xas] INFO : mp-2133 -> ZnO_mp-2133.cif\n",
      "[struct2xas] INFO : mp-1017539 -> ZnO_mp-1017539.cif\n",
      "[struct2xas] INFO : mp-13161 -> ZnO_mp-13161.cif\n",
      "[struct2xas] INFO : mp-1986 -> ZnO_mp-1986.cif\n",
      "CIF files saved in: /tmp/mp-cifs-_rxzb_hq\n"
     ]
    }
   ],
   "source": [
    "cifs_path = None\n",
    "for id in ids:\n",
    "    try:\n",
    "        cifs_path, cif_fname = save_cif_from_mp(api_key, id, parent_path=cifs_path)\n",
    "    except Exception:\n",
    "        print(f\"ERROR: cannot retrieve {id}\")\n",
    "print(f\"CIF files saved in: {cifs_path}\")\n"
   ]
  },
  {
   "cell_type": "markdown",
   "metadata": {},
   "source": [
    "load the CIF files and generate the FDMNES/FEFF inputs"
   ]
  },
  {
   "cell_type": "code",
   "execution_count": 8,
   "metadata": {},
   "outputs": [
    {
     "name": "stdout",
     "output_type": "stream",
     "text": [
      "[struct2xas] INFO : Frames: 1, Absorbing sites: 1. (Indexes for frames and abs_sites start at 0)\n",
      "[struct2xas] INFO : written FDMNES input -> /tmp/struct2xas_ex3_j58c_vyn/fdmnes/ZnO_mp-2229/Zn/frame0/site0/job_inp.txt\n"
     ]
    },
    {
     "name": "stdout",
     "output_type": "stream",
     "text": [
      "[struct2xas] INFO : written FEFF input -> /tmp/struct2xas_ex3_j58c_vyn/feff/ZnO_mp-2229/Zn/frame0/site0/feff.inp\n",
      "[struct2xas] INFO : Frames: 1, Absorbing sites: 1. (Indexes for frames and abs_sites start at 0)\n",
      "[struct2xas] INFO : written FDMNES input -> /tmp/struct2xas_ex3_j58c_vyn/fdmnes/ZnO2_mp-8484/Zn/frame0/site0/job_inp.txt\n",
      "[struct2xas] INFO : written FEFF input -> /tmp/struct2xas_ex3_j58c_vyn/feff/ZnO2_mp-8484/Zn/frame0/site0/feff.inp\n",
      "[struct2xas] INFO : Frames: 1, Absorbing sites: 1. (Indexes for frames and abs_sites start at 0)\n",
      "[struct2xas] INFO : written FDMNES input -> /tmp/struct2xas_ex3_j58c_vyn/fdmnes/ZnO_mp-1017539/Zn/frame0/site0/job_inp.txt\n",
      "[struct2xas] INFO : written FEFF input -> /tmp/struct2xas_ex3_j58c_vyn/feff/ZnO_mp-1017539/Zn/frame0/site0/feff.inp\n",
      "[struct2xas] INFO : Frames: 1, Absorbing sites: 1. (Indexes for frames and abs_sites start at 0)\n",
      "[struct2xas] INFO : written FDMNES input -> /tmp/struct2xas_ex3_j58c_vyn/fdmnes/ZnO_mp-2133/Zn/frame0/site0/job_inp.txt\n",
      "[struct2xas] INFO : written FEFF input -> /tmp/struct2xas_ex3_j58c_vyn/feff/ZnO_mp-2133/Zn/frame0/site0/feff.inp\n",
      "[struct2xas] INFO : Frames: 1, Absorbing sites: 1. (Indexes for frames and abs_sites start at 0)\n",
      "[struct2xas] INFO : written FDMNES input -> /tmp/struct2xas_ex3_j58c_vyn/fdmnes/ZnO_mp-13161/Zn/frame0/site0/job_inp.txt\n",
      "[struct2xas] INFO : written FEFF input -> /tmp/struct2xas_ex3_j58c_vyn/feff/ZnO_mp-13161/Zn/frame0/site0/feff.inp\n",
      "[struct2xas] INFO : Frames: 1, Absorbing sites: 1. (Indexes for frames and abs_sites start at 0)\n",
      "[struct2xas] INFO : written FDMNES input -> /tmp/struct2xas_ex3_j58c_vyn/fdmnes/ZnO_mp-1986/Zn/frame0/site0/job_inp.txt\n",
      "[struct2xas] INFO : written FEFF input -> /tmp/struct2xas_ex3_j58c_vyn/feff/ZnO_mp-1986/Zn/frame0/site0/feff.inp\n"
     ]
    }
   ],
   "source": [
    "import glob\n",
    "import tempfile\n",
    "\n",
    "parent_path = tempfile.mkdtemp(prefix=\"struct2xas_ex3_\")\n",
    "cif_files = glob.glob(f\"{cifs_path}/*\")\n",
    "\n",
    "for cf in cif_files:\n",
    "    s2x = Struct2XAS(cf, abs_atom=\"Zn\")\n",
    "    for abs_site in s2x.get_abs_sites():\n",
    "        s2x.set_abs_site(abs_site[0])\n",
    "        s2x.make_input_fdmnes(radius=7, parent_path=parent_path)\n",
    "        s2x.make_input_feff(radius=7, parent_path=parent_path)\n"
   ]
  },
  {
   "cell_type": "markdown",
   "metadata": {},
   "source": [
    "the next steps consist in running the simulations and comparing with experimental data. This is beyond the scope of current example."
   ]
  },
  {
   "cell_type": "markdown",
   "metadata": {},
   "source": [
    "## Example 4: from XYZ (single or multi-frame) to XAS\n",
    "\n",
    "This example shows the case of XYZ files as input. In particular, in the case the XYZ file contains multiple frames. This is a typical output format of molecular dynamics simulations.\n",
    "\n",
    "Here the case of Ga K-edge of a GaBr solution is taken as example:\n",
    "- Cécile Da Silva, Olivier Proux, Jean-Louis Hazemann, Julianne James-Smith, Denis Testemale, Toshio Yamaguchi,\n",
    "X-ray absorption spectroscopy study of solvation and ion-pairing in aqueous gallium bromide solutions at supercritical conditions,\n",
    "Journal of Molecular Liquids, Volume 147, Issues 1–2, 2009, Pages 83-95, ISSN 0167-7322, [https://doi.org/10.1016/j.molliq.2008.06.022]\n",
    "- The experimental data are taken from the SSHADE database [DOI:10.26302/SSHADE/EXPERIMENT_ST_20180418_001](https://www.sshade.eu/data/EXPERIMENT_ST_20180418_001)\n",
    "- The input structure is manually generated by simply changing the Ga-O distance\n",
    "\n"
   ]
  },
  {
   "cell_type": "code",
   "execution_count": 14,
   "metadata": {},
   "outputs": [
    {
     "name": "stdout",
     "output_type": "stream",
     "text": [
      "[struct2xas] INFO : Frames: 5, Absorbing sites: 1. (Indexes for frames and abs_sites start at 0)\n"
     ]
    }
   ],
   "source": [
    "from larch.xrd.struct2xas import Struct2XAS\n",
    "gabr = Struct2XAS(file=\"../structuredata/struct2xas/GaBr_multi-frame.xyz\", abs_atom=\"Ga\")"
   ]
  },
  {
   "cell_type": "markdown",
   "metadata": {},
   "source": [
    "it is possible to select a given frame, visualize and get the coordination environment"
   ]
  },
  {
   "cell_type": "code",
   "execution_count": 24,
   "metadata": {},
   "outputs": [
    {
     "data": {
      "application/3dmoljs_load.v0": "<div id=\"3dmolviewer_16910553047657096\"  style=\"position: relative; width: 600px; height: 600px\">\n        <p id=\"3dmolwarning_16910553047657096\" style=\"background-color:#ffcccc;color:black\">You appear to be running in JupyterLab (or JavaScript failed to load for some other reason).  You need to install the 3dmol extension: <br>\n        <tt>jupyter labextension install jupyterlab_3dmol</tt></p>\n        </div>\n<script>\n\nvar loadScriptAsync = function(uri){\n  return new Promise((resolve, reject) => {\n    //this is to ignore the existence of requirejs amd\n    var savedexports, savedmodule;\n    if (typeof exports !== 'undefined') savedexports = exports;\n    else exports = {}\n    if (typeof module !== 'undefined') savedmodule = module;\n    else module = {}\n\n    var tag = document.createElement('script');\n    tag.src = uri;\n    tag.async = true;\n    tag.onload = () => {\n        exports = savedexports;\n        module = savedmodule;\n        resolve();\n    };\n  var firstScriptTag = document.getElementsByTagName('script')[0];\n  firstScriptTag.parentNode.insertBefore(tag, firstScriptTag);\n});\n};\n\nif(typeof $3Dmolpromise === 'undefined') {\n$3Dmolpromise = null;\n  $3Dmolpromise = loadScriptAsync('https://cdnjs.cloudflare.com/ajax/libs/3Dmol/2.0.1/3Dmol-min.js');\n}\n\nvar viewer_16910553047657096 = null;\nvar warn = document.getElementById(\"3dmolwarning_16910553047657096\");\nif(warn) {\n    warn.parentNode.removeChild(warn);\n}\n$3Dmolpromise.then(function() {\nviewer_16910553047657096 = $3Dmol.createViewer(document.getElementById(\"3dmolviewer_16910553047657096\"),{backgroundColor:\"white\"});\nviewer_16910553047657096.zoomTo();\n\tviewer_16910553047657096.addModel(\"19\\n\\nGa 0.000000 0.000000 0.000000\\nO 1.960000 0.000000 0.000000\\nO -1.960000 0.000000 0.000000\\nO 0.000000 1.960000 0.000000\\nO 0.000000 -1.960000 0.000000\\nO 0.000000 0.000000 1.960000\\nO 0.000000 0.000000 -1.960000\\nH -0.791840 2.528400 0.000000\\nH 0.791840 -2.528400 0.000000\\nH 0.791840 2.528400 0.000000\\nH -0.791840 -2.528400 0.000000\\nH 0.000000 -0.791840 -2.528400\\nH 0.000000 0.791840 -2.528400\\nH 0.000000 -0.791840 2.528400\\nH 0.000000 0.791840 2.528400\\nH 2.528400 0.000000 0.791840\\nH -2.528400 0.000000 -0.791840\\nH -2.528400 0.000000 0.791840\\nH 2.528400 0.000000 -0.791840\\n\",\"xyz\");\n\tviewer_16910553047657096.setStyle({\"elem\": \"Ga\"},{\"stick\": {\"radius\": 0.1, \"opacity\": 1, \"hidden\": false, \"color\": \"red\"}, \"sphere\": {\"color\": \"red\", \"radius\": 0.4, \"opacity\": 1}});\n\tviewer_16910553047657096.setStyle({\"elem\": \"H\"},{\"stick\": {\"radius\": 0.1, \"opacity\": 1, \"hidden\": false, \"color\": \"blue\"}, \"sphere\": {\"color\": \"blue\", \"radius\": 0.4, \"opacity\": 1}});\n\tviewer_16910553047657096.setStyle({\"elem\": \"O\"},{\"stick\": {\"radius\": 0.1, \"opacity\": 1, \"hidden\": false, \"color\": \"green\"}, \"sphere\": {\"color\": \"green\", \"radius\": 0.4, \"opacity\": 1}});\n\tviewer_16910553047657096.addLabel(\"Abs\",{\"fontColor\": \"black\", \"fontSize\": 14, \"backgroundColor\": \"white\", \"backgroundOpacity\": 0.8, \"showBackground\": true},{\"index\": 0});\n\tviewer_16910553047657096.zoomTo();\nviewer_16910553047657096.render();\n});\n</script>",
      "text/html": [
       "<div id=\"3dmolviewer_16910553047657096\"  style=\"position: relative; width: 600px; height: 600px\">\n",
       "        <p id=\"3dmolwarning_16910553047657096\" style=\"background-color:#ffcccc;color:black\">You appear to be running in JupyterLab (or JavaScript failed to load for some other reason).  You need to install the 3dmol extension: <br>\n",
       "        <tt>jupyter labextension install jupyterlab_3dmol</tt></p>\n",
       "        </div>\n",
       "<script>\n",
       "\n",
       "var loadScriptAsync = function(uri){\n",
       "  return new Promise((resolve, reject) => {\n",
       "    //this is to ignore the existence of requirejs amd\n",
       "    var savedexports, savedmodule;\n",
       "    if (typeof exports !== 'undefined') savedexports = exports;\n",
       "    else exports = {}\n",
       "    if (typeof module !== 'undefined') savedmodule = module;\n",
       "    else module = {}\n",
       "\n",
       "    var tag = document.createElement('script');\n",
       "    tag.src = uri;\n",
       "    tag.async = true;\n",
       "    tag.onload = () => {\n",
       "        exports = savedexports;\n",
       "        module = savedmodule;\n",
       "        resolve();\n",
       "    };\n",
       "  var firstScriptTag = document.getElementsByTagName('script')[0];\n",
       "  firstScriptTag.parentNode.insertBefore(tag, firstScriptTag);\n",
       "});\n",
       "};\n",
       "\n",
       "if(typeof $3Dmolpromise === 'undefined') {\n",
       "$3Dmolpromise = null;\n",
       "  $3Dmolpromise = loadScriptAsync('https://cdnjs.cloudflare.com/ajax/libs/3Dmol/2.0.1/3Dmol-min.js');\n",
       "}\n",
       "\n",
       "var viewer_16910553047657096 = null;\n",
       "var warn = document.getElementById(\"3dmolwarning_16910553047657096\");\n",
       "if(warn) {\n",
       "    warn.parentNode.removeChild(warn);\n",
       "}\n",
       "$3Dmolpromise.then(function() {\n",
       "viewer_16910553047657096 = $3Dmol.createViewer(document.getElementById(\"3dmolviewer_16910553047657096\"),{backgroundColor:\"white\"});\n",
       "viewer_16910553047657096.zoomTo();\n",
       "\tviewer_16910553047657096.addModel(\"19\\n\\nGa 0.000000 0.000000 0.000000\\nO 1.960000 0.000000 0.000000\\nO -1.960000 0.000000 0.000000\\nO 0.000000 1.960000 0.000000\\nO 0.000000 -1.960000 0.000000\\nO 0.000000 0.000000 1.960000\\nO 0.000000 0.000000 -1.960000\\nH -0.791840 2.528400 0.000000\\nH 0.791840 -2.528400 0.000000\\nH 0.791840 2.528400 0.000000\\nH -0.791840 -2.528400 0.000000\\nH 0.000000 -0.791840 -2.528400\\nH 0.000000 0.791840 -2.528400\\nH 0.000000 -0.791840 2.528400\\nH 0.000000 0.791840 2.528400\\nH 2.528400 0.000000 0.791840\\nH -2.528400 0.000000 -0.791840\\nH -2.528400 0.000000 0.791840\\nH 2.528400 0.000000 -0.791840\\n\",\"xyz\");\n",
       "\tviewer_16910553047657096.setStyle({\"elem\": \"Ga\"},{\"stick\": {\"radius\": 0.1, \"opacity\": 1, \"hidden\": false, \"color\": \"red\"}, \"sphere\": {\"color\": \"red\", \"radius\": 0.4, \"opacity\": 1}});\n",
       "\tviewer_16910553047657096.setStyle({\"elem\": \"H\"},{\"stick\": {\"radius\": 0.1, \"opacity\": 1, \"hidden\": false, \"color\": \"blue\"}, \"sphere\": {\"color\": \"blue\", \"radius\": 0.4, \"opacity\": 1}});\n",
       "\tviewer_16910553047657096.setStyle({\"elem\": \"O\"},{\"stick\": {\"radius\": 0.1, \"opacity\": 1, \"hidden\": false, \"color\": \"green\"}, \"sphere\": {\"color\": \"green\", \"radius\": 0.4, \"opacity\": 1}});\n",
       "\tviewer_16910553047657096.addLabel(\"Abs\",{\"fontColor\": \"black\", \"fontSize\": 14, \"backgroundColor\": \"white\", \"backgroundOpacity\": 0.8, \"showBackground\": true},{\"index\": 0});\n",
       "\tviewer_16910553047657096.zoomTo();\n",
       "viewer_16910553047657096.render();\n",
       "});\n",
       "</script>"
      ]
     },
     "metadata": {},
     "output_type": "display_data"
    },
    {
     "name": "stdout",
     "output_type": "stream",
     "text": [
      "[struct2xas] INFO : {'Ga': 'red', 'O': 'green', 'H': 'blue'}\n"
     ]
    }
   ],
   "source": [
    "gabr.set_frame(2)\n",
    "gabr.visualize(5)"
   ]
  },
  {
   "cell_type": "code",
   "execution_count": 25,
   "metadata": {},
   "outputs": [
    {
     "name": "stdout",
     "output_type": "stream",
     "text": [
      "Coord. Env. from absorber atom: Ga at site 0\n",
      "(For more details use get_coord_envs() method) \n"
     ]
    },
    {
     "data": {
      "text/plain": [
       "(\"Elements Dict = {'O': 6}\",\n",
       "   Element  Distance\n",
       " 0     (O)      1.96\n",
       " 1     (O)      1.96\n",
       " 2     (O)      1.96\n",
       " 3     (O)      1.96\n",
       " 4     (O)      1.96\n",
       " 5     (O)      1.96)"
      ]
     },
     "execution_count": 25,
     "metadata": {},
     "output_type": "execute_result"
    }
   ],
   "source": [
    "gabr.get_coord_envs_info()"
   ]
  },
  {
   "cell_type": "code",
   "execution_count": null,
   "metadata": {},
   "outputs": [],
   "source": []
  },
  {
   "cell_type": "code",
   "execution_count": null,
   "metadata": {},
   "outputs": [],
   "source": []
  },
  {
   "cell_type": "code",
   "execution_count": null,
   "metadata": {},
   "outputs": [],
   "source": []
  },
  {
   "cell_type": "markdown",
   "metadata": {},
   "source": [
    "\n"
   ]
  },
  {
   "cell_type": "code",
   "execution_count": null,
   "metadata": {},
   "outputs": [],
   "source": []
  },
  {
   "cell_type": "code",
   "execution_count": null,
   "metadata": {},
   "outputs": [],
   "source": []
  }
 ],
 "metadata": {
  "kernelspec": {
   "display_name": "Python 3",
   "language": "python",
   "name": "python3"
  },
  "language_info": {
   "codemirror_mode": {
    "name": "ipython",
    "version": 3
   },
   "file_extension": ".py",
   "mimetype": "text/x-python",
   "name": "python",
   "nbconvert_exporter": "python",
   "pygments_lexer": "ipython3",
   "version": "3.9.0"
  },
  "pycharm": {
   "stem_cell": {
    "cell_type": "raw",
    "metadata": {
     "collapsed": false
    },
    "source": []
   }
  },
  "toc": {
   "base_numbering": 1,
   "nav_menu": {},
   "number_sections": true,
   "sideBar": true,
   "skip_h1_title": false,
   "title_cell": "Table of Contents",
   "title_sidebar": "Contents",
   "toc_cell": false,
   "toc_position": {},
   "toc_section_display": true,
   "toc_window_display": false
  },
  "varInspector": {
   "cols": {
    "lenName": 16,
    "lenType": 16,
    "lenVar": 40
   },
   "kernels_config": {
    "python": {
     "delete_cmd_postfix": "",
     "delete_cmd_prefix": "del ",
     "library": "var_list.py",
     "varRefreshCmd": "print(var_dic_list())"
    },
    "r": {
     "delete_cmd_postfix": ") ",
     "delete_cmd_prefix": "rm(",
     "library": "var_list.r",
     "varRefreshCmd": "cat(var_dic_list()) "
    }
   },
   "types_to_exclude": [
    "module",
    "function",
    "builtin_function_or_method",
    "instance",
    "_Feature"
   ],
   "window_display": false
  }
 },
 "nbformat": 4,
 "nbformat_minor": 4
}
